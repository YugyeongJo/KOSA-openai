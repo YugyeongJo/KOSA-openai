{
 "cells": [
  {
   "cell_type": "code",
   "execution_count": 3,
   "metadata": {
    "colab": {
     "base_uri": "https://localhost:8080/"
    },
    "executionInfo": {
     "elapsed": 5059,
     "status": "ok",
     "timestamp": 1730081857507,
     "user": {
      "displayName": "주식회사한시경",
      "userId": "01036671795204052858"
     },
     "user_tz": -540
    },
    "id": "piZgWHCDo6C7",
    "outputId": "9a664bc8-7955-4af2-9fa8-38bc0d0489f9"
   },
   "outputs": [
    {
     "name": "stdout",
     "output_type": "stream",
     "text": [
      "Collecting openai==0.28\n",
      "  Using cached openai-0.28.0-py3-none-any.whl.metadata (13 kB)\n",
      "Requirement already satisfied: requests>=2.20 in c:\\users\\yugye\\appdata\\local\\anaconda3\\envs\\kosa\\lib\\site-packages (from openai==0.28) (2.32.3)\n",
      "Requirement already satisfied: tqdm in c:\\users\\yugye\\appdata\\local\\anaconda3\\envs\\kosa\\lib\\site-packages (from openai==0.28) (4.67.1)\n",
      "Requirement already satisfied: aiohttp in c:\\users\\yugye\\appdata\\local\\anaconda3\\envs\\kosa\\lib\\site-packages (from openai==0.28) (3.11.14)\n",
      "Requirement already satisfied: charset-normalizer<4,>=2 in c:\\users\\yugye\\appdata\\local\\anaconda3\\envs\\kosa\\lib\\site-packages (from requests>=2.20->openai==0.28) (3.4.1)\n",
      "Requirement already satisfied: idna<4,>=2.5 in c:\\users\\yugye\\appdata\\local\\anaconda3\\envs\\kosa\\lib\\site-packages (from requests>=2.20->openai==0.28) (3.10)\n",
      "Requirement already satisfied: urllib3<3,>=1.21.1 in c:\\users\\yugye\\appdata\\local\\anaconda3\\envs\\kosa\\lib\\site-packages (from requests>=2.20->openai==0.28) (2.3.0)\n",
      "Requirement already satisfied: certifi>=2017.4.17 in c:\\users\\yugye\\appdata\\local\\anaconda3\\envs\\kosa\\lib\\site-packages (from requests>=2.20->openai==0.28) (2025.1.31)\n",
      "Requirement already satisfied: aiohappyeyeballs>=2.3.0 in c:\\users\\yugye\\appdata\\local\\anaconda3\\envs\\kosa\\lib\\site-packages (from aiohttp->openai==0.28) (2.6.1)\n",
      "Requirement already satisfied: aiosignal>=1.1.2 in c:\\users\\yugye\\appdata\\local\\anaconda3\\envs\\kosa\\lib\\site-packages (from aiohttp->openai==0.28) (1.3.2)\n",
      "Requirement already satisfied: async-timeout<6.0,>=4.0 in c:\\users\\yugye\\appdata\\local\\anaconda3\\envs\\kosa\\lib\\site-packages (from aiohttp->openai==0.28) (5.0.1)\n",
      "Requirement already satisfied: attrs>=17.3.0 in c:\\users\\yugye\\appdata\\local\\anaconda3\\envs\\kosa\\lib\\site-packages (from aiohttp->openai==0.28) (25.3.0)\n",
      "Requirement already satisfied: frozenlist>=1.1.1 in c:\\users\\yugye\\appdata\\local\\anaconda3\\envs\\kosa\\lib\\site-packages (from aiohttp->openai==0.28) (1.5.0)\n",
      "Requirement already satisfied: multidict<7.0,>=4.5 in c:\\users\\yugye\\appdata\\local\\anaconda3\\envs\\kosa\\lib\\site-packages (from aiohttp->openai==0.28) (6.2.0)\n",
      "Requirement already satisfied: propcache>=0.2.0 in c:\\users\\yugye\\appdata\\local\\anaconda3\\envs\\kosa\\lib\\site-packages (from aiohttp->openai==0.28) (0.3.1)\n",
      "Requirement already satisfied: yarl<2.0,>=1.17.0 in c:\\users\\yugye\\appdata\\local\\anaconda3\\envs\\kosa\\lib\\site-packages (from aiohttp->openai==0.28) (1.18.3)\n",
      "Requirement already satisfied: colorama in c:\\users\\yugye\\appdata\\local\\anaconda3\\envs\\kosa\\lib\\site-packages (from tqdm->openai==0.28) (0.4.6)\n",
      "Requirement already satisfied: typing-extensions>=4.1.0 in c:\\users\\yugye\\appdata\\local\\anaconda3\\envs\\kosa\\lib\\site-packages (from multidict<7.0,>=4.5->aiohttp->openai==0.28) (4.12.2)\n",
      "Using cached openai-0.28.0-py3-none-any.whl (76 kB)\n",
      "Installing collected packages: openai\n",
      "  Attempting uninstall: openai\n",
      "    Found existing installation: openai 1.68.2\n",
      "    Uninstalling openai-1.68.2:\n",
      "      Successfully uninstalled openai-1.68.2\n",
      "Successfully installed openai-0.28.0\n",
      "Note: you may need to restart the kernel to use updated packages.\n"
     ]
    }
   ],
   "source": [
    "%pip install openai==0.28"
   ]
  },
  {
   "cell_type": "code",
   "execution_count": 1,
   "metadata": {
    "colab": {
     "base_uri": "https://localhost:8080/",
     "height": 36
    },
    "executionInfo": {
     "elapsed": 609,
     "status": "ok",
     "timestamp": 1730081939385,
     "user": {
      "displayName": "주식회사한시경",
      "userId": "01036671795204052858"
     },
     "user_tz": -540
    },
    "id": "1_cbTMkq5pA1",
    "outputId": "8b4fd025-b51e-4a8a-943a-a7be6091455a"
   },
   "outputs": [
    {
     "data": {
      "text/plain": [
       "'0.28.0'"
      ]
     },
     "execution_count": 1,
     "metadata": {},
     "output_type": "execute_result"
    }
   ],
   "source": [
    "import openai\n",
    "\n",
    "openai.__version__"
   ]
  },
  {
   "cell_type": "code",
   "execution_count": 3,
   "metadata": {
    "id": "OFTP5u-s6dsD"
   },
   "outputs": [],
   "source": [
    "# api 키 불러오기\n",
    "import os\n",
    "import openai\n",
    "from dotenv import load_dotenv\n",
    "\n",
    "load_dotenv()\n",
    "OPENAI_API_KEY = os.getenv('OPENAI_API_KEY')\n",
    "\n",
    "#api 키 직접 연결하기\n",
    "openai.api_key = OPENAI_API_KEY"
   ]
  },
  {
   "cell_type": "code",
   "execution_count": 4,
   "metadata": {
    "colab": {
     "base_uri": "https://localhost:8080/"
    },
    "executionInfo": {
     "elapsed": 6142,
     "status": "ok",
     "timestamp": 1730082052736,
     "user": {
      "displayName": "주식회사한시경",
      "userId": "01036671795204052858"
     },
     "user_tz": -540
    },
    "id": "hm9kyp25o6Fy",
    "outputId": "0aeaa4e0-129a-488d-d090-af1d189e1eef"
   },
   "outputs": [
    {
     "name": "stdout",
     "output_type": "stream",
     "text": [
      "카리나씨의 MBTI가 INFP이시군요! INFP 유형은 창의적이고 따뜻한 성향을 가지고 있어요. 100일 기념 선물로는 카리나씨가 좋아할 만한 선물을 준비하는 것이 중요합니다.\n",
      "\n",
      "일반적으로 INFP 유형은 감성적이고 로맨틱한 성향을 가지고 있기 때문에, 손으로 만든 작품이나 직접 고른 선물이 더욱 감동을 줄 수 있어요. 여기 몇 가지 아이디어를 드릴게요:\n",
      "\n",
      "1. 손으로 만든 선물: 카리나씨의 취향에 맞는 액세서리, 자수 작품, 그림, 손글씨 편지 등을 준비해보세요. 손으로 만든 선물은 직접 만든 마음이 담겨 있어 더욱 소중하게 느껴질 수 있어요.\n",
      "\n",
      "2. 로맨틱한 데이트: 특별한 데이트를 준비해보세요. 카리나씨가 좋아하는 장소로 데이트를 떠나거나, 함께하는 시간을 특별하게 만들어보세요.\n",
      "\n",
      "3. 특별한 경험 선물: 카리나씨가 항상 해보고 싶었던 활동이나 체험을 선물해보는 것도 좋은 아이디어입니다. 예를 들어, 요가 수업, 요리 교실, 체험학습 등을 준비해보세요.\n",
      "\n",
      "100일 기념 선물을 준비할 때, 카리나씨의 취향과 선호를 고려하여 선물을 선택해주시면 더욱 의미있고 감동적인 선물이 될 거예요. 함께 행복한 시간을 보내시길 바라며, 축하드립니다!\n"
     ]
    }
   ],
   "source": [
    "model = 'gpt-3.5-turbo'\n",
    "\n",
    "query = '''\n",
    "상대방 MBTI : infp\n",
    "상대방 이름 : 카리나\n",
    "관계 : 연인\n",
    "상황 : 만난 지 100일 된 상황\n",
    "질문 : 100일 기념 선물로 무엇이 좋을 거 같아? 보통 어떤 것을 선물하니?\n",
    "'''\n",
    "# few shot\n",
    "\n",
    "messages = [\n",
    "    {'role': 'system', 'content': '연예코치'},\n",
    "     {'role': 'user', 'content': query}\n",
    "            ]\n",
    "\n",
    "\n",
    "try:\n",
    "    response = openai.ChatCompletion.create(\n",
    "                            model = model,\n",
    "                            messages=messages,\n",
    "                            temperature=0.7\n",
    "                            # 0에 가까울 수록 일반적 답변\n",
    "                        )\n",
    "\n",
    "    answer = response.choices[0].message['content']\n",
    "    print(answer)\n",
    "\n",
    "except Exception as e:\n",
    "    print(f'에러가 발생했어요: {e}')"
   ]
  },
  {
   "cell_type": "markdown",
   "metadata": {
    "id": "iqCNC-fGshpY"
   },
   "source": [
    "MBTI 입력받기"
   ]
  },
  {
   "cell_type": "code",
   "execution_count": 5,
   "metadata": {
    "colab": {
     "base_uri": "https://localhost:8080/",
     "height": 54
    },
    "executionInfo": {
     "elapsed": 4467,
     "status": "ok",
     "timestamp": 1730082063388,
     "user": {
      "displayName": "주식회사한시경",
      "userId": "01036671795204052858"
     },
     "user_tz": -540
    },
    "id": "sw3IQd_Ho6Ih",
    "outputId": "e4ac8e5d-20be-4d27-b8bb-a58fb0edef57"
   },
   "outputs": [
    {
     "data": {
      "text/plain": [
       "'ENFJ'"
      ]
     },
     "execution_count": 5,
     "metadata": {},
     "output_type": "execute_result"
    }
   ],
   "source": [
    "# 사용자로부터 MBTI와 관계, 상황에 대한 입력 받아 볼게요.\n",
    "\n",
    "input(\"내 MBTI : \").upper() # 대문자로 일괄 변환"
   ]
  },
  {
   "cell_type": "code",
   "execution_count": 6,
   "metadata": {
    "colab": {
     "base_uri": "https://localhost:8080/"
    },
    "executionInfo": {
     "elapsed": 41732,
     "status": "ok",
     "timestamp": 1730082108342,
     "user": {
      "displayName": "주식회사한시경",
      "userId": "01036671795204052858"
     },
     "user_tz": -540
    },
    "id": "SmtOGDDMo6LJ",
    "outputId": "e5d3d506-4063-4772-e75b-5cac16146d41"
   },
   "outputs": [],
   "source": [
    "my_mbti = input(\"내 MBTI : \").upper() # 대문자로 일괄 변환\n",
    "your_mbti = input(\"상대방 MBTI : \").upper() # 대문자로 일괄 변환\n",
    "your_name = input(\"상대방 이름 : \")\n",
    "relation = input('관계: ')\n",
    "situation  = input('상황: ')\n",
    "question = input('질문: ')\n",
    "\n",
    "query = f'''\n",
    "내 MBTI : {my_mbti}\n",
    "상대방 MBTI : {your_mbti}\n",
    "상대방 이름 : {your_name}\n",
    "관계 : {relation}\n",
    "상황 : {situation}\n",
    "질문 : {question}\n",
    "'''"
   ]
  },
  {
   "cell_type": "code",
   "execution_count": 7,
   "metadata": {
    "executionInfo": {
     "elapsed": 479,
     "status": "ok",
     "timestamp": 1730082114902,
     "user": {
      "displayName": "주식회사한시경",
      "userId": "01036671795204052858"
     },
     "user_tz": -540
    },
    "id": "Xivq1IbIyahV"
   },
   "outputs": [],
   "source": [
    "messages = [\n",
    "    {'role': 'system', 'content': '연애상담사'},\n",
    "     {'role': 'user', 'content': query}\n",
    "            ]"
   ]
  },
  {
   "cell_type": "code",
   "execution_count": 8,
   "metadata": {
    "colab": {
     "base_uri": "https://localhost:8080/"
    },
    "executionInfo": {
     "elapsed": 8463,
     "status": "ok",
     "timestamp": 1730082131285,
     "user": {
      "displayName": "주식회사한시경",
      "userId": "01036671795204052858"
     },
     "user_tz": -540
    },
    "id": "Z5z9aMtEyz_B",
    "outputId": "da231e37-ab12-442b-867e-174bff8292be"
   },
   "outputs": [
    {
     "name": "stdout",
     "output_type": "stream",
     "text": [
      "ENFJ와 INFJ는 둘 다 감수성이 풍부하고 서로를 이해하고 지지해주는 관계를 선호하는 특성을 가지고 있습니다. 따라서 아래와 같은 대화 주제를 통해 서로의 관심사와 생각을 공유하며 더욱 깊은 이해를 도모할 수 있을 것입니다.\n",
      "\n",
      "1. **가치관과 이상에 관한 이야기**: 서로의 인생 목표와 가치관, 이상에 대해 이야기해보는 것은 서로를 더 깊게 이해하고 서로를 더 잘 지지할 수 있는 계기가 될 수 있습니다.\n",
      "   \n",
      "2. **미래에 대한 계획과 꿈에 관한 대화**: 서로의 미래에 대한 계획과 꿈에 대해 이야기해보면 서로의 방향성을 공유하고 서로를 더 지지해줄 수 있을 것입니다.\n",
      "   \n",
      "3. **서로의 취미와 관심사에 대한 대화**: 서로의 취미와 관심사를 공유하고 함께 즐길 수 있는 활동에 대해 이야기해보면 더 가까워질 수 있을 것입니다.\n",
      "   \n",
      "4. **감정에 관한 대화**: 서로의 감정을 솔직하게 이야기하고 서로를 위로해주며 공감해주는 대화를 통해 서로의 감정적인 연결을 높일 수 있을 것입니다.\n",
      "\n",
      "이러한 주제들을 통해 서로의 깊은 이해와 연결을 높일 수 있을 것이니, 만두와 함께 솔직하고 열린 대화를 통해 더욱 더 깊은 관계를 쌓아가시길 바랍니다.\n"
     ]
    }
   ],
   "source": [
    "try:\n",
    "    response = openai.ChatCompletion.create(\n",
    "                            model = model,\n",
    "                            messages=messages,\n",
    "                            temperature=0.7\n",
    "                            # 0에 가까울 수록 일반적 답변\n",
    "                        )\n",
    "\n",
    "    answer = response.choices[0].message['content']\n",
    "    print(answer)\n",
    "\n",
    "except Exception as e:\n",
    "    print(f'에러가 발생했어요: {e}')"
   ]
  },
  {
   "cell_type": "code",
   "execution_count": null,
   "metadata": {
    "colab": {
     "base_uri": "https://localhost:8080/"
    },
    "id": "pYYt3uEh1k7u",
    "outputId": "05f41fa5-a9c9-4a4d-e0c1-d947b5913a64"
   },
   "outputs": [
    {
     "name": "stdout",
     "output_type": "stream",
     "text": [
      "================================================================================\n"
     ]
    }
   ],
   "source": [
    "print('=='*40)"
   ]
  },
  {
   "cell_type": "markdown",
   "metadata": {
    "id": "FPQyDAIlzJ-B"
   },
   "source": [
    "나만의 연애상담 봇_love_coach"
   ]
  },
  {
   "cell_type": "code",
   "execution_count": 9,
   "metadata": {
    "colab": {
     "base_uri": "https://localhost:8080/"
    },
    "executionInfo": {
     "elapsed": 78357,
     "status": "ok",
     "timestamp": 1730082237186,
     "user": {
      "displayName": "주식회사한시경",
      "userId": "01036671795204052858"
     },
     "user_tz": -540
    },
    "id": "iXpYchJfzPvv",
    "outputId": "76ad7a7d-4cbf-4125-c555-e9140120f42e"
   },
   "outputs": [
    {
     "name": "stdout",
     "output_type": "stream",
     "text": [
      "답변을 준비중입니다...잠시만 기다려 주실거죠\n",
      "ENTJ와 INFJ는 서로를 보완해주는 유사한 특성을 가지고 있기 때문에 깊은 관계를 형성하기에 이상적인 조합입니다. 만두와의 관계를 발전시키기 위해 몇 가지 제안을 해드릴게요.\n",
      "\n",
      "1. 솔직하고 열린 소통: ENTJ와 INFJ는 둘 다 솔직한 소통을 중요시 하는 편입니다. 만두와의 관계에서도 솔직하고 열린 소통을 유지하면 서로에게 더 가까워질 수 있습니다.\n",
      "\n",
      "2. 서로를 이해하고 존중하기: INFJ는 감수성이 풍부하고 배려심이 깊은 편이기 때문에 만두의 감정을 이해하고 존중하는 것이 중요합니다. ENTJ는 목표지향적이고 현실적인 편이기 때문에 서로의 차이를 이해하고 존중해주는 것이 중요합니다.\n",
      "\n",
      "3. 함께 하는 취미나 관심사 발견하기: 함께 하는 취미나 관심사를 발견하고 그것을 통해 서로의 관계를 더욱 발전시킬 수 있습니다. 만두와 함께 하는 새로운 경험을 만들어보세요.\n",
      "\n",
      "4. 서로를 격려하고 지지하기: 만두의 장점을 인정하고 격려해주는 것은 관계를 더욱 튼튼하게 만들어줄 수 있습니다. 또한, 만두가 어려움을 겪을 때는 ENTJ의 지지와 도움이 큰 힘이 될 것입니다.\n",
      "\n",
      "5. 함께 성장하기: 서로의 발전을 응원하고 함께 성장하는 과정을 즐기는 것도 중요합니다. 서로의 목표와 꿈을 이해하고 서로를 도와주며 발전해 나가는 과정이 관계를 더욱 튼튼하게 만들어줄 것입니다.\n",
      "\n",
      "이러한 방법들을 통해 만두와의 관계를 더욱 발전시키고 더욱 행복한 관계를 유지할 수 있을 것입니다. 함께 행복한 시간을 보내시길 바라며 응원합니다.\n",
      "답변을 준비중이예요.....\n",
      "================================================================================================================================================================\n",
      "사소한 부분에서 충돌이 발생하는 것은 관계에서 자주 발생할 수 있는 일입니다. 이를 해결하기 위해 몇 가지 방법을 시도해볼 수 있습니다.\n",
      "\n",
      "1. 이해와 양보: 서로가 다른 점을 이해하고 양보하는 것이 중요합니다. 만두의 관점을 이해하고 상황을 너그럽게 받아들이는 것이 서로의 이해관계를 도울 수 있습니다.\n",
      "\n",
      "2. 솔직한 대화: 사소한 충돌이라도 서로의 감정을 솔직하게 표현하고 이야기하는 것이 중요합니다. 미리 불만이 커지기 전에 서로의 생각과 감정을 솔직하게 나누는 것이 좋습니다.\n",
      "\n",
      "3. 융통성과 타협: 양쪽이 서로에게 융통성을 발휘하고 타협할 수 있는 방법을 찾는 것이 중요합니다. 양쪽이 서로 어떻게 상충되는 부분을 조율할 수 있는지 고민하고 합의점을 찾아보는 것이 좋습니다.\n",
      "\n",
      "4. 긍정적인 태도: 사소한 충돌이 있을 때도 긍정적인 태도를 유지하려 노력하는 것이 중요합니다. 상대방을 비난하거나 비판하는 대신 긍정적인 관점을 유지하면서 해결책을 찾아가는 것이 관계를 더욱 건강하게 유지할 수 있습니다.\n",
      "\n",
      "사소한 충돌이 발생하더라도 서로의 관계를 중요시하고 서로를 이해하며 함께 해결해 나가는 과정을 통해 더욱 성숙한 관계를 형성할 수 있습니다. 소중한 만두와의 관계를 더욱 발전시키기 위해 서로를 존중하고 이해해가는 노력을 계속해주시기를 바랍니다.\n",
      "답변을 준비중이예요.....\n",
      "================================================================================================================================================================\n",
      "이러한 상황에서는 상대방의 갈등을 회피하는 성향과 여러분의 갈등을 직면하고 해결책을 찾아야 하는 성향 사이에서 균형을 찾는 것이 중요합니다. 아래는 이를 위해 시도해볼 수 있는 몇 가지 방법입니다.\n",
      "\n",
      "1. 이해와 인내심: 만두가 갈등을 피하는 성향을 가지고 있기 때문에 그의 입장을 이해하고 인내심을 갖는 것이 중요합니다. 상대방의 감정과 성향을 이해하고 이를 존중해주는 것이 관계를 유지하는 데 도움이 됩니다.\n",
      "\n",
      "2. 조화의 방법 찾기: 양측의 성향을 고려하여 갈등 상황에서 조화의 방법을 찾아가는 것이 중요합니다. 만두가 회피하는 성향이 있을 때는 갈등을 피하지 않고, 대신 상대방의 감정을 존중하면서 조화를 이루는 방법을 모색해보세요.\n",
      "\n",
      "3. 소통의 중요성 강조: 만두가 갈등을 피하는 성향이 있다면, 소통이 더욱 중요해집니다. 서로의 감정과 생각을 열렬하게 공유하고 이해하는 것이 갈등을 해결하고 관계를 발전시키는데 도움이 됩니다.\n",
      "\n",
      "4. 상담이나 중재 역할 고려: 만두와 함께 상담이나 중재를 통해 갈등 상황을 해결할 수도 있습니다. 외부의 도움을 받아 서로의 의견을 조율하고 해결책을 찾는 과정에서 더욱 성장할 수 있을 것입니다.\n",
      "\n",
      "양측의 성향을 고려하고 서로의 의견을 존중하면서 갈등을 해결해 나가는 것이 중요합니다. 서로를 이해하고 지지해주는 관계를 유지하기 위해 노력하면서, 함께 성장하고 발전해 나가는 과정을 즐기시기를 바랍니다.\n",
      "답변을 준비중이예요.....\n",
      "================================================================================================================================================================\n",
      "회피성향과 해결해야 하는 성향이 부딪힐 때는 상황을 냉정하게 판단하고 적절한 대응 방법을 찾는 것이 중요합니다. 아래는 이러한 상황에서 시도해볼 수 있는 몇 가지 전략입니다.\n",
      "\n",
      "1. 상황을 이해하고 인내심을 갖기: 먼저 서로의 성향과 이에 대한 이해를 바탕으로 상황을 다양한 관점에서 바라보고 인내심을 갖는 것이 중요합니다. 각자의 성향을 존중하고 상대방의 입장을 이해하려 노력해보세요.\n",
      "\n",
      "2. 중재자나 외부 전문가의 도움을 받기: 갈등 상황을 해결하기 어려운 경우 중재자나 외부 전문가의 도움을 받는 것도 좋은 방법입니다. 중립적인 입장에서 상황을 평가하고 조언을 제공하여 갈등을 해결할 수 있도록 도와줄 수 있습니다.\n",
      "\n",
      "3. 소통과 타협의 중요성 강조: 갈등 상황에서는 소통과 타협이 매우 중요합니다. 서로의 의견을 열린 마음가짐으로 듣고 서로가 만족할 수 있는 타협안을 찾아가는 것이 중요합니다.\n",
      "\n",
      "4. 해결책 모색: 양측의 요구사항과 우려를 고려하여 해결책을 모색해보세요. 서로가 만족할 수 있는 중간지점을 찾아가는 것이 중요합니다. 갈등을 해결하고 관계를 발전시키는 데 도움이 될 것입니다.\n",
      "\n",
      "각자의 성향을 존중하고 서로를 이해하며 해결책을 찾아가는 과정에서 서로를 더욱 존중하고 신뢰할 수 있는 관계를 형성할 수 있을 것입니다. 함께 문제를 해결하고 성장해 나가는 과정에서 더욱 강한 결속력을 형성할 수 있을 것입니다.\n",
      "답변을 준비중이예요.....\n",
      "================================================================================================================================================================\n",
      "알겠습니다. 궁금한 점이 있으시면 언제든지 물어보세요! 도움이 필요하시면 제게 말씀해주세요. 함께 해결해 나가겠습니다. 감사합니다. 😊\n",
      "종료합니다.\n"
     ]
    }
   ],
   "source": [
    "my_mbti = input(\"내 MBTI : \").upper() # 대문자로 일괄 변환\n",
    "your_mbti = input(\"상대방 MBTI : \").upper() # 대문자로 일괄 변환\n",
    "your_name = input(\"상대방 이름 : \")\n",
    "relation = input('관계: ')\n",
    "situation  = input('상황: ')\n",
    "question = input('질문: ')\n",
    "\n",
    "query = f'''\n",
    "내 MBTI : {my_mbti}\n",
    "상대방 MBTI : {your_mbti}\n",
    "상대방 이름 : {your_name}\n",
    "관계 : {relation}\n",
    "상황 : {situation}\n",
    "질문 : {question}\n",
    "'''\n",
    "\n",
    "messages = [\n",
    "    {'role': 'system', 'content': '연예상담사'},\n",
    "     {'role': 'user', 'content': query}\n",
    "            ]\n",
    "\n",
    "print('답변을 준비중입니다...잠시만 기다려 주실거죠')\n",
    "\n",
    "\n",
    "response = openai.ChatCompletion.create(\n",
    "                            model = model,\n",
    "                            messages=messages,\n",
    "                            temperature=0.7\n",
    "                            # 0에 가까울 수록 일반적 답변\n",
    "                        )\n",
    "\n",
    "answer = response.choices[0].message['content']\n",
    "messages.append({'role':'assistant', 'content': answer})\n",
    "print(answer)\n",
    "\n",
    "# 질문이 끊기지 않고 계속 하도록 while 사용 (multi-turn 구현)\n",
    "\n",
    "while True:\n",
    "    # 사용자로부터 질문을 받습니다.\n",
    "    question = input('질문: ')\n",
    "    query = f'Q: {question}'\n",
    "    # 질문을 메시지 배열에 추가합니다.\n",
    "    messages.append({'role': 'user', 'content': query})\n",
    "    # chatGPT API 호출 >> 응답 받습니다.\n",
    "    print('답변을 준비중이예요.....')\n",
    "    response = openai.ChatCompletion.create(\n",
    "                            model = model,\n",
    "                            messages=messages,\n",
    "                            temperature=0.7\n",
    "                            # 0에 가까울 수록 일반적 답변\n",
    "                        )\n",
    "    answer = response.choices[0].message['content']\n",
    "    # 응답을 출력합니다.\n",
    "    print('=='*80)\n",
    "    print(answer)\n",
    "    messages.append({'role':'assistant', 'content': answer})\n",
    "    # 사용자에게 더 질문할 건지 확인\n",
    "    while True:\n",
    "        q = input('더 질문하실건가요?(y/n): ').lower() # 입력된 영어문자를 전부 소문자로 변환\n",
    "        if q in ['y', 'n', 'ㅛ','ㅜ']:\n",
    "            break  # 정지조건\n",
    "        else:\n",
    "            print(\"유효한 입력이 아닙니다. y 나 n 선택해서 다시 입력해 주세요\")\n",
    "\n",
    "    if q in ['n', 'ㅜ']:\n",
    "        print(\"종료합니다.\")\n",
    "        break"
   ]
  },
  {
   "cell_type": "code",
   "execution_count": null,
   "metadata": {},
   "outputs": [],
   "source": []
  }
 ],
 "metadata": {
  "accelerator": "GPU",
  "colab": {
   "gpuType": "T4",
   "provenance": []
  },
  "kernelspec": {
   "display_name": "KOSA",
   "language": "python",
   "name": "python3"
  },
  "language_info": {
   "codemirror_mode": {
    "name": "ipython",
    "version": 3
   },
   "file_extension": ".py",
   "mimetype": "text/x-python",
   "name": "python",
   "nbconvert_exporter": "python",
   "pygments_lexer": "ipython3",
   "version": "3.10.16"
  }
 },
 "nbformat": 4,
 "nbformat_minor": 0
}
