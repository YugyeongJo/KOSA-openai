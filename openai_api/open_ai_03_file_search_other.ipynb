{
 "cells": [
  {
   "cell_type": "code",
   "execution_count": null,
   "id": "969559a4",
   "metadata": {},
   "outputs": [
    {
     "name": "stdout",
     "output_type": "stream",
     "text": [
      "Requirement already satisfied: openai in /Users/parkyunsu/anaconda3/envs/edu/lib/python3.12/site-packages (1.68.2)\n",
      "Requirement already satisfied: anyio<5,>=3.5.0 in /Users/parkyunsu/anaconda3/envs/edu/lib/python3.12/site-packages (from openai) (4.9.0)\n",
      "Requirement already satisfied: distro<2,>=1.7.0 in /Users/parkyunsu/anaconda3/envs/edu/lib/python3.12/site-packages (from openai) (1.9.0)\n",
      "Requirement already satisfied: httpx<1,>=0.23.0 in /Users/parkyunsu/anaconda3/envs/edu/lib/python3.12/site-packages (from openai) (0.28.1)\n",
      "Requirement already satisfied: jiter<1,>=0.4.0 in /Users/parkyunsu/anaconda3/envs/edu/lib/python3.12/site-packages (from openai) (0.9.0)\n",
      "Requirement already satisfied: pydantic<3,>=1.9.0 in /Users/parkyunsu/anaconda3/envs/edu/lib/python3.12/site-packages (from openai) (2.10.6)\n",
      "Requirement already satisfied: sniffio in /Users/parkyunsu/anaconda3/envs/edu/lib/python3.12/site-packages (from openai) (1.3.1)\n",
      "Requirement already satisfied: tqdm>4 in /Users/parkyunsu/anaconda3/envs/edu/lib/python3.12/site-packages (from openai) (4.67.1)\n",
      "Requirement already satisfied: typing-extensions<5,>=4.11 in /Users/parkyunsu/anaconda3/envs/edu/lib/python3.12/site-packages (from openai) (4.12.2)\n",
      "Requirement already satisfied: idna>=2.8 in /Users/parkyunsu/anaconda3/envs/edu/lib/python3.12/site-packages (from anyio<5,>=3.5.0->openai) (3.10)\n",
      "Requirement already satisfied: certifi in /Users/parkyunsu/anaconda3/envs/edu/lib/python3.12/site-packages (from httpx<1,>=0.23.0->openai) (2025.1.31)\n",
      "Requirement already satisfied: httpcore==1.* in /Users/parkyunsu/anaconda3/envs/edu/lib/python3.12/site-packages (from httpx<1,>=0.23.0->openai) (1.0.7)\n",
      "Requirement already satisfied: h11<0.15,>=0.13 in /Users/parkyunsu/anaconda3/envs/edu/lib/python3.12/site-packages (from httpcore==1.*->httpx<1,>=0.23.0->openai) (0.14.0)\n",
      "Requirement already satisfied: annotated-types>=0.6.0 in /Users/parkyunsu/anaconda3/envs/edu/lib/python3.12/site-packages (from pydantic<3,>=1.9.0->openai) (0.7.0)\n",
      "Requirement already satisfied: pydantic-core==2.27.2 in /Users/parkyunsu/anaconda3/envs/edu/lib/python3.12/site-packages (from pydantic<3,>=1.9.0->openai) (2.27.2)\n",
      "Note: you may need to restart the kernel to use updated packages.\n"
     ]
    }
   ],
   "source": [
    "%pip install openai"
   ]
  },
  {
   "cell_type": "code",
   "execution_count": null,
   "id": "25a8c460-4fa3-4310-b82c-34f912ac281b",
   "metadata": {
    "executionInfo": {
     "elapsed": 451,
     "status": "ok",
     "timestamp": 1737307378082,
     "user": {
      "displayName": "주식회사한시경",
      "userId": "01036671795204052858"
     },
     "user_tz": -540
    },
    "id": "25a8c460-4fa3-4310-b82c-34f912ac281b"
   },
   "outputs": [],
   "source": [
    "# Supported values are: 'code_interpreter', 'function', and 'file_search'.\"라는 오류가 발생합니다.\n",
    "# retrieval를 file_search로 변경한 예제입니다\n",
    "\n",
    "from openai import OpenAI\n",
    "import os\n",
    "\n",
    "os.environ[\"OPENAI_API_KEY\"] = \"sk-proj\"\n",
    "client = OpenAI()"
   ]
  },
  {
   "cell_type": "code",
   "execution_count": 2,
   "id": "_1aYjaz-k2TB",
   "metadata": {
    "executionInfo": {
     "elapsed": 1584,
     "status": "ok",
     "timestamp": 1737307379663,
     "user": {
      "displayName": "주식회사한시경",
      "userId": "01036671795204052858"
     },
     "user_tz": -540
    },
    "id": "_1aYjaz-k2TB"
   },
   "outputs": [],
   "source": [
    "# from google.colab import userdata\n",
    "# openai_key = userdata.get('openai_key')\n",
    "\n",
    "# client = openai(\n",
    "#     api_key=openai_key)"
   ]
  },
  {
   "cell_type": "code",
   "execution_count": 3,
   "id": "b81e53da-176b-4e73-8359-35b2cb630cb2",
   "metadata": {
    "colab": {
     "base_uri": "https://localhost:8080/",
     "height": 320
    },
    "executionInfo": {
     "elapsed": 296,
     "status": "ok",
     "timestamp": 1737307379957,
     "user": {
      "displayName": "주식회사한시경",
      "userId": "01036671795204052858"
     },
     "user_tz": -540
    },
    "id": "b81e53da-176b-4e73-8359-35b2cb630cb2",
    "outputId": "2612b8d0-bc8f-49d7-8db2-0d3df05de0b4"
   },
   "outputs": [
    {
     "data": {
      "text/plain": [
       "{'id': 'asst_5bixkbM2dx6jxbP8HEF6pv43',\n",
       " 'created_at': 1743156692,\n",
       " 'description': None,\n",
       " 'instructions': '당신은 스마트팜에 대한 전문가입니다. pdf 파일에 기반하여 답변해주세요.',\n",
       " 'metadata': {},\n",
       " 'model': 'gpt-4o',\n",
       " 'name': 'smartfarm',\n",
       " 'object': 'assistant',\n",
       " 'tools': [{'type': 'file_search',\n",
       "   'file_search': {'max_num_results': None,\n",
       "    'ranking_options': {'score_threshold': 0.0,\n",
       "     'ranker': 'default_2024_08_21'}}}],\n",
       " 'response_format': 'auto',\n",
       " 'temperature': 1.0,\n",
       " 'tool_resources': {'code_interpreter': None,\n",
       "  'file_search': {'vector_store_ids': []}},\n",
       " 'top_p': 1.0,\n",
       " 'reasoning_effort': None}"
      ]
     },
     "metadata": {},
     "output_type": "display_data"
    }
   ],
   "source": [
    "import json\n",
    "def show_json(obj):\n",
    "  display(json.loads(obj.model_dump_json()))\n",
    "# model_dump_json()는 객체의 데이터를 JSON 문자열로 반환\n",
    "# json.loads() 파이썬 딕셔너리로 변환\n",
    "\n",
    "assistant = client.beta.assistants.create(\n",
    "  name=\"smartfarm\",\n",
    "  instructions=\"당신은 스마트팜에 대한 전문가입니다. pdf 파일에 기반하여 답변해주세요.\",\n",
    "  model=\"gpt-4o\",\n",
    "  tools=[{\"type\": \"file_search\"}]  # 파일 검색 기능을 활용\n",
    ")\n",
    "show_json(assistant)"
   ]
  },
  {
   "cell_type": "code",
   "execution_count": 4,
   "id": "9ad9ed80",
   "metadata": {},
   "outputs": [
    {
     "name": "stdout",
     "output_type": "stream",
     "text": [
      "Requirement already satisfied: openapi in /Users/parkyunsu/anaconda3/envs/edu/lib/python3.12/site-packages (2.0.0)\n",
      "Requirement already satisfied: inflection>=0.5.1 in /Users/parkyunsu/anaconda3/envs/edu/lib/python3.12/site-packages (from openapi) (0.5.1)\n",
      "Requirement already satisfied: jsonschema>=3.2.0 in /Users/parkyunsu/anaconda3/envs/edu/lib/python3.12/site-packages (from openapi) (4.23.0)\n",
      "Requirement already satisfied: attrs>=22.2.0 in /Users/parkyunsu/anaconda3/envs/edu/lib/python3.12/site-packages (from jsonschema>=3.2.0->openapi) (25.3.0)\n",
      "Requirement already satisfied: jsonschema-specifications>=2023.03.6 in /Users/parkyunsu/anaconda3/envs/edu/lib/python3.12/site-packages (from jsonschema>=3.2.0->openapi) (2024.10.1)\n",
      "Requirement already satisfied: referencing>=0.28.4 in /Users/parkyunsu/anaconda3/envs/edu/lib/python3.12/site-packages (from jsonschema>=3.2.0->openapi) (0.36.2)\n",
      "Requirement already satisfied: rpds-py>=0.7.1 in /Users/parkyunsu/anaconda3/envs/edu/lib/python3.12/site-packages (from jsonschema>=3.2.0->openapi) (0.24.0)\n",
      "Requirement already satisfied: typing-extensions>=4.4.0 in /Users/parkyunsu/anaconda3/envs/edu/lib/python3.12/site-packages (from referencing>=0.28.4->jsonschema>=3.2.0->openapi) (4.12.2)\n",
      "Note: you may need to restart the kernel to use updated packages.\n"
     ]
    }
   ],
   "source": [
    "%pip install --upgrade openapi"
   ]
  },
  {
   "cell_type": "code",
   "execution_count": 5,
   "id": "1a838a2d",
   "metadata": {},
   "outputs": [
    {
     "name": "stdout",
     "output_type": "stream",
     "text": [
      "Requirement already satisfied: fpdf in /Users/parkyunsu/anaconda3/envs/edu/lib/python3.12/site-packages (1.7.2)\n",
      "Note: you may need to restart the kernel to use updated packages.\n"
     ]
    }
   ],
   "source": [
    "%pip install fpdf"
   ]
  },
  {
   "cell_type": "code",
   "execution_count": 6,
   "id": "f5021002",
   "metadata": {},
   "outputs": [],
   "source": [
    "from fpdf import FPDF\n",
    "\n",
    "class PDF(FPDF):\n",
    "    def __init__(self):\n",
    "        super().__init__()\n",
    "        # 현재 디렉토리에 있는 한글 폰트 등록\n",
    "        self.add_font('Nanum', '', 'NanumGothic.ttf', uni=True)  # 기본 폰트\n",
    "        self.add_font('Nanum', 'B', 'NanumGothicBold.ttf', uni=True)  # 굵은 폰트\n"
   ]
  },
  {
   "cell_type": "code",
   "execution_count": 8,
   "id": "164ac64b",
   "metadata": {},
   "outputs": [
    {
     "name": "stdout",
     "output_type": "stream",
     "text": [
      "스마트팜.pdf 파일이 성공적으로 생성되었습니다.\n"
     ]
    },
    {
     "name": "stderr",
     "output_type": "stream",
     "text": [
      "/Users/parkyunsu/anaconda3/envs/edu/lib/python3.12/site-packages/fpdf/ttfonts.py:670: UserWarning: cmap value too big/small: -43952\n",
      "  warnings.warn(\"cmap value too big/small: %s\" % cm)\n",
      "/Users/parkyunsu/anaconda3/envs/edu/lib/python3.12/site-packages/fpdf/ttfonts.py:670: UserWarning: cmap value too big/small: -43954\n",
      "  warnings.warn(\"cmap value too big/small: %s\" % cm)\n",
      "/Users/parkyunsu/anaconda3/envs/edu/lib/python3.12/site-packages/fpdf/ttfonts.py:670: UserWarning: cmap value too big/small: -43974\n",
      "  warnings.warn(\"cmap value too big/small: %s\" % cm)\n",
      "/Users/parkyunsu/anaconda3/envs/edu/lib/python3.12/site-packages/fpdf/ttfonts.py:670: UserWarning: cmap value too big/small: -44124\n",
      "  warnings.warn(\"cmap value too big/small: %s\" % cm)\n",
      "/Users/parkyunsu/anaconda3/envs/edu/lib/python3.12/site-packages/fpdf/ttfonts.py:670: UserWarning: cmap value too big/small: -44136\n",
      "  warnings.warn(\"cmap value too big/small: %s\" % cm)\n",
      "/Users/parkyunsu/anaconda3/envs/edu/lib/python3.12/site-packages/fpdf/ttfonts.py:670: UserWarning: cmap value too big/small: -44142\n",
      "  warnings.warn(\"cmap value too big/small: %s\" % cm)\n",
      "/Users/parkyunsu/anaconda3/envs/edu/lib/python3.12/site-packages/fpdf/ttfonts.py:670: UserWarning: cmap value too big/small: -44169\n",
      "  warnings.warn(\"cmap value too big/small: %s\" % cm)\n",
      "/Users/parkyunsu/anaconda3/envs/edu/lib/python3.12/site-packages/fpdf/ttfonts.py:670: UserWarning: cmap value too big/small: -44189\n",
      "  warnings.warn(\"cmap value too big/small: %s\" % cm)\n",
      "/Users/parkyunsu/anaconda3/envs/edu/lib/python3.12/site-packages/fpdf/ttfonts.py:670: UserWarning: cmap value too big/small: -44195\n",
      "  warnings.warn(\"cmap value too big/small: %s\" % cm)\n",
      "/Users/parkyunsu/anaconda3/envs/edu/lib/python3.12/site-packages/fpdf/ttfonts.py:670: UserWarning: cmap value too big/small: -44306\n",
      "  warnings.warn(\"cmap value too big/small: %s\" % cm)\n",
      "/Users/parkyunsu/anaconda3/envs/edu/lib/python3.12/site-packages/fpdf/ttfonts.py:670: UserWarning: cmap value too big/small: -44336\n",
      "  warnings.warn(\"cmap value too big/small: %s\" % cm)\n",
      "/Users/parkyunsu/anaconda3/envs/edu/lib/python3.12/site-packages/fpdf/ttfonts.py:670: UserWarning: cmap value too big/small: -44447\n",
      "  warnings.warn(\"cmap value too big/small: %s\" % cm)\n",
      "/Users/parkyunsu/anaconda3/envs/edu/lib/python3.12/site-packages/fpdf/ttfonts.py:670: UserWarning: cmap value too big/small: -44498\n",
      "  warnings.warn(\"cmap value too big/small: %s\" % cm)\n",
      "/Users/parkyunsu/anaconda3/envs/edu/lib/python3.12/site-packages/fpdf/ttfonts.py:670: UserWarning: cmap value too big/small: -44833\n",
      "  warnings.warn(\"cmap value too big/small: %s\" % cm)\n",
      "/Users/parkyunsu/anaconda3/envs/edu/lib/python3.12/site-packages/fpdf/ttfonts.py:670: UserWarning: cmap value too big/small: -44888\n",
      "  warnings.warn(\"cmap value too big/small: %s\" % cm)\n",
      "/Users/parkyunsu/anaconda3/envs/edu/lib/python3.12/site-packages/fpdf/ttfonts.py:670: UserWarning: cmap value too big/small: -45115\n",
      "  warnings.warn(\"cmap value too big/small: %s\" % cm)\n",
      "/Users/parkyunsu/anaconda3/envs/edu/lib/python3.12/site-packages/fpdf/ttfonts.py:670: UserWarning: cmap value too big/small: -45118\n",
      "  warnings.warn(\"cmap value too big/small: %s\" % cm)\n",
      "/Users/parkyunsu/anaconda3/envs/edu/lib/python3.12/site-packages/fpdf/ttfonts.py:670: UserWarning: cmap value too big/small: -45333\n",
      "  warnings.warn(\"cmap value too big/small: %s\" % cm)\n",
      "/Users/parkyunsu/anaconda3/envs/edu/lib/python3.12/site-packages/fpdf/ttfonts.py:670: UserWarning: cmap value too big/small: -45353\n",
      "  warnings.warn(\"cmap value too big/small: %s\" % cm)\n",
      "/Users/parkyunsu/anaconda3/envs/edu/lib/python3.12/site-packages/fpdf/ttfonts.py:670: UserWarning: cmap value too big/small: -45615\n",
      "  warnings.warn(\"cmap value too big/small: %s\" % cm)\n",
      "/Users/parkyunsu/anaconda3/envs/edu/lib/python3.12/site-packages/fpdf/ttfonts.py:670: UserWarning: cmap value too big/small: -45631\n",
      "  warnings.warn(\"cmap value too big/small: %s\" % cm)\n",
      "/Users/parkyunsu/anaconda3/envs/edu/lib/python3.12/site-packages/fpdf/ttfonts.py:670: UserWarning: cmap value too big/small: -45693\n",
      "  warnings.warn(\"cmap value too big/small: %s\" % cm)\n",
      "/Users/parkyunsu/anaconda3/envs/edu/lib/python3.12/site-packages/fpdf/ttfonts.py:670: UserWarning: cmap value too big/small: -45696\n",
      "  warnings.warn(\"cmap value too big/small: %s\" % cm)\n",
      "/Users/parkyunsu/anaconda3/envs/edu/lib/python3.12/site-packages/fpdf/ttfonts.py:670: UserWarning: cmap value too big/small: -45719\n",
      "  warnings.warn(\"cmap value too big/small: %s\" % cm)\n",
      "/Users/parkyunsu/anaconda3/envs/edu/lib/python3.12/site-packages/fpdf/ttfonts.py:670: UserWarning: cmap value too big/small: -45830\n",
      "  warnings.warn(\"cmap value too big/small: %s\" % cm)\n",
      "/Users/parkyunsu/anaconda3/envs/edu/lib/python3.12/site-packages/fpdf/ttfonts.py:670: UserWarning: cmap value too big/small: -45913\n",
      "  warnings.warn(\"cmap value too big/small: %s\" % cm)\n",
      "/Users/parkyunsu/anaconda3/envs/edu/lib/python3.12/site-packages/fpdf/ttfonts.py:670: UserWarning: cmap value too big/small: -45933\n",
      "  warnings.warn(\"cmap value too big/small: %s\" % cm)\n",
      "/Users/parkyunsu/anaconda3/envs/edu/lib/python3.12/site-packages/fpdf/ttfonts.py:670: UserWarning: cmap value too big/small: -46191\n",
      "  warnings.warn(\"cmap value too big/small: %s\" % cm)\n",
      "/Users/parkyunsu/anaconda3/envs/edu/lib/python3.12/site-packages/fpdf/ttfonts.py:670: UserWarning: cmap value too big/small: -46211\n",
      "  warnings.warn(\"cmap value too big/small: %s\" % cm)\n",
      "/Users/parkyunsu/anaconda3/envs/edu/lib/python3.12/site-packages/fpdf/ttfonts.py:670: UserWarning: cmap value too big/small: -46861\n",
      "  warnings.warn(\"cmap value too big/small: %s\" % cm)\n",
      "/Users/parkyunsu/anaconda3/envs/edu/lib/python3.12/site-packages/fpdf/ttfonts.py:670: UserWarning: cmap value too big/small: -46888\n",
      "  warnings.warn(\"cmap value too big/small: %s\" % cm)\n",
      "/Users/parkyunsu/anaconda3/envs/edu/lib/python3.12/site-packages/fpdf/ttfonts.py:670: UserWarning: cmap value too big/small: -46936\n",
      "  warnings.warn(\"cmap value too big/small: %s\" % cm)\n",
      "/Users/parkyunsu/anaconda3/envs/edu/lib/python3.12/site-packages/fpdf/ttfonts.py:670: UserWarning: cmap value too big/small: -46970\n",
      "  warnings.warn(\"cmap value too big/small: %s\" % cm)\n",
      "/Users/parkyunsu/anaconda3/envs/edu/lib/python3.12/site-packages/fpdf/ttfonts.py:670: UserWarning: cmap value too big/small: -47026\n",
      "  warnings.warn(\"cmap value too big/small: %s\" % cm)\n",
      "/Users/parkyunsu/anaconda3/envs/edu/lib/python3.12/site-packages/fpdf/ttfonts.py:670: UserWarning: cmap value too big/small: -47080\n",
      "  warnings.warn(\"cmap value too big/small: %s\" % cm)\n",
      "/Users/parkyunsu/anaconda3/envs/edu/lib/python3.12/site-packages/fpdf/ttfonts.py:670: UserWarning: cmap value too big/small: -47083\n",
      "  warnings.warn(\"cmap value too big/small: %s\" % cm)\n",
      "/Users/parkyunsu/anaconda3/envs/edu/lib/python3.12/site-packages/fpdf/ttfonts.py:670: UserWarning: cmap value too big/small: -47330\n",
      "  warnings.warn(\"cmap value too big/small: %s\" % cm)\n",
      "/Users/parkyunsu/anaconda3/envs/edu/lib/python3.12/site-packages/fpdf/ttfonts.py:670: UserWarning: cmap value too big/small: -47365\n",
      "  warnings.warn(\"cmap value too big/small: %s\" % cm)\n",
      "/Users/parkyunsu/anaconda3/envs/edu/lib/python3.12/site-packages/fpdf/ttfonts.py:670: UserWarning: cmap value too big/small: -47440\n",
      "  warnings.warn(\"cmap value too big/small: %s\" % cm)\n",
      "/Users/parkyunsu/anaconda3/envs/edu/lib/python3.12/site-packages/fpdf/ttfonts.py:670: UserWarning: cmap value too big/small: -47663\n",
      "  warnings.warn(\"cmap value too big/small: %s\" % cm)\n",
      "/Users/parkyunsu/anaconda3/envs/edu/lib/python3.12/site-packages/fpdf/ttfonts.py:670: UserWarning: cmap value too big/small: -47801\n",
      "  warnings.warn(\"cmap value too big/small: %s\" % cm)\n",
      "/Users/parkyunsu/anaconda3/envs/edu/lib/python3.12/site-packages/fpdf/ttfonts.py:670: UserWarning: cmap value too big/small: -47996\n",
      "  warnings.warn(\"cmap value too big/small: %s\" % cm)\n",
      "/Users/parkyunsu/anaconda3/envs/edu/lib/python3.12/site-packages/fpdf/ttfonts.py:670: UserWarning: cmap value too big/small: -48023\n",
      "  warnings.warn(\"cmap value too big/small: %s\" % cm)\n",
      "/Users/parkyunsu/anaconda3/envs/edu/lib/python3.12/site-packages/fpdf/ttfonts.py:670: UserWarning: cmap value too big/small: -48026\n",
      "  warnings.warn(\"cmap value too big/small: %s\" % cm)\n",
      "/Users/parkyunsu/anaconda3/envs/edu/lib/python3.12/site-packages/fpdf/ttfonts.py:670: UserWarning: cmap value too big/small: -48042\n",
      "  warnings.warn(\"cmap value too big/small: %s\" % cm)\n",
      "/Users/parkyunsu/anaconda3/envs/edu/lib/python3.12/site-packages/fpdf/ttfonts.py:670: UserWarning: cmap value too big/small: -48048\n",
      "  warnings.warn(\"cmap value too big/small: %s\" % cm)\n",
      "/Users/parkyunsu/anaconda3/envs/edu/lib/python3.12/site-packages/fpdf/ttfonts.py:670: UserWarning: cmap value too big/small: -48055\n",
      "  warnings.warn(\"cmap value too big/small: %s\" % cm)\n",
      "/Users/parkyunsu/anaconda3/envs/edu/lib/python3.12/site-packages/fpdf/ttfonts.py:670: UserWarning: cmap value too big/small: -48067\n",
      "  warnings.warn(\"cmap value too big/small: %s\" % cm)\n",
      "/Users/parkyunsu/anaconda3/envs/edu/lib/python3.12/site-packages/fpdf/ttfonts.py:670: UserWarning: cmap value too big/small: -48189\n",
      "  warnings.warn(\"cmap value too big/small: %s\" % cm)\n",
      "/Users/parkyunsu/anaconda3/envs/edu/lib/python3.12/site-packages/fpdf/ttfonts.py:670: UserWarning: cmap value too big/small: -48240\n",
      "  warnings.warn(\"cmap value too big/small: %s\" % cm)\n",
      "/Users/parkyunsu/anaconda3/envs/edu/lib/python3.12/site-packages/fpdf/ttfonts.py:670: UserWarning: cmap value too big/small: -48258\n",
      "  warnings.warn(\"cmap value too big/small: %s\" % cm)\n",
      "/Users/parkyunsu/anaconda3/envs/edu/lib/python3.12/site-packages/fpdf/ttfonts.py:670: UserWarning: cmap value too big/small: -48382\n",
      "  warnings.warn(\"cmap value too big/small: %s\" % cm)\n",
      "/Users/parkyunsu/anaconda3/envs/edu/lib/python3.12/site-packages/fpdf/ttfonts.py:670: UserWarning: cmap value too big/small: -49189\n",
      "  warnings.warn(\"cmap value too big/small: %s\" % cm)\n",
      "/Users/parkyunsu/anaconda3/envs/edu/lib/python3.12/site-packages/fpdf/ttfonts.py:670: UserWarning: cmap value too big/small: -49209\n",
      "  warnings.warn(\"cmap value too big/small: %s\" % cm)\n",
      "/Users/parkyunsu/anaconda3/envs/edu/lib/python3.12/site-packages/fpdf/ttfonts.py:670: UserWarning: cmap value too big/small: -49299\n",
      "  warnings.warn(\"cmap value too big/small: %s\" % cm)\n",
      "/Users/parkyunsu/anaconda3/envs/edu/lib/python3.12/site-packages/fpdf/ttfonts.py:670: UserWarning: cmap value too big/small: -49318\n",
      "  warnings.warn(\"cmap value too big/small: %s\" % cm)\n",
      "/Users/parkyunsu/anaconda3/envs/edu/lib/python3.12/site-packages/fpdf/ttfonts.py:670: UserWarning: cmap value too big/small: -49324\n",
      "  warnings.warn(\"cmap value too big/small: %s\" % cm)\n",
      "/Users/parkyunsu/anaconda3/envs/edu/lib/python3.12/site-packages/fpdf/ttfonts.py:670: UserWarning: cmap value too big/small: -49547\n",
      "  warnings.warn(\"cmap value too big/small: %s\" % cm)\n",
      "/Users/parkyunsu/anaconda3/envs/edu/lib/python3.12/site-packages/fpdf/ttfonts.py:670: UserWarning: cmap value too big/small: -49554\n",
      "  warnings.warn(\"cmap value too big/small: %s\" % cm)\n",
      "/Users/parkyunsu/anaconda3/envs/edu/lib/python3.12/site-packages/fpdf/ttfonts.py:670: UserWarning: cmap value too big/small: -49685\n",
      "  warnings.warn(\"cmap value too big/small: %s\" % cm)\n",
      "/Users/parkyunsu/anaconda3/envs/edu/lib/python3.12/site-packages/fpdf/ttfonts.py:670: UserWarning: cmap value too big/small: -49740\n",
      "  warnings.warn(\"cmap value too big/small: %s\" % cm)\n",
      "/Users/parkyunsu/anaconda3/envs/edu/lib/python3.12/site-packages/fpdf/ttfonts.py:670: UserWarning: cmap value too big/small: -50326\n",
      "  warnings.warn(\"cmap value too big/small: %s\" % cm)\n",
      "/Users/parkyunsu/anaconda3/envs/edu/lib/python3.12/site-packages/fpdf/ttfonts.py:670: UserWarning: cmap value too big/small: -50357\n",
      "  warnings.warn(\"cmap value too big/small: %s\" % cm)\n",
      "/Users/parkyunsu/anaconda3/envs/edu/lib/python3.12/site-packages/fpdf/ttfonts.py:670: UserWarning: cmap value too big/small: -50429\n",
      "  warnings.warn(\"cmap value too big/small: %s\" % cm)\n",
      "/Users/parkyunsu/anaconda3/envs/edu/lib/python3.12/site-packages/fpdf/ttfonts.py:670: UserWarning: cmap value too big/small: -50480\n",
      "  warnings.warn(\"cmap value too big/small: %s\" % cm)\n",
      "/Users/parkyunsu/anaconda3/envs/edu/lib/python3.12/site-packages/fpdf/ttfonts.py:670: UserWarning: cmap value too big/small: -50490\n",
      "  warnings.warn(\"cmap value too big/small: %s\" % cm)\n",
      "/Users/parkyunsu/anaconda3/envs/edu/lib/python3.12/site-packages/fpdf/ttfonts.py:670: UserWarning: cmap value too big/small: -50517\n",
      "  warnings.warn(\"cmap value too big/small: %s\" % cm)\n",
      "/Users/parkyunsu/anaconda3/envs/edu/lib/python3.12/site-packages/fpdf/ttfonts.py:670: UserWarning: cmap value too big/small: -50519\n",
      "  warnings.warn(\"cmap value too big/small: %s\" % cm)\n",
      "/Users/parkyunsu/anaconda3/envs/edu/lib/python3.12/site-packages/fpdf/ttfonts.py:670: UserWarning: cmap value too big/small: -50542\n",
      "  warnings.warn(\"cmap value too big/small: %s\" % cm)\n",
      "/Users/parkyunsu/anaconda3/envs/edu/lib/python3.12/site-packages/fpdf/ttfonts.py:670: UserWarning: cmap value too big/small: -50597\n",
      "  warnings.warn(\"cmap value too big/small: %s\" % cm)\n",
      "/Users/parkyunsu/anaconda3/envs/edu/lib/python3.12/site-packages/fpdf/ttfonts.py:670: UserWarning: cmap value too big/small: -50680\n",
      "  warnings.warn(\"cmap value too big/small: %s\" % cm)\n",
      "/Users/parkyunsu/anaconda3/envs/edu/lib/python3.12/site-packages/fpdf/ttfonts.py:670: UserWarning: cmap value too big/small: -50700\n",
      "  warnings.warn(\"cmap value too big/small: %s\" % cm)\n",
      "/Users/parkyunsu/anaconda3/envs/edu/lib/python3.12/site-packages/fpdf/ttfonts.py:670: UserWarning: cmap value too big/small: -50738\n",
      "  warnings.warn(\"cmap value too big/small: %s\" % cm)\n",
      "/Users/parkyunsu/anaconda3/envs/edu/lib/python3.12/site-packages/fpdf/ttfonts.py:670: UserWarning: cmap value too big/small: -50789\n",
      "  warnings.warn(\"cmap value too big/small: %s\" % cm)\n",
      "/Users/parkyunsu/anaconda3/envs/edu/lib/python3.12/site-packages/fpdf/ttfonts.py:670: UserWarning: cmap value too big/small: -50824\n",
      "  warnings.warn(\"cmap value too big/small: %s\" % cm)\n",
      "/Users/parkyunsu/anaconda3/envs/edu/lib/python3.12/site-packages/fpdf/ttfonts.py:670: UserWarning: cmap value too big/small: -50843\n",
      "  warnings.warn(\"cmap value too big/small: %s\" % cm)\n",
      "/Users/parkyunsu/anaconda3/envs/edu/lib/python3.12/site-packages/fpdf/ttfonts.py:670: UserWarning: cmap value too big/small: -50846\n",
      "  warnings.warn(\"cmap value too big/small: %s\" % cm)\n",
      "/Users/parkyunsu/anaconda3/envs/edu/lib/python3.12/site-packages/fpdf/ttfonts.py:670: UserWarning: cmap value too big/small: -50849\n",
      "  warnings.warn(\"cmap value too big/small: %s\" % cm)\n",
      "/Users/parkyunsu/anaconda3/envs/edu/lib/python3.12/site-packages/fpdf/ttfonts.py:670: UserWarning: cmap value too big/small: -50861\n",
      "  warnings.warn(\"cmap value too big/small: %s\" % cm)\n",
      "/Users/parkyunsu/anaconda3/envs/edu/lib/python3.12/site-packages/fpdf/ttfonts.py:670: UserWarning: cmap value too big/small: -50867\n",
      "  warnings.warn(\"cmap value too big/small: %s\" % cm)\n",
      "/Users/parkyunsu/anaconda3/envs/edu/lib/python3.12/site-packages/fpdf/ttfonts.py:670: UserWarning: cmap value too big/small: -50894\n",
      "  warnings.warn(\"cmap value too big/small: %s\" % cm)\n",
      "/Users/parkyunsu/anaconda3/envs/edu/lib/python3.12/site-packages/fpdf/ttfonts.py:670: UserWarning: cmap value too big/small: -50897\n",
      "  warnings.warn(\"cmap value too big/small: %s\" % cm)\n",
      "/Users/parkyunsu/anaconda3/envs/edu/lib/python3.12/site-packages/fpdf/ttfonts.py:670: UserWarning: cmap value too big/small: -50912\n",
      "  warnings.warn(\"cmap value too big/small: %s\" % cm)\n",
      "/Users/parkyunsu/anaconda3/envs/edu/lib/python3.12/site-packages/fpdf/ttfonts.py:670: UserWarning: cmap value too big/small: -50919\n",
      "  warnings.warn(\"cmap value too big/small: %s\" % cm)\n",
      "/Users/parkyunsu/anaconda3/envs/edu/lib/python3.12/site-packages/fpdf/ttfonts.py:670: UserWarning: cmap value too big/small: -50946\n",
      "  warnings.warn(\"cmap value too big/small: %s\" % cm)\n",
      "/Users/parkyunsu/anaconda3/envs/edu/lib/python3.12/site-packages/fpdf/ttfonts.py:670: UserWarning: cmap value too big/small: -50966\n",
      "  warnings.warn(\"cmap value too big/small: %s\" % cm)\n",
      "/Users/parkyunsu/anaconda3/envs/edu/lib/python3.12/site-packages/fpdf/ttfonts.py:670: UserWarning: cmap value too big/small: -51029\n",
      "  warnings.warn(\"cmap value too big/small: %s\" % cm)\n",
      "/Users/parkyunsu/anaconda3/envs/edu/lib/python3.12/site-packages/fpdf/ttfonts.py:670: UserWarning: cmap value too big/small: -51031\n",
      "  warnings.warn(\"cmap value too big/small: %s\" % cm)\n",
      "/Users/parkyunsu/anaconda3/envs/edu/lib/python3.12/site-packages/fpdf/ttfonts.py:670: UserWarning: cmap value too big/small: -51043\n",
      "  warnings.warn(\"cmap value too big/small: %s\" % cm)\n",
      "/Users/parkyunsu/anaconda3/envs/edu/lib/python3.12/site-packages/fpdf/ttfonts.py:670: UserWarning: cmap value too big/small: -51046\n",
      "  warnings.warn(\"cmap value too big/small: %s\" % cm)\n",
      "/Users/parkyunsu/anaconda3/envs/edu/lib/python3.12/site-packages/fpdf/ttfonts.py:670: UserWarning: cmap value too big/small: -51052\n",
      "  warnings.warn(\"cmap value too big/small: %s\" % cm)\n",
      "/Users/parkyunsu/anaconda3/envs/edu/lib/python3.12/site-packages/fpdf/ttfonts.py:670: UserWarning: cmap value too big/small: -51099\n",
      "  warnings.warn(\"cmap value too big/small: %s\" % cm)\n",
      "/Users/parkyunsu/anaconda3/envs/edu/lib/python3.12/site-packages/fpdf/ttfonts.py:670: UserWarning: cmap value too big/small: -51274\n",
      "  warnings.warn(\"cmap value too big/small: %s\" % cm)\n",
      "/Users/parkyunsu/anaconda3/envs/edu/lib/python3.12/site-packages/fpdf/ttfonts.py:670: UserWarning: cmap value too big/small: -51294\n",
      "  warnings.warn(\"cmap value too big/small: %s\" % cm)\n",
      "/Users/parkyunsu/anaconda3/envs/edu/lib/python3.12/site-packages/fpdf/ttfonts.py:670: UserWarning: cmap value too big/small: -51433\n",
      "  warnings.warn(\"cmap value too big/small: %s\" % cm)\n",
      "/Users/parkyunsu/anaconda3/envs/edu/lib/python3.12/site-packages/fpdf/ttfonts.py:670: UserWarning: cmap value too big/small: -51467\n",
      "  warnings.warn(\"cmap value too big/small: %s\" % cm)\n",
      "/Users/parkyunsu/anaconda3/envs/edu/lib/python3.12/site-packages/fpdf/ttfonts.py:670: UserWarning: cmap value too big/small: -51470\n",
      "  warnings.warn(\"cmap value too big/small: %s\" % cm)\n",
      "/Users/parkyunsu/anaconda3/envs/edu/lib/python3.12/site-packages/fpdf/ttfonts.py:670: UserWarning: cmap value too big/small: -52081\n",
      "  warnings.warn(\"cmap value too big/small: %s\" % cm)\n",
      "/Users/parkyunsu/anaconda3/envs/edu/lib/python3.12/site-packages/fpdf/ttfonts.py:670: UserWarning: cmap value too big/small: -52109\n",
      "  warnings.warn(\"cmap value too big/small: %s\" % cm)\n",
      "/Users/parkyunsu/anaconda3/envs/edu/lib/python3.12/site-packages/fpdf/ttfonts.py:670: UserWarning: cmap value too big/small: -52191\n",
      "  warnings.warn(\"cmap value too big/small: %s\" % cm)\n",
      "/Users/parkyunsu/anaconda3/envs/edu/lib/python3.12/site-packages/fpdf/ttfonts.py:670: UserWarning: cmap value too big/small: -52206\n",
      "  warnings.warn(\"cmap value too big/small: %s\" % cm)\n",
      "/Users/parkyunsu/anaconda3/envs/edu/lib/python3.12/site-packages/fpdf/ttfonts.py:670: UserWarning: cmap value too big/small: -52210\n",
      "  warnings.warn(\"cmap value too big/small: %s\" % cm)\n",
      "/Users/parkyunsu/anaconda3/envs/edu/lib/python3.12/site-packages/fpdf/ttfonts.py:670: UserWarning: cmap value too big/small: -52216\n",
      "  warnings.warn(\"cmap value too big/small: %s\" % cm)\n",
      "/Users/parkyunsu/anaconda3/envs/edu/lib/python3.12/site-packages/fpdf/ttfonts.py:670: UserWarning: cmap value too big/small: -52303\n",
      "  warnings.warn(\"cmap value too big/small: %s\" % cm)\n",
      "/Users/parkyunsu/anaconda3/envs/edu/lib/python3.12/site-packages/fpdf/ttfonts.py:670: UserWarning: cmap value too big/small: -52382\n",
      "  warnings.warn(\"cmap value too big/small: %s\" % cm)\n",
      "/Users/parkyunsu/anaconda3/envs/edu/lib/python3.12/site-packages/fpdf/ttfonts.py:670: UserWarning: cmap value too big/small: -52445\n",
      "  warnings.warn(\"cmap value too big/small: %s\" % cm)\n",
      "/Users/parkyunsu/anaconda3/envs/edu/lib/python3.12/site-packages/fpdf/ttfonts.py:670: UserWarning: cmap value too big/small: -52577\n",
      "  warnings.warn(\"cmap value too big/small: %s\" % cm)\n",
      "/Users/parkyunsu/anaconda3/envs/edu/lib/python3.12/site-packages/fpdf/ttfonts.py:670: UserWarning: cmap value too big/small: -52771\n",
      "  warnings.warn(\"cmap value too big/small: %s\" % cm)\n",
      "/Users/parkyunsu/anaconda3/envs/edu/lib/python3.12/site-packages/fpdf/ttfonts.py:670: UserWarning: cmap value too big/small: -52826\n",
      "  warnings.warn(\"cmap value too big/small: %s\" % cm)\n",
      "/Users/parkyunsu/anaconda3/envs/edu/lib/python3.12/site-packages/fpdf/ttfonts.py:670: UserWarning: cmap value too big/small: -53273\n",
      "  warnings.warn(\"cmap value too big/small: %s\" % cm)\n",
      "/Users/parkyunsu/anaconda3/envs/edu/lib/python3.12/site-packages/fpdf/ttfonts.py:670: UserWarning: cmap value too big/small: -53356\n",
      "  warnings.warn(\"cmap value too big/small: %s\" % cm)\n",
      "/Users/parkyunsu/anaconda3/envs/edu/lib/python3.12/site-packages/fpdf/ttfonts.py:670: UserWarning: cmap value too big/small: -53383\n",
      "  warnings.warn(\"cmap value too big/small: %s\" % cm)\n",
      "/Users/parkyunsu/anaconda3/envs/edu/lib/python3.12/site-packages/fpdf/ttfonts.py:670: UserWarning: cmap value too big/small: -53466\n",
      "  warnings.warn(\"cmap value too big/small: %s\" % cm)\n",
      "/Users/parkyunsu/anaconda3/envs/edu/lib/python3.12/site-packages/fpdf/ttfonts.py:670: UserWarning: cmap value too big/small: -53486\n",
      "  warnings.warn(\"cmap value too big/small: %s\" % cm)\n",
      "/Users/parkyunsu/anaconda3/envs/edu/lib/python3.12/site-packages/fpdf/ttfonts.py:670: UserWarning: cmap value too big/small: -53744\n",
      "  warnings.warn(\"cmap value too big/small: %s\" % cm)\n",
      "/Users/parkyunsu/anaconda3/envs/edu/lib/python3.12/site-packages/fpdf/ttfonts.py:670: UserWarning: cmap value too big/small: -53855\n",
      "  warnings.warn(\"cmap value too big/small: %s\" % cm)\n",
      "/Users/parkyunsu/anaconda3/envs/edu/lib/python3.12/site-packages/fpdf/ttfonts.py:670: UserWarning: cmap value too big/small: -54330\n",
      "  warnings.warn(\"cmap value too big/small: %s\" % cm)\n",
      "/Users/parkyunsu/anaconda3/envs/edu/lib/python3.12/site-packages/fpdf/ttfonts.py:670: UserWarning: cmap value too big/small: -54413\n",
      "  warnings.warn(\"cmap value too big/small: %s\" % cm)\n",
      "/Users/parkyunsu/anaconda3/envs/edu/lib/python3.12/site-packages/fpdf/ttfonts.py:670: UserWarning: cmap value too big/small: -54415\n",
      "  warnings.warn(\"cmap value too big/small: %s\" % cm)\n",
      "/Users/parkyunsu/anaconda3/envs/edu/lib/python3.12/site-packages/fpdf/ttfonts.py:670: UserWarning: cmap value too big/small: -54426\n",
      "  warnings.warn(\"cmap value too big/small: %s\" % cm)\n",
      "/Users/parkyunsu/anaconda3/envs/edu/lib/python3.12/site-packages/fpdf/ttfonts.py:670: UserWarning: cmap value too big/small: -54437\n",
      "  warnings.warn(\"cmap value too big/small: %s\" % cm)\n",
      "/Users/parkyunsu/anaconda3/envs/edu/lib/python3.12/site-packages/fpdf/ttfonts.py:670: UserWarning: cmap value too big/small: -54632\n",
      "  warnings.warn(\"cmap value too big/small: %s\" % cm)\n",
      "/Users/parkyunsu/anaconda3/envs/edu/lib/python3.12/site-packages/fpdf/ttfonts.py:670: UserWarning: cmap value too big/small: -54659\n",
      "  warnings.warn(\"cmap value too big/small: %s\" % cm)\n",
      "/Users/parkyunsu/anaconda3/envs/edu/lib/python3.12/site-packages/fpdf/ttfonts.py:670: UserWarning: cmap value too big/small: -54665\n",
      "  warnings.warn(\"cmap value too big/small: %s\" % cm)\n",
      "/Users/parkyunsu/anaconda3/envs/edu/lib/python3.12/site-packages/fpdf/ttfonts.py:670: UserWarning: cmap value too big/small: -54740\n",
      "  warnings.warn(\"cmap value too big/small: %s\" % cm)\n",
      "/Users/parkyunsu/anaconda3/envs/edu/lib/python3.12/site-packages/fpdf/ttfonts.py:670: UserWarning: cmap value too big/small: -54928\n",
      "  warnings.warn(\"cmap value too big/small: %s\" % cm)\n",
      "/Users/parkyunsu/anaconda3/envs/edu/lib/python3.12/site-packages/fpdf/ttfonts.py:670: UserWarning: cmap value too big/small: -45419\n",
      "  warnings.warn(\"cmap value too big/small: %s\" % cm)\n",
      "/Users/parkyunsu/anaconda3/envs/edu/lib/python3.12/site-packages/fpdf/ttfonts.py:670: UserWarning: cmap value too big/small: -45681\n",
      "  warnings.warn(\"cmap value too big/small: %s\" % cm)\n",
      "/Users/parkyunsu/anaconda3/envs/edu/lib/python3.12/site-packages/fpdf/ttfonts.py:670: UserWarning: cmap value too big/small: -45900\n",
      "  warnings.warn(\"cmap value too big/small: %s\" % cm)\n",
      "/Users/parkyunsu/anaconda3/envs/edu/lib/python3.12/site-packages/fpdf/ttfonts.py:670: UserWarning: cmap value too big/small: -46963\n",
      "  warnings.warn(\"cmap value too big/small: %s\" % cm)\n",
      "/Users/parkyunsu/anaconda3/envs/edu/lib/python3.12/site-packages/fpdf/ttfonts.py:670: UserWarning: cmap value too big/small: -47158\n",
      "  warnings.warn(\"cmap value too big/small: %s\" % cm)\n",
      "/Users/parkyunsu/anaconda3/envs/edu/lib/python3.12/site-packages/fpdf/ttfonts.py:670: UserWarning: cmap value too big/small: -47521\n",
      "  warnings.warn(\"cmap value too big/small: %s\" % cm)\n",
      "/Users/parkyunsu/anaconda3/envs/edu/lib/python3.12/site-packages/fpdf/ttfonts.py:670: UserWarning: cmap value too big/small: -48080\n",
      "  warnings.warn(\"cmap value too big/small: %s\" % cm)\n",
      "/Users/parkyunsu/anaconda3/envs/edu/lib/python3.12/site-packages/fpdf/ttfonts.py:670: UserWarning: cmap value too big/small: -49787\n",
      "  warnings.warn(\"cmap value too big/small: %s\" % cm)\n",
      "/Users/parkyunsu/anaconda3/envs/edu/lib/python3.12/site-packages/fpdf/ttfonts.py:670: UserWarning: cmap value too big/small: -50587\n",
      "  warnings.warn(\"cmap value too big/small: %s\" % cm)\n",
      "/Users/parkyunsu/anaconda3/envs/edu/lib/python3.12/site-packages/fpdf/ttfonts.py:670: UserWarning: cmap value too big/small: -50625\n",
      "  warnings.warn(\"cmap value too big/small: %s\" % cm)\n",
      "/Users/parkyunsu/anaconda3/envs/edu/lib/python3.12/site-packages/fpdf/ttfonts.py:670: UserWarning: cmap value too big/small: -50988\n",
      "  warnings.warn(\"cmap value too big/small: %s\" % cm)\n",
      "/Users/parkyunsu/anaconda3/envs/edu/lib/python3.12/site-packages/fpdf/ttfonts.py:670: UserWarning: cmap value too big/small: -51015\n",
      "  warnings.warn(\"cmap value too big/small: %s\" % cm)\n",
      "/Users/parkyunsu/anaconda3/envs/edu/lib/python3.12/site-packages/fpdf/ttfonts.py:670: UserWarning: cmap value too big/small: -53506\n",
      "  warnings.warn(\"cmap value too big/small: %s\" % cm)\n",
      "/Users/parkyunsu/anaconda3/envs/edu/lib/python3.12/site-packages/fpdf/ttfonts.py:670: UserWarning: cmap value too big/small: -53897\n",
      "  warnings.warn(\"cmap value too big/small: %s\" % cm)\n",
      "/Users/parkyunsu/anaconda3/envs/edu/lib/python3.12/site-packages/fpdf/ttfonts.py:670: UserWarning: cmap value too big/small: -53996\n",
      "  warnings.warn(\"cmap value too big/small: %s\" % cm)\n"
     ]
    }
   ],
   "source": [
    "from fpdf import FPDF\n",
    "import os\n",
    "\n",
    "# 폰트 경로 (현재 디렉토리에 저장된 폰트 사용)\n",
    "FONT_PATH = r\"/Users/parkyunsu/Downloads/나눔 글꼴/나눔고딕/NanumFontSetup_TTF_GOTHIC/NanumGothic.ttf\"\n",
    "BOLD_FONT_PATH = r\"/Users/parkyunsu/Downloads/나눔 글꼴/나눔고딕/NanumFontSetup_TTF_GOTHIC/NanumGothicBold.ttf\"\n",
    "\n",
    "class PDF(FPDF):\n",
    "    def __init__(self):\n",
    "        super().__init__()\n",
    "        # 한글 폰트 등록\n",
    "        self.add_font('Nanum', '', FONT_PATH, uni=True)  # 기본 폰트\n",
    "        self.add_font('Nanum', 'B', BOLD_FONT_PATH, uni=True)  # 굵은 폰트\n",
    "\n",
    "    def header(self):\n",
    "        self.set_font('Nanum', 'B', 12)  # 헤더는 굵은 폰트 사용\n",
    "        self.cell(0, 10, \"스마트팜: 데이터로 여는 농업의 미래\", align=\"C\", ln=True)\n",
    "\n",
    "    def footer(self):\n",
    "        self.set_y(-15)\n",
    "        self.set_font('Nanum', '', 10)\n",
    "        self.cell(0, 10, f\"Page {self.page_no()}\", align=\"C\")\n",
    "\n",
    "\n",
    "# PDF 객체 생성\n",
    "pdf = PDF()\n",
    "pdf.add_page()\n",
    "pdf.set_auto_page_break(auto=True, margin=15)\n",
    "\n",
    "# 본문 데이터 작성\n",
    "pdf.set_font('Nanum', '', 12)\n",
    "pdf.multi_cell(0, 10, txt=\"\"\"\n",
    "데이터로 여는 농업의 미래, 스마트농업\n",
    "2022. 01. 10. 제40호\n",
    "\n",
    "[과학기술인프라, 데이터로 세상을 바꾸다]\n",
    "https://kisti.re.kr/promote/post/issuebrief\n",
    "\n",
    "최근 COVID-19과 같은 재난과 미-중 패권경쟁, 국가 간 무역분쟁과 같은 국제 정세 변화로 인해\n",
    "국가 안보 차원에서 식량 자주권 확보의 중요성이 커졌고, 이에 대응하기 위해 세계 각국에서는\n",
    "스마트농업에 주목하고 있다.\n",
    "\n",
    "스마트농업의 주요 배경:\n",
    "스마트농업은 농업 밸류체인 전반에 첨단기술을 접목시켜 농업의 스마트화를 도모한다.\n",
    "- IoT, 로봇, 드론, AI 등을 이용하여 데이터 기반 의사결정을 통해 노동력/자원 최적화와 효율성 증대를 꾀함.\n",
    "- 인공지능, 위성 이미지, GPS 활용으로 날씨, 토양 상태 등을 분석하여 수확량 예측 가능.\n",
    "\n",
    "출처:\n",
    "- 농촌진흥청(2016), ‘RDA인테러뱅 179호’\n",
    "- 과학기술정책연구원(2018.10), ‘스마트 농업 기술정책 제고 방안’\n",
    "- KPMG 보고서(2020)\n",
    "\"\"\")\n",
    "\n",
    "# PDF 저장\n",
    "pdf.output(\"스마트팜.pdf\")\n",
    "print(\"스마트팜.pdf 파일이 성공적으로 생성되었습니다.\")\n",
    "\n"
   ]
  },
  {
   "cell_type": "code",
   "execution_count": 9,
   "id": "XIWHpXoZmZ1n",
   "metadata": {
    "executionInfo": {
     "elapsed": 284,
     "status": "ok",
     "timestamp": 1737307582347,
     "user": {
      "displayName": "주식회사한시경",
      "userId": "01036671795204052858"
     },
     "user_tz": -540
    },
    "id": "XIWHpXoZmZ1n"
   },
   "outputs": [],
   "source": [
    "file = \"스마트팜.pdf\""
   ]
  },
  {
   "cell_type": "code",
   "execution_count": 10,
   "id": "f7085e89",
   "metadata": {},
   "outputs": [
    {
     "name": "stdout",
     "output_type": "stream",
     "text": [
      "Requirement already satisfied: openai in /Users/parkyunsu/anaconda3/envs/edu/lib/python3.12/site-packages (1.68.2)\n",
      "Collecting openai\n",
      "  Downloading openai-1.69.0-py3-none-any.whl.metadata (25 kB)\n",
      "Requirement already satisfied: anyio<5,>=3.5.0 in /Users/parkyunsu/anaconda3/envs/edu/lib/python3.12/site-packages (from openai) (4.9.0)\n",
      "Requirement already satisfied: distro<2,>=1.7.0 in /Users/parkyunsu/anaconda3/envs/edu/lib/python3.12/site-packages (from openai) (1.9.0)\n",
      "Requirement already satisfied: httpx<1,>=0.23.0 in /Users/parkyunsu/anaconda3/envs/edu/lib/python3.12/site-packages (from openai) (0.28.1)\n",
      "Requirement already satisfied: jiter<1,>=0.4.0 in /Users/parkyunsu/anaconda3/envs/edu/lib/python3.12/site-packages (from openai) (0.9.0)\n",
      "Requirement already satisfied: pydantic<3,>=1.9.0 in /Users/parkyunsu/anaconda3/envs/edu/lib/python3.12/site-packages (from openai) (2.10.6)\n",
      "Requirement already satisfied: sniffio in /Users/parkyunsu/anaconda3/envs/edu/lib/python3.12/site-packages (from openai) (1.3.1)\n",
      "Requirement already satisfied: tqdm>4 in /Users/parkyunsu/anaconda3/envs/edu/lib/python3.12/site-packages (from openai) (4.67.1)\n",
      "Requirement already satisfied: typing-extensions<5,>=4.11 in /Users/parkyunsu/anaconda3/envs/edu/lib/python3.12/site-packages (from openai) (4.12.2)\n",
      "Requirement already satisfied: idna>=2.8 in /Users/parkyunsu/anaconda3/envs/edu/lib/python3.12/site-packages (from anyio<5,>=3.5.0->openai) (3.10)\n",
      "Requirement already satisfied: certifi in /Users/parkyunsu/anaconda3/envs/edu/lib/python3.12/site-packages (from httpx<1,>=0.23.0->openai) (2025.1.31)\n",
      "Requirement already satisfied: httpcore==1.* in /Users/parkyunsu/anaconda3/envs/edu/lib/python3.12/site-packages (from httpx<1,>=0.23.0->openai) (1.0.7)\n",
      "Requirement already satisfied: h11<0.15,>=0.13 in /Users/parkyunsu/anaconda3/envs/edu/lib/python3.12/site-packages (from httpcore==1.*->httpx<1,>=0.23.0->openai) (0.14.0)\n",
      "Requirement already satisfied: annotated-types>=0.6.0 in /Users/parkyunsu/anaconda3/envs/edu/lib/python3.12/site-packages (from pydantic<3,>=1.9.0->openai) (0.7.0)\n",
      "Requirement already satisfied: pydantic-core==2.27.2 in /Users/parkyunsu/anaconda3/envs/edu/lib/python3.12/site-packages (from pydantic<3,>=1.9.0->openai) (2.27.2)\n",
      "Downloading openai-1.69.0-py3-none-any.whl (599 kB)\n",
      "\u001b[2K   \u001b[90m━━━━━━━━━━━━━━━━━━━━━━━━━━━━━━━━━━━━━━━\u001b[0m \u001b[32m599.1/599.1 kB\u001b[0m \u001b[31m554.5 kB/s\u001b[0m eta \u001b[36m0:00:00\u001b[0m:--:--\u001b[0m\n",
      "\u001b[?25hInstalling collected packages: openai\n",
      "  Attempting uninstall: openai\n",
      "    Found existing installation: openai 1.68.2\n",
      "    Uninstalling openai-1.68.2:\n",
      "      Successfully uninstalled openai-1.68.2\n",
      "Successfully installed openai-1.69.0\n",
      "Note: you may need to restart the kernel to use updated packages.\n"
     ]
    }
   ],
   "source": [
    "%pip install --upgrade openai"
   ]
  },
  {
   "cell_type": "code",
   "execution_count": 11,
   "id": "056a3264",
   "metadata": {},
   "outputs": [
    {
     "name": "stdout",
     "output_type": "stream",
     "text": [
      "1.68.2\n"
     ]
    }
   ],
   "source": [
    "import openai\n",
    "print(openai.__version__)"
   ]
  },
  {
   "cell_type": "code",
   "execution_count": 12,
   "id": "9e32747d",
   "metadata": {},
   "outputs": [
    {
     "name": "stdout",
     "output_type": "stream",
     "text": [
      "['__annotations__', '__class__', '__delattr__', '__dict__', '__dir__', '__doc__', '__eq__', '__format__', '__ge__', '__getattribute__', '__getstate__', '__gt__', '__hash__', '__init__', '__init_subclass__', '__le__', '__lt__', '__module__', '__ne__', '__new__', '__reduce__', '__reduce_ex__', '__repr__', '__setattr__', '__sizeof__', '__str__', '__subclasshook__', '__weakref__', '_client', '_delete', '_get', '_get_api_list', '_patch', '_post', '_put', '_sleep', 'assistants', 'chat', 'realtime', 'threads', 'with_raw_response', 'with_streaming_response']\n"
     ]
    }
   ],
   "source": [
    "print(dir(client.beta))"
   ]
  },
  {
   "cell_type": "code",
   "execution_count": 16,
   "id": "42725471",
   "metadata": {},
   "outputs": [
    {
     "name": "stdout",
     "output_type": "stream",
     "text": [
      "Name: openai\n",
      "Version: 1.69.0\n",
      "Summary: The official Python library for the openai API\n",
      "Home-page: https://github.com/openai/openai-python\n",
      "Author: \n",
      "Author-email: OpenAI <support@openai.com>\n",
      "License: Apache-2.0\n",
      "Location: /Users/parkyunsu/anaconda3/envs/edu/lib/python3.12/site-packages\n",
      "Requires: anyio, distro, httpx, jiter, pydantic, sniffio, tqdm, typing-extensions\n",
      "Required-by: \n",
      "Note: you may need to restart the kernel to use updated packages.\n"
     ]
    }
   ],
   "source": [
    "%pip show openai"
   ]
  },
  {
   "cell_type": "code",
   "execution_count": 17,
   "id": "7ed3e95b",
   "metadata": {},
   "outputs": [
    {
     "name": "stdout",
     "output_type": "stream",
     "text": [
      "Requirement already satisfied: openai in /Users/parkyunsu/anaconda3/envs/edu/lib/python3.12/site-packages (1.69.0)\n",
      "Requirement already satisfied: anyio<5,>=3.5.0 in /Users/parkyunsu/anaconda3/envs/edu/lib/python3.12/site-packages (from openai) (4.9.0)\n",
      "Requirement already satisfied: distro<2,>=1.7.0 in /Users/parkyunsu/anaconda3/envs/edu/lib/python3.12/site-packages (from openai) (1.9.0)\n",
      "Requirement already satisfied: httpx<1,>=0.23.0 in /Users/parkyunsu/anaconda3/envs/edu/lib/python3.12/site-packages (from openai) (0.28.1)\n",
      "Requirement already satisfied: jiter<1,>=0.4.0 in /Users/parkyunsu/anaconda3/envs/edu/lib/python3.12/site-packages (from openai) (0.9.0)\n",
      "Requirement already satisfied: pydantic<3,>=1.9.0 in /Users/parkyunsu/anaconda3/envs/edu/lib/python3.12/site-packages (from openai) (2.10.6)\n",
      "Requirement already satisfied: sniffio in /Users/parkyunsu/anaconda3/envs/edu/lib/python3.12/site-packages (from openai) (1.3.1)\n",
      "Requirement already satisfied: tqdm>4 in /Users/parkyunsu/anaconda3/envs/edu/lib/python3.12/site-packages (from openai) (4.67.1)\n",
      "Requirement already satisfied: typing-extensions<5,>=4.11 in /Users/parkyunsu/anaconda3/envs/edu/lib/python3.12/site-packages (from openai) (4.12.2)\n",
      "Requirement already satisfied: idna>=2.8 in /Users/parkyunsu/anaconda3/envs/edu/lib/python3.12/site-packages (from anyio<5,>=3.5.0->openai) (3.10)\n",
      "Requirement already satisfied: certifi in /Users/parkyunsu/anaconda3/envs/edu/lib/python3.12/site-packages (from httpx<1,>=0.23.0->openai) (2025.1.31)\n",
      "Requirement already satisfied: httpcore==1.* in /Users/parkyunsu/anaconda3/envs/edu/lib/python3.12/site-packages (from httpx<1,>=0.23.0->openai) (1.0.7)\n",
      "Requirement already satisfied: h11<0.15,>=0.13 in /Users/parkyunsu/anaconda3/envs/edu/lib/python3.12/site-packages (from httpcore==1.*->httpx<1,>=0.23.0->openai) (0.14.0)\n",
      "Requirement already satisfied: annotated-types>=0.6.0 in /Users/parkyunsu/anaconda3/envs/edu/lib/python3.12/site-packages (from pydantic<3,>=1.9.0->openai) (0.7.0)\n",
      "Requirement already satisfied: pydantic-core==2.27.2 in /Users/parkyunsu/anaconda3/envs/edu/lib/python3.12/site-packages (from pydantic<3,>=1.9.0->openai) (2.27.2)\n",
      "Note: you may need to restart the kernel to use updated packages.\n"
     ]
    }
   ],
   "source": [
    "%pip install --upgrade openai"
   ]
  },
  {
   "cell_type": "code",
   "execution_count": null,
   "id": "9d8f877b",
   "metadata": {},
   "outputs": [
    {
     "name": "stdout",
     "output_type": "stream",
     "text": [
      "1.68.2\n"
     ]
    }
   ],
   "source": [
    "import openai\n",
    "print(openai.__version__)"
   ]
  },
  {
   "cell_type": "code",
   "execution_count": null,
   "id": "97864a20-0086-4520-a21f-e2584c9e7e7e",
   "metadata": {
    "executionInfo": {
     "elapsed": 4,
     "status": "ok",
     "timestamp": 1737307615470,
     "user": {
      "displayName": "주식회사한시경",
      "userId": "01036671795204052858"
     },
     "user_tz": -540
    },
    "id": "97864a20-0086-4520-a21f-e2584c9e7e7e"
   },
   "outputs": [
    {
     "name": "stdout",
     "output_type": "stream",
     "text": [
      "completed\n",
      "FileCounts(cancelled=0, completed=1, failed=0, in_progress=0, total=1)\n",
      "[TextContentBlock(text=Text(annotations=[FileCitationAnnotation(end_index=228, file_citation=FileCitation(file_id='file-QPDda47YaTGr6dihQfnKDz'), start_index=214, text='【4:0†스마트팜.pdf】', type='file_citation')], value='스마트팜은 농업에 첨단기술을 접목하여 농업의 스마트화를 도모하는 것입니다. 이는 농업 밸류체인 전반에 IoT(사물인터넷), 로봇, 드론, AI(인공지능) 등을 활용하여 데이터 기반의 의사결정을 통해 노동력 및 자원의 최적화와 효율성을 증대시키는 것이 목적입니다. 예를 들어, 인공지능, 위성 이미지, GPS 등을 이용해 날씨나 토양 상태를 분석하여 작물의 수확량을 예측할 수 있습니다【4:0†스마트팜.pdf】.'), type='text')]\n",
      "[TextContentBlock(text=Text(annotations=[], value='스마트팜이란?'), type='text')]\n"
     ]
    }
   ],
   "source": [
    "from openai import OpenAI\n",
    "import os\n",
    "import json\n",
    "\n",
    "os.environ[\"OPENAI_API_KEY\"] = \"\"  # OpenAI Key 설정\n",
    "client = OpenAI()\n",
    "\n",
    "# JSON 출력 함수\n",
    "def show_json(obj):\n",
    "    if hasattr(obj, 'model_dump_json'):\n",
    "        print(json.dumps(json.loads(obj.model_dump_json()), indent=2)) \n",
    "    elif hasattr(obj, '__dict__'):\n",
    "        print(json.dumps(obj.__dict__, indent=2))\n",
    "    else:\n",
    "        print(\"Unsupported object for JSON serialization\")\n",
    "\n",
    "# Assistant 생성\n",
    "assistant = client.beta.assistants.create(\n",
    "    name=\"smartfarm\",\n",
    "    instructions=\"당신은 스마트팜에 대한 전문가입니다. PDF 파일에 기반하여 답변해주세요.\",\n",
    "    model=\"gpt-4o\",\n",
    "    tools=[{\"type\": \"file_search\"}]\n",
    ")\n",
    "\n",
    "# Vector Store 생성\n",
    "vector_store = client.vector_stores.create(name=\"file_store\")\n",
    "\n",
    "# 파일 업로드 준비\n",
    "file_paths = [\"/Users/parkyunsu/Downloads/스마트팜.pdf\"]\n",
    "file_streams = [open(path, \"rb\") for path in file_paths]\n",
    "file_batch = client.vector_stores.file_batches.upload_and_poll(\n",
    "    vector_store_id=vector_store.id,\n",
    "    files=file_streams,\n",
    ")\n",
    "\n",
    "# 파일 업로드 상태 확인\n",
    "print(file_batch.status)\n",
    "print(file_batch.file_counts)\n",
    "\n",
    "# Assistant 업데이트: Vector Store 연결\n",
    "assistant = client.beta.assistants.update(\n",
    "  assistant_id=assistant.id,\n",
    "  tool_resources={\"file_search\": {\"vector_store_ids\": [vector_store.id]}},\n",
    ")\n",
    "\n",
    "message_file = client.files.create(\n",
    "  file=open(\"/Users/parkyunsu/Downloads/스마트팜.pdf\", \"rb\"), purpose=\"assistants\"\n",
    ")\n",
    "# Thread 생성\n",
    "thread = client.beta.threads.create(\n",
    "  messages=[\n",
    "    {\n",
    "      \"role\": \"user\",\n",
    "      \"content\": \"스마트팜이란?\",\n",
    "      # Attach the new file to the message.\n",
    "      \"attachments\": [\n",
    "        { \"file_id\": message_file.id, \"tools\": [{\"type\": \"file_search\"}] }\n",
    "      ],\n",
    "    }\n",
    "  ]\n",
    ")\n",
    "\n",
    "# Assistant 실행 및 결과 확인\n",
    "run = client.beta.threads.runs.create_and_poll(\n",
    "    thread_id=thread.id,\n",
    "    assistant_id=assistant.id,\n",
    ")\n",
    "\n",
    "# 결과 출력\n",
    "if run.status == \"completed\":\n",
    "    messages = client.beta.threads.messages.list(thread_id=thread.id)\n",
    "    for msg in messages:\n",
    "        print(msg.content)\n",
    "\n",
    "else:\n",
    "    print(f\"Run processing status: {run.status}\")\n"
   ]
  }
 ],
 "metadata": {
  "colab": {
   "provenance": []
  },
  "kernelspec": {
   "display_name": "edu",
   "language": "python",
   "name": "python3"
  },
  "language_info": {
   "codemirror_mode": {
    "name": "ipython",
    "version": 3
   },
   "file_extension": ".py",
   "mimetype": "text/x-python",
   "name": "python",
   "nbconvert_exporter": "python",
   "pygments_lexer": "ipython3",
   "version": "3.12.9"
  }
 },
 "nbformat": 4,
 "nbformat_minor": 5
}
