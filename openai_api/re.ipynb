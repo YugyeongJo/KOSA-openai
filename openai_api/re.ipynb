{
 "cells": [
  {
   "cell_type": "markdown",
   "metadata": {},
   "source": [
    "# re 모듈이란? "
   ]
  },
  {
   "cell_type": "markdown",
   "metadata": {},
   "source": [
    "- `정규 표현식(Regular Expression)`을 사용해 문자열 검색, 매칭, 치환, 분리 등의 작업을 수행하도록 도와주는 모듈이다.\n",
    "- 정규 표현식은 주어진 패턴을 문자열에서 찾거나 비교, 변환하는 데 활용합니다."
   ]
  },
  {
   "cell_type": "code",
   "execution_count": 1,
   "metadata": {},
   "outputs": [
    {
     "name": "stdout",
     "output_type": "stream",
     "text": [
      "Note: you may need to restart the kernel to use updated packages.\n"
     ]
    },
    {
     "name": "stderr",
     "output_type": "stream",
     "text": [
      "ERROR: Could not find a version that satisfies the requirement re (from versions: none)\n",
      "ERROR: No matching distribution found for re\n"
     ]
    }
   ],
   "source": [
    "%pip install re"
   ]
  },
  {
   "cell_type": "markdown",
   "metadata": {},
   "source": [
    "### 1. 특정 문자열 매칭"
   ]
  },
  {
   "cell_type": "code",
   "execution_count": 2,
   "metadata": {},
   "outputs": [
    {
     "name": "stdout",
     "output_type": "stream",
     "text": [
      "매칭된 문자열: Python\n"
     ]
    }
   ],
   "source": [
    "import re\n",
    "\n",
    "text = \"welcome to Python programming\"\n",
    "\n",
    "# 문자열이 'Python'을 포함하는지 검색\n",
    "match = re.search(r'Python', text)\n",
    "\n",
    "if match:\n",
    "    print(\"매칭된 문자열:\", match.group())  # 매칭된 문자열: Python\n",
    "else:\n",
    "    print(\"매칭되지 않음\")\n"
   ]
  },
  {
   "cell_type": "markdown",
   "metadata": {},
   "source": [
    "### 2. 숫자 추출 (문자열에서 숫자만 찾기)"
   ]
  },
  {
   "cell_type": "code",
   "execution_count": 3,
   "metadata": {},
   "outputs": [
    {
     "name": "stdout",
     "output_type": "stream",
     "text": [
      "['399', '49']\n"
     ]
    }
   ],
   "source": [
    "import re\n",
    "\n",
    "text = \"The price is 399 dollars, and the tax is 49 dollars.\"\n",
    "\n",
    "# 모든 숫자 찾기\n",
    "numbers = re.findall(r'\\d+', text)\n",
    "print(numbers)  # 출력: ['399', '49']\n"
   ]
  },
  {
   "cell_type": "markdown",
   "metadata": {},
   "source": [
    "### 3. 이메일 주소 추출"
   ]
  },
  {
   "cell_type": "code",
   "execution_count": 4,
   "metadata": {},
   "outputs": [
    {
     "name": "stdout",
     "output_type": "stream",
     "text": [
      "['john.doe@example.com', 'admin@website.org']\n"
     ]
    }
   ],
   "source": [
    "import re\n",
    "\n",
    "text = \"You can reach me at john.doe@example.com and admin@website.org.\"\n",
    "\n",
    "# 이메일 패턴\n",
    "emails = re.findall(r'[a-zA-Z0-9._%+-]+@[a-zA-Z0-9.-]+\\.[a-zA-Z]{2,}', text)\n",
    "print(emails)  # 출력: ['john.doe@example.com', 'admin@website.org']\n"
   ]
  },
  {
   "cell_type": "markdown",
   "metadata": {},
   "source": [
    "### 4. 전화번호 추출 (특정 형식의 데이터 찾기)"
   ]
  },
  {
   "cell_type": "code",
   "execution_count": 5,
   "metadata": {},
   "outputs": [
    {
     "name": "stdout",
     "output_type": "stream",
     "text": [
      "['123-456-7890', '987-654-3210']\n"
     ]
    }
   ],
   "source": [
    "import re\n",
    "\n",
    "text = \"Call me at 123-456-7890 or at 987-654-3210.\"\n",
    "\n",
    "# 전화번호 패턴\n",
    "phones = re.findall(r'\\d{3}-\\d{3}-\\d{4}', text)\n",
    "print(phones)  # 출력: ['123-456-7890', '987-654-3210']\n"
   ]
  },
  {
   "cell_type": "markdown",
   "metadata": {},
   "source": [
    "### 5. URL 추출"
   ]
  },
  {
   "cell_type": "code",
   "execution_count": 6,
   "metadata": {},
   "outputs": [
    {
     "name": "stdout",
     "output_type": "stream",
     "text": [
      "['https://example.com', 'http://blog.example.org']\n"
     ]
    }
   ],
   "source": [
    "import re\n",
    "\n",
    "text = \"Visit our site at https://example.com or http://blog.example.org for more information.\"\n",
    "\n",
    "# URL 패턴\n",
    "urls = re.findall(r'https?://[a-zA-Z0-9.-]+\\.[a-zA-Z]+', text)\n",
    "print(urls)  # 출력: ['https://example.com', 'http://blog.example.org']\n"
   ]
  },
  {
   "cell_type": "markdown",
   "metadata": {},
   "source": [
    "### 6. 중복 공백 제거"
   ]
  },
  {
   "cell_type": "code",
   "execution_count": 7,
   "metadata": {},
   "outputs": [
    {
     "name": "stdout",
     "output_type": "stream",
     "text": [
      "This is a sentence with extra spaces.\n"
     ]
    }
   ],
   "source": [
    "import re\n",
    "\n",
    "text = \"This    is   a    sentence with     extra spaces.\"\n",
    "\n",
    "# 중복 공백 패턴을 단일 공백으로 대체\n",
    "result = re.sub(r'\\s+', ' ', text)\n",
    "print(result)  # 출력: This is a sentence with extra spaces.\n"
   ]
  },
  {
   "cell_type": "markdown",
   "metadata": {},
   "source": [
    "### 7. 문장에서 특정 단어 추출"
   ]
  },
  {
   "cell_type": "code",
   "execution_count": 8,
   "metadata": {},
   "outputs": [
    {
     "name": "stdout",
     "output_type": "stream",
     "text": [
      "['Apple', 'pineapple']\n"
     ]
    }
   ],
   "source": [
    "import re\n",
    "\n",
    "text = \"Apple is my favorite fruit. I also like banana and pineapple.\"\n",
    "\n",
    "# 'apple'이 포함된 단어 추출\n",
    "words = re.findall(r'\\b\\w*apple\\w*\\b', text, re.IGNORECASE)\n",
    "print(words)  # 출력: ['Apple', 'pineapple']\n"
   ]
  },
  {
   "cell_type": "markdown",
   "metadata": {},
   "source": [
    "### 8. HTML 태그 제거"
   ]
  },
  {
   "cell_type": "code",
   "execution_count": 9,
   "metadata": {},
   "outputs": [
    {
     "name": "stdout",
     "output_type": "stream",
     "text": [
      "TitleThis is a paragraph.\n"
     ]
    }
   ],
   "source": [
    "import re\n",
    "\n",
    "html = \"<h1>Title</h1><p>This is a paragraph.</p>\"\n",
    "\n",
    "# HTML 태그 제거\n",
    "cleaned = re.sub(r'<.*?>', '', html)\n",
    "print(cleaned)  # 출력: TitleThis is a paragraph.\n"
   ]
  },
  {
   "cell_type": "markdown",
   "metadata": {},
   "source": [
    "### 9. 특정 문자열로 시작하거나 끝나는지 확인"
   ]
  },
  {
   "cell_type": "code",
   "execution_count": 10,
   "metadata": {},
   "outputs": [
    {
     "name": "stdout",
     "output_type": "stream",
     "text": [
      "문자열은 'Python'으로 시작합니다!\n",
      "문자열은 'fun.'으로 끝납니다!\n"
     ]
    }
   ],
   "source": [
    "import re\n",
    "\n",
    "text = \"Python is fun.\"\n",
    "\n",
    "# 문자열이 'Python'으로 시작하는지 확인\n",
    "if re.match(r'^Python', text):\n",
    "    print(\"문자열은 'Python'으로 시작합니다!\")\n",
    "\n",
    "# 문자열이 'fun.'으로 끝나는지 확인\n",
    "if re.search(r'fun\\.$', text):\n",
    "    print(\"문자열은 'fun.'으로 끝납니다!\")\n"
   ]
  },
  {
   "cell_type": "markdown",
   "metadata": {},
   "source": [
    "### 10. 문자열 분리"
   ]
  },
  {
   "cell_type": "code",
   "execution_count": 11,
   "metadata": {},
   "outputs": [
    {
     "name": "stdout",
     "output_type": "stream",
     "text": [
      "['one', 'two', 'three', 'four', 'five']\n"
     ]
    }
   ],
   "source": [
    "import re\n",
    "\n",
    "text = \"one,two, three;four five\"\n",
    "\n",
    "# 쉼표, 세미콜론, 또는 공백으로 분리\n",
    "words = re.split(r'[,\\s;]+', text)\n",
    "print(words)  # 출력: ['one', 'two', 'three', 'four', 'five']\n"
   ]
  },
  {
   "cell_type": "markdown",
   "metadata": {},
   "source": [
    "### 11. 특정 패턴의 단어 개수 세기"
   ]
  },
  {
   "cell_type": "code",
   "execution_count": 12,
   "metadata": {},
   "outputs": [
    {
     "name": "stdout",
     "output_type": "stream",
     "text": [
      "4\n"
     ]
    }
   ],
   "source": [
    "import re\n",
    "\n",
    "text = \"cat, dog, catdog, catty, and cat.\"\n",
    "\n",
    "# 'cat'으로 시작하는 모든 단어 카운트\n",
    "matches = re.findall(r'\\bcat\\w*\\b', text)\n",
    "print(len(matches))  # 출력: 4\n"
   ]
  },
  {
   "cell_type": "markdown",
   "metadata": {},
   "source": [
    "### 12. 날짜 형식 추출"
   ]
  },
  {
   "cell_type": "code",
   "execution_count": 13,
   "metadata": {},
   "outputs": [
    {
     "name": "stdout",
     "output_type": "stream",
     "text": [
      "['2023-07-17', '2023-06-30']\n"
     ]
    }
   ],
   "source": [
    "import re\n",
    "\n",
    "text = \"The event is on 2023-07-17, and registration closes on 2023-06-30.\"\n",
    "\n",
    "# 날짜 형식 추출\n",
    "dates = re.findall(r'\\d{4}-\\d{2}-\\d{2}', text)\n",
    "print(dates)  # 출력: ['2023-07-17', '2023-06-30']\n"
   ]
  },
  {
   "cell_type": "markdown",
   "metadata": {},
   "source": [
    "### 13. 문장에서 특수 문자 제거"
   ]
  },
  {
   "cell_type": "code",
   "execution_count": 14,
   "metadata": {},
   "outputs": [
    {
     "name": "stdout",
     "output_type": "stream",
     "text": [
      "Hello How are you doing Amazing isnt it\n"
     ]
    }
   ],
   "source": [
    "import re\n",
    "\n",
    "text = \"Hello! How are you doing? Amazing, isn't it?\"\n",
    "\n",
    "# 특수 문자 제거\n",
    "result = re.sub(r'[^\\w\\s]', '', text)\n",
    "print(result)  # 출력: Hello How are you doing Amazing isnt it\n"
   ]
  },
  {
   "cell_type": "markdown",
   "metadata": {},
   "source": [
    "### 14. 비밀번호 유효성 검사"
   ]
  },
  {
   "cell_type": "code",
   "execution_count": 15,
   "metadata": {},
   "outputs": [
    {
     "name": "stdout",
     "output_type": "stream",
     "text": [
      "유효한 비밀번호\n"
     ]
    }
   ],
   "source": [
    "import re\n",
    "\n",
    "password = \"StrongPassword123!\"\n",
    "\n",
    "# 비밀번호 유효성 검사 - 최소 8자, 대문자, 소문자, 숫자, 특수 문자 포함\n",
    "pattern = r'^(?=.*[A-Z])(?=.*[a-z])(?=.*\\d)(?=.*[@$!%*?&])[A-Za-z\\d@$!%*?&]{8,}$'\n",
    "\n",
    "if re.match(pattern, password):\n",
    "    print(\"유효한 비밀번호\")\n",
    "else:\n",
    "    print(\"유효하지 않은 비밀번호\")\n"
   ]
  },
  {
   "cell_type": "markdown",
   "metadata": {},
   "source": [
    "### 15. CSV 데이터 추출"
   ]
  },
  {
   "cell_type": "code",
   "execution_count": 16,
   "metadata": {},
   "outputs": [
    {
     "name": "stdout",
     "output_type": "stream",
     "text": [
      "[('Name', 'John'), ('Age', '30'), ('City', 'New York')]\n"
     ]
    }
   ],
   "source": [
    "import re\n",
    "\n",
    "data = \"Name: John, Age: 30, City: New York\"\n",
    "\n",
    "# 키-값 쌍 추출\n",
    "pairs = re.findall(r'(\\w+):\\s*([^,]+)', data)\n",
    "print(pairs)  # 출력: [('Name', 'John'), ('Age', '30'), ('City', 'New York')]\n"
   ]
  }
 ],
 "metadata": {
  "kernelspec": {
   "display_name": "KOSA",
   "language": "python",
   "name": "python3"
  },
  "language_info": {
   "codemirror_mode": {
    "name": "ipython",
    "version": 3
   },
   "file_extension": ".py",
   "mimetype": "text/x-python",
   "name": "python",
   "nbconvert_exporter": "python",
   "pygments_lexer": "ipython3",
   "version": "3.10.16"
  }
 },
 "nbformat": 4,
 "nbformat_minor": 2
}
