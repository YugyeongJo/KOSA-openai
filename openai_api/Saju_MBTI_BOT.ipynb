{
  "cells": [
    {
      "cell_type": "code",
      "execution_count": 1,
      "metadata": {
        "colab": {
          "base_uri": "https://localhost:8080/"
        },
        "collapsed": true,
        "id": "P767xPxnk9-t",
        "outputId": "f704c6f2-6a21-4d42-e8f7-795b90d33b0d"
      },
      "outputs": [
        {
          "name": "stdout",
          "output_type": "stream",
          "text": [
            "Requirement already satisfied: langchain in c:\\users\\yugye\\appdata\\local\\anaconda3\\envs\\kosa\\lib\\site-packages (0.3.21)\n",
            "Requirement already satisfied: langchain-core<1.0.0,>=0.3.45 in c:\\users\\yugye\\appdata\\local\\anaconda3\\envs\\kosa\\lib\\site-packages (from langchain) (0.3.49)\n",
            "Requirement already satisfied: langchain-text-splitters<1.0.0,>=0.3.7 in c:\\users\\yugye\\appdata\\local\\anaconda3\\envs\\kosa\\lib\\site-packages (from langchain) (0.3.7)\n",
            "Requirement already satisfied: langsmith<0.4,>=0.1.17 in c:\\users\\yugye\\appdata\\local\\anaconda3\\envs\\kosa\\lib\\site-packages (from langchain) (0.3.19)\n",
            "Requirement already satisfied: pydantic<3.0.0,>=2.7.4 in c:\\users\\yugye\\appdata\\local\\anaconda3\\envs\\kosa\\lib\\site-packages (from langchain) (2.10.6)\n",
            "Requirement already satisfied: SQLAlchemy<3,>=1.4 in c:\\users\\yugye\\appdata\\local\\anaconda3\\envs\\kosa\\lib\\site-packages (from langchain) (2.0.39)\n",
            "Requirement already satisfied: requests<3,>=2 in c:\\users\\yugye\\appdata\\local\\anaconda3\\envs\\kosa\\lib\\site-packages (from langchain) (2.32.3)\n",
            "Requirement already satisfied: PyYAML>=5.3 in c:\\users\\yugye\\appdata\\local\\anaconda3\\envs\\kosa\\lib\\site-packages (from langchain) (6.0.2)\n",
            "Requirement already satisfied: async-timeout<5.0.0,>=4.0.0 in c:\\users\\yugye\\appdata\\local\\anaconda3\\envs\\kosa\\lib\\site-packages (from langchain) (4.0.3)\n",
            "Requirement already satisfied: tenacity!=8.4.0,<10.0.0,>=8.1.0 in c:\\users\\yugye\\appdata\\local\\anaconda3\\envs\\kosa\\lib\\site-packages (from langchain-core<1.0.0,>=0.3.45->langchain) (9.0.0)\n",
            "Requirement already satisfied: jsonpatch<2.0,>=1.33 in c:\\users\\yugye\\appdata\\local\\anaconda3\\envs\\kosa\\lib\\site-packages (from langchain-core<1.0.0,>=0.3.45->langchain) (1.33)\n",
            "Requirement already satisfied: packaging<25,>=23.2 in c:\\users\\yugye\\appdata\\local\\anaconda3\\envs\\kosa\\lib\\site-packages (from langchain-core<1.0.0,>=0.3.45->langchain) (24.2)\n",
            "Requirement already satisfied: typing-extensions>=4.7 in c:\\users\\yugye\\appdata\\local\\anaconda3\\envs\\kosa\\lib\\site-packages (from langchain-core<1.0.0,>=0.3.45->langchain) (4.12.2)\n",
            "Requirement already satisfied: httpx<1,>=0.23.0 in c:\\users\\yugye\\appdata\\local\\anaconda3\\envs\\kosa\\lib\\site-packages (from langsmith<0.4,>=0.1.17->langchain) (0.28.1)\n",
            "Requirement already satisfied: orjson<4.0.0,>=3.9.14 in c:\\users\\yugye\\appdata\\local\\anaconda3\\envs\\kosa\\lib\\site-packages (from langsmith<0.4,>=0.1.17->langchain) (3.10.16)\n",
            "Requirement already satisfied: requests-toolbelt<2.0.0,>=1.0.0 in c:\\users\\yugye\\appdata\\local\\anaconda3\\envs\\kosa\\lib\\site-packages (from langsmith<0.4,>=0.1.17->langchain) (1.0.0)\n",
            "Requirement already satisfied: zstandard<0.24.0,>=0.23.0 in c:\\users\\yugye\\appdata\\local\\anaconda3\\envs\\kosa\\lib\\site-packages (from langsmith<0.4,>=0.1.17->langchain) (0.23.0)\n",
            "Requirement already satisfied: annotated-types>=0.6.0 in c:\\users\\yugye\\appdata\\local\\anaconda3\\envs\\kosa\\lib\\site-packages (from pydantic<3.0.0,>=2.7.4->langchain) (0.7.0)\n",
            "Requirement already satisfied: pydantic-core==2.27.2 in c:\\users\\yugye\\appdata\\local\\anaconda3\\envs\\kosa\\lib\\site-packages (from pydantic<3.0.0,>=2.7.4->langchain) (2.27.2)\n",
            "Requirement already satisfied: charset-normalizer<4,>=2 in c:\\users\\yugye\\appdata\\local\\anaconda3\\envs\\kosa\\lib\\site-packages (from requests<3,>=2->langchain) (3.4.1)\n",
            "Requirement already satisfied: idna<4,>=2.5 in c:\\users\\yugye\\appdata\\local\\anaconda3\\envs\\kosa\\lib\\site-packages (from requests<3,>=2->langchain) (3.10)\n",
            "Requirement already satisfied: urllib3<3,>=1.21.1 in c:\\users\\yugye\\appdata\\local\\anaconda3\\envs\\kosa\\lib\\site-packages (from requests<3,>=2->langchain) (2.3.0)\n",
            "Requirement already satisfied: certifi>=2017.4.17 in c:\\users\\yugye\\appdata\\local\\anaconda3\\envs\\kosa\\lib\\site-packages (from requests<3,>=2->langchain) (2025.1.31)\n",
            "Requirement already satisfied: greenlet!=0.4.17 in c:\\users\\yugye\\appdata\\local\\anaconda3\\envs\\kosa\\lib\\site-packages (from SQLAlchemy<3,>=1.4->langchain) (3.1.1)\n",
            "Requirement already satisfied: anyio in c:\\users\\yugye\\appdata\\local\\anaconda3\\envs\\kosa\\lib\\site-packages (from httpx<1,>=0.23.0->langsmith<0.4,>=0.1.17->langchain) (4.9.0)\n",
            "Requirement already satisfied: httpcore==1.* in c:\\users\\yugye\\appdata\\local\\anaconda3\\envs\\kosa\\lib\\site-packages (from httpx<1,>=0.23.0->langsmith<0.4,>=0.1.17->langchain) (1.0.7)\n",
            "Requirement already satisfied: h11<0.15,>=0.13 in c:\\users\\yugye\\appdata\\local\\anaconda3\\envs\\kosa\\lib\\site-packages (from httpcore==1.*->httpx<1,>=0.23.0->langsmith<0.4,>=0.1.17->langchain) (0.14.0)\n",
            "Requirement already satisfied: jsonpointer>=1.9 in c:\\users\\yugye\\appdata\\local\\anaconda3\\envs\\kosa\\lib\\site-packages (from jsonpatch<2.0,>=1.33->langchain-core<1.0.0,>=0.3.45->langchain) (3.0.0)\n",
            "Requirement already satisfied: exceptiongroup>=1.0.2 in c:\\users\\yugye\\appdata\\local\\anaconda3\\envs\\kosa\\lib\\site-packages (from anyio->httpx<1,>=0.23.0->langsmith<0.4,>=0.1.17->langchain) (1.2.2)\n",
            "Requirement already satisfied: sniffio>=1.1 in c:\\users\\yugye\\appdata\\local\\anaconda3\\envs\\kosa\\lib\\site-packages (from anyio->httpx<1,>=0.23.0->langsmith<0.4,>=0.1.17->langchain) (1.3.1)\n",
            "Note: you may need to restart the kernel to use updated packages.\n",
            "Requirement already satisfied: pandas in c:\\users\\yugye\\appdata\\local\\anaconda3\\envs\\kosa\\lib\\site-packages (2.2.3)\n",
            "Requirement already satisfied: numpy>=1.22.4 in c:\\users\\yugye\\appdata\\local\\anaconda3\\envs\\kosa\\lib\\site-packages (from pandas) (2.2.4)\n",
            "Requirement already satisfied: python-dateutil>=2.8.2 in c:\\users\\yugye\\appdata\\local\\anaconda3\\envs\\kosa\\lib\\site-packages (from pandas) (2.9.0.post0)\n",
            "Requirement already satisfied: pytz>=2020.1 in c:\\users\\yugye\\appdata\\local\\anaconda3\\envs\\kosa\\lib\\site-packages (from pandas) (2025.2)\n",
            "Requirement already satisfied: tzdata>=2022.7 in c:\\users\\yugye\\appdata\\local\\anaconda3\\envs\\kosa\\lib\\site-packages (from pandas) (2025.2)\n",
            "Requirement already satisfied: six>=1.5 in c:\\users\\yugye\\appdata\\local\\anaconda3\\envs\\kosa\\lib\\site-packages (from python-dateutil>=2.8.2->pandas) (1.17.0)\n",
            "Note: you may need to restart the kernel to use updated packages.\n",
            "Requirement already satisfied: scikit-learn in c:\\users\\yugye\\appdata\\local\\anaconda3\\envs\\kosa\\lib\\site-packages (1.6.1)\n",
            "Requirement already satisfied: numpy>=1.19.5 in c:\\users\\yugye\\appdata\\local\\anaconda3\\envs\\kosa\\lib\\site-packages (from scikit-learn) (2.2.4)\n",
            "Requirement already satisfied: scipy>=1.6.0 in c:\\users\\yugye\\appdata\\local\\anaconda3\\envs\\kosa\\lib\\site-packages (from scikit-learn) (1.15.2)\n",
            "Requirement already satisfied: joblib>=1.2.0 in c:\\users\\yugye\\appdata\\local\\anaconda3\\envs\\kosa\\lib\\site-packages (from scikit-learn) (1.4.2)\n",
            "Requirement already satisfied: threadpoolctl>=3.1.0 in c:\\users\\yugye\\appdata\\local\\anaconda3\\envs\\kosa\\lib\\site-packages (from scikit-learn) (3.6.0)\n",
            "Note: you may need to restart the kernel to use updated packages.\n"
          ]
        }
      ],
      "source": [
        "%pip install langchain\n",
        "%pip install pandas\n",
        "%pip install scikit-learn"
      ]
    },
    {
      "cell_type": "code",
      "execution_count": 2,
      "metadata": {
        "colab": {
          "base_uri": "https://localhost:8080/"
        },
        "collapsed": true,
        "id": "5bp8-RW6nY6d",
        "outputId": "22a7a76c-ce46-45a8-a9ce-da08d41aca51"
      },
      "outputs": [
        {
          "name": "stdout",
          "output_type": "stream",
          "text": [
            "Requirement already satisfied: openai in c:\\users\\yugye\\appdata\\local\\anaconda3\\envs\\kosa\\lib\\site-packages (1.68.2)\n",
            "Requirement already satisfied: anyio<5,>=3.5.0 in c:\\users\\yugye\\appdata\\local\\anaconda3\\envs\\kosa\\lib\\site-packages (from openai) (4.9.0)\n",
            "Requirement already satisfied: distro<2,>=1.7.0 in c:\\users\\yugye\\appdata\\local\\anaconda3\\envs\\kosa\\lib\\site-packages (from openai) (1.9.0)\n",
            "Requirement already satisfied: httpx<1,>=0.23.0 in c:\\users\\yugye\\appdata\\local\\anaconda3\\envs\\kosa\\lib\\site-packages (from openai) (0.28.1)\n",
            "Requirement already satisfied: jiter<1,>=0.4.0 in c:\\users\\yugye\\appdata\\local\\anaconda3\\envs\\kosa\\lib\\site-packages (from openai) (0.9.0)\n",
            "Requirement already satisfied: pydantic<3,>=1.9.0 in c:\\users\\yugye\\appdata\\local\\anaconda3\\envs\\kosa\\lib\\site-packages (from openai) (2.10.6)\n",
            "Requirement already satisfied: sniffio in c:\\users\\yugye\\appdata\\local\\anaconda3\\envs\\kosa\\lib\\site-packages (from openai) (1.3.1)\n",
            "Requirement already satisfied: tqdm>4 in c:\\users\\yugye\\appdata\\local\\anaconda3\\envs\\kosa\\lib\\site-packages (from openai) (4.67.1)\n",
            "Requirement already satisfied: typing-extensions<5,>=4.11 in c:\\users\\yugye\\appdata\\local\\anaconda3\\envs\\kosa\\lib\\site-packages (from openai) (4.12.2)\n",
            "Requirement already satisfied: exceptiongroup>=1.0.2 in c:\\users\\yugye\\appdata\\local\\anaconda3\\envs\\kosa\\lib\\site-packages (from anyio<5,>=3.5.0->openai) (1.2.2)\n",
            "Requirement already satisfied: idna>=2.8 in c:\\users\\yugye\\appdata\\local\\anaconda3\\envs\\kosa\\lib\\site-packages (from anyio<5,>=3.5.0->openai) (3.10)\n",
            "Requirement already satisfied: certifi in c:\\users\\yugye\\appdata\\local\\anaconda3\\envs\\kosa\\lib\\site-packages (from httpx<1,>=0.23.0->openai) (2025.1.31)\n",
            "Requirement already satisfied: httpcore==1.* in c:\\users\\yugye\\appdata\\local\\anaconda3\\envs\\kosa\\lib\\site-packages (from httpx<1,>=0.23.0->openai) (1.0.7)\n",
            "Requirement already satisfied: h11<0.15,>=0.13 in c:\\users\\yugye\\appdata\\local\\anaconda3\\envs\\kosa\\lib\\site-packages (from httpcore==1.*->httpx<1,>=0.23.0->openai) (0.14.0)\n",
            "Requirement already satisfied: annotated-types>=0.6.0 in c:\\users\\yugye\\appdata\\local\\anaconda3\\envs\\kosa\\lib\\site-packages (from pydantic<3,>=1.9.0->openai) (0.7.0)\n",
            "Requirement already satisfied: pydantic-core==2.27.2 in c:\\users\\yugye\\appdata\\local\\anaconda3\\envs\\kosa\\lib\\site-packages (from pydantic<3,>=1.9.0->openai) (2.27.2)\n",
            "Requirement already satisfied: colorama in c:\\users\\yugye\\appdata\\local\\anaconda3\\envs\\kosa\\lib\\site-packages (from tqdm>4->openai) (0.4.6)\n",
            "Note: you may need to restart the kernel to use updated packages.\n"
          ]
        }
      ],
      "source": [
        "%pip install openai"
      ]
    },
    {
      "cell_type": "code",
      "execution_count": 3,
      "metadata": {
        "colab": {
          "base_uri": "https://localhost:8080/"
        },
        "collapsed": true,
        "id": "FNId1XxYnKXo",
        "outputId": "cf33c72f-9a58-482d-c321-1faca3baaa72"
      },
      "outputs": [
        {
          "name": "stdout",
          "output_type": "stream",
          "text": [
            "Requirement already satisfied: langchain_community in c:\\users\\yugye\\appdata\\local\\anaconda3\\envs\\kosa\\lib\\site-packages (0.3.20)\n",
            "Requirement already satisfied: langchain-core<1.0.0,>=0.3.45 in c:\\users\\yugye\\appdata\\local\\anaconda3\\envs\\kosa\\lib\\site-packages (from langchain_community) (0.3.49)\n",
            "Requirement already satisfied: langchain<1.0.0,>=0.3.21 in c:\\users\\yugye\\appdata\\local\\anaconda3\\envs\\kosa\\lib\\site-packages (from langchain_community) (0.3.21)\n",
            "Requirement already satisfied: SQLAlchemy<3,>=1.4 in c:\\users\\yugye\\appdata\\local\\anaconda3\\envs\\kosa\\lib\\site-packages (from langchain_community) (2.0.39)\n",
            "Requirement already satisfied: requests<3,>=2 in c:\\users\\yugye\\appdata\\local\\anaconda3\\envs\\kosa\\lib\\site-packages (from langchain_community) (2.32.3)\n",
            "Requirement already satisfied: PyYAML>=5.3 in c:\\users\\yugye\\appdata\\local\\anaconda3\\envs\\kosa\\lib\\site-packages (from langchain_community) (6.0.2)\n",
            "Requirement already satisfied: aiohttp<4.0.0,>=3.8.3 in c:\\users\\yugye\\appdata\\local\\anaconda3\\envs\\kosa\\lib\\site-packages (from langchain_community) (3.11.14)\n",
            "Requirement already satisfied: tenacity!=8.4.0,<10,>=8.1.0 in c:\\users\\yugye\\appdata\\local\\anaconda3\\envs\\kosa\\lib\\site-packages (from langchain_community) (9.0.0)\n",
            "Requirement already satisfied: dataclasses-json<0.7,>=0.5.7 in c:\\users\\yugye\\appdata\\local\\anaconda3\\envs\\kosa\\lib\\site-packages (from langchain_community) (0.6.7)\n",
            "Requirement already satisfied: pydantic-settings<3.0.0,>=2.4.0 in c:\\users\\yugye\\appdata\\local\\anaconda3\\envs\\kosa\\lib\\site-packages (from langchain_community) (2.8.1)\n",
            "Requirement already satisfied: langsmith<0.4,>=0.1.125 in c:\\users\\yugye\\appdata\\local\\anaconda3\\envs\\kosa\\lib\\site-packages (from langchain_community) (0.3.19)\n",
            "Requirement already satisfied: httpx-sse<1.0.0,>=0.4.0 in c:\\users\\yugye\\appdata\\local\\anaconda3\\envs\\kosa\\lib\\site-packages (from langchain_community) (0.4.0)\n",
            "Requirement already satisfied: numpy<3,>=1.26.2 in c:\\users\\yugye\\appdata\\local\\anaconda3\\envs\\kosa\\lib\\site-packages (from langchain_community) (2.2.4)\n",
            "Requirement already satisfied: aiohappyeyeballs>=2.3.0 in c:\\users\\yugye\\appdata\\local\\anaconda3\\envs\\kosa\\lib\\site-packages (from aiohttp<4.0.0,>=3.8.3->langchain_community) (2.6.1)\n",
            "Requirement already satisfied: aiosignal>=1.1.2 in c:\\users\\yugye\\appdata\\local\\anaconda3\\envs\\kosa\\lib\\site-packages (from aiohttp<4.0.0,>=3.8.3->langchain_community) (1.3.2)\n",
            "Requirement already satisfied: async-timeout<6.0,>=4.0 in c:\\users\\yugye\\appdata\\local\\anaconda3\\envs\\kosa\\lib\\site-packages (from aiohttp<4.0.0,>=3.8.3->langchain_community) (4.0.3)\n",
            "Requirement already satisfied: attrs>=17.3.0 in c:\\users\\yugye\\appdata\\local\\anaconda3\\envs\\kosa\\lib\\site-packages (from aiohttp<4.0.0,>=3.8.3->langchain_community) (25.3.0)\n",
            "Requirement already satisfied: frozenlist>=1.1.1 in c:\\users\\yugye\\appdata\\local\\anaconda3\\envs\\kosa\\lib\\site-packages (from aiohttp<4.0.0,>=3.8.3->langchain_community) (1.5.0)\n",
            "Requirement already satisfied: multidict<7.0,>=4.5 in c:\\users\\yugye\\appdata\\local\\anaconda3\\envs\\kosa\\lib\\site-packages (from aiohttp<4.0.0,>=3.8.3->langchain_community) (6.2.0)\n",
            "Requirement already satisfied: propcache>=0.2.0 in c:\\users\\yugye\\appdata\\local\\anaconda3\\envs\\kosa\\lib\\site-packages (from aiohttp<4.0.0,>=3.8.3->langchain_community) (0.3.1)\n",
            "Requirement already satisfied: yarl<2.0,>=1.17.0 in c:\\users\\yugye\\appdata\\local\\anaconda3\\envs\\kosa\\lib\\site-packages (from aiohttp<4.0.0,>=3.8.3->langchain_community) (1.18.3)\n",
            "Requirement already satisfied: marshmallow<4.0.0,>=3.18.0 in c:\\users\\yugye\\appdata\\local\\anaconda3\\envs\\kosa\\lib\\site-packages (from dataclasses-json<0.7,>=0.5.7->langchain_community) (3.26.1)\n",
            "Requirement already satisfied: typing-inspect<1,>=0.4.0 in c:\\users\\yugye\\appdata\\local\\anaconda3\\envs\\kosa\\lib\\site-packages (from dataclasses-json<0.7,>=0.5.7->langchain_community) (0.9.0)\n",
            "Requirement already satisfied: langchain-text-splitters<1.0.0,>=0.3.7 in c:\\users\\yugye\\appdata\\local\\anaconda3\\envs\\kosa\\lib\\site-packages (from langchain<1.0.0,>=0.3.21->langchain_community) (0.3.7)\n",
            "Requirement already satisfied: pydantic<3.0.0,>=2.7.4 in c:\\users\\yugye\\appdata\\local\\anaconda3\\envs\\kosa\\lib\\site-packages (from langchain<1.0.0,>=0.3.21->langchain_community) (2.10.6)\n",
            "Requirement already satisfied: jsonpatch<2.0,>=1.33 in c:\\users\\yugye\\appdata\\local\\anaconda3\\envs\\kosa\\lib\\site-packages (from langchain-core<1.0.0,>=0.3.45->langchain_community) (1.33)\n",
            "Requirement already satisfied: packaging<25,>=23.2 in c:\\users\\yugye\\appdata\\local\\anaconda3\\envs\\kosa\\lib\\site-packages (from langchain-core<1.0.0,>=0.3.45->langchain_community) (24.2)\n",
            "Requirement already satisfied: typing-extensions>=4.7 in c:\\users\\yugye\\appdata\\local\\anaconda3\\envs\\kosa\\lib\\site-packages (from langchain-core<1.0.0,>=0.3.45->langchain_community) (4.12.2)\n",
            "Requirement already satisfied: httpx<1,>=0.23.0 in c:\\users\\yugye\\appdata\\local\\anaconda3\\envs\\kosa\\lib\\site-packages (from langsmith<0.4,>=0.1.125->langchain_community) (0.28.1)\n",
            "Requirement already satisfied: orjson<4.0.0,>=3.9.14 in c:\\users\\yugye\\appdata\\local\\anaconda3\\envs\\kosa\\lib\\site-packages (from langsmith<0.4,>=0.1.125->langchain_community) (3.10.16)\n",
            "Requirement already satisfied: requests-toolbelt<2.0.0,>=1.0.0 in c:\\users\\yugye\\appdata\\local\\anaconda3\\envs\\kosa\\lib\\site-packages (from langsmith<0.4,>=0.1.125->langchain_community) (1.0.0)\n",
            "Requirement already satisfied: zstandard<0.24.0,>=0.23.0 in c:\\users\\yugye\\appdata\\local\\anaconda3\\envs\\kosa\\lib\\site-packages (from langsmith<0.4,>=0.1.125->langchain_community) (0.23.0)\n",
            "Requirement already satisfied: python-dotenv>=0.21.0 in c:\\users\\yugye\\appdata\\local\\anaconda3\\envs\\kosa\\lib\\site-packages (from pydantic-settings<3.0.0,>=2.4.0->langchain_community) (1.1.0)\n",
            "Requirement already satisfied: charset-normalizer<4,>=2 in c:\\users\\yugye\\appdata\\local\\anaconda3\\envs\\kosa\\lib\\site-packages (from requests<3,>=2->langchain_community) (3.4.1)\n",
            "Requirement already satisfied: idna<4,>=2.5 in c:\\users\\yugye\\appdata\\local\\anaconda3\\envs\\kosa\\lib\\site-packages (from requests<3,>=2->langchain_community) (3.10)\n",
            "Requirement already satisfied: urllib3<3,>=1.21.1 in c:\\users\\yugye\\appdata\\local\\anaconda3\\envs\\kosa\\lib\\site-packages (from requests<3,>=2->langchain_community) (2.3.0)\n",
            "Requirement already satisfied: certifi>=2017.4.17 in c:\\users\\yugye\\appdata\\local\\anaconda3\\envs\\kosa\\lib\\site-packages (from requests<3,>=2->langchain_community) (2025.1.31)\n",
            "Requirement already satisfied: greenlet!=0.4.17 in c:\\users\\yugye\\appdata\\local\\anaconda3\\envs\\kosa\\lib\\site-packages (from SQLAlchemy<3,>=1.4->langchain_community) (3.1.1)\n",
            "Requirement already satisfied: anyio in c:\\users\\yugye\\appdata\\local\\anaconda3\\envs\\kosa\\lib\\site-packages (from httpx<1,>=0.23.0->langsmith<0.4,>=0.1.125->langchain_community) (4.9.0)\n",
            "Requirement already satisfied: httpcore==1.* in c:\\users\\yugye\\appdata\\local\\anaconda3\\envs\\kosa\\lib\\site-packages (from httpx<1,>=0.23.0->langsmith<0.4,>=0.1.125->langchain_community) (1.0.7)\n",
            "Requirement already satisfied: h11<0.15,>=0.13 in c:\\users\\yugye\\appdata\\local\\anaconda3\\envs\\kosa\\lib\\site-packages (from httpcore==1.*->httpx<1,>=0.23.0->langsmith<0.4,>=0.1.125->langchain_community) (0.14.0)\n",
            "Requirement already satisfied: jsonpointer>=1.9 in c:\\users\\yugye\\appdata\\local\\anaconda3\\envs\\kosa\\lib\\site-packages (from jsonpatch<2.0,>=1.33->langchain-core<1.0.0,>=0.3.45->langchain_community) (3.0.0)\n",
            "Requirement already satisfied: annotated-types>=0.6.0 in c:\\users\\yugye\\appdata\\local\\anaconda3\\envs\\kosa\\lib\\site-packages (from pydantic<3.0.0,>=2.7.4->langchain<1.0.0,>=0.3.21->langchain_community) (0.7.0)\n",
            "Requirement already satisfied: pydantic-core==2.27.2 in c:\\users\\yugye\\appdata\\local\\anaconda3\\envs\\kosa\\lib\\site-packages (from pydantic<3.0.0,>=2.7.4->langchain<1.0.0,>=0.3.21->langchain_community) (2.27.2)\n",
            "Requirement already satisfied: mypy-extensions>=0.3.0 in c:\\users\\yugye\\appdata\\local\\anaconda3\\envs\\kosa\\lib\\site-packages (from typing-inspect<1,>=0.4.0->dataclasses-json<0.7,>=0.5.7->langchain_community) (1.0.0)\n",
            "Requirement already satisfied: exceptiongroup>=1.0.2 in c:\\users\\yugye\\appdata\\local\\anaconda3\\envs\\kosa\\lib\\site-packages (from anyio->httpx<1,>=0.23.0->langsmith<0.4,>=0.1.125->langchain_community) (1.2.2)\n",
            "Requirement already satisfied: sniffio>=1.1 in c:\\users\\yugye\\appdata\\local\\anaconda3\\envs\\kosa\\lib\\site-packages (from anyio->httpx<1,>=0.23.0->langsmith<0.4,>=0.1.125->langchain_community) (1.3.1)\n",
            "Note: you may need to restart the kernel to use updated packages.\n"
          ]
        }
      ],
      "source": [
        "%pip install langchain_community"
      ]
    },
    {
      "cell_type": "code",
      "execution_count": 4,
      "metadata": {
        "colab": {
          "base_uri": "https://localhost:8080/",
          "height": 143
        },
        "id": "AUMsajy7qcKG",
        "outputId": "117fb0eb-9433-4d7b-8d99-55140319f7ca"
      },
      "outputs": [
        {
          "data": {
            "text/html": [
              "<div>\n",
              "<style scoped>\n",
              "    .dataframe tbody tr th:only-of-type {\n",
              "        vertical-align: middle;\n",
              "    }\n",
              "\n",
              "    .dataframe tbody tr th {\n",
              "        vertical-align: top;\n",
              "    }\n",
              "\n",
              "    .dataframe thead th {\n",
              "        text-align: right;\n",
              "    }\n",
              "</style>\n",
              "<table border=\"1\" class=\"dataframe\">\n",
              "  <thead>\n",
              "    <tr style=\"text-align: right;\">\n",
              "      <th></th>\n",
              "      <th>birth_date</th>\n",
              "      <th>mbti_type</th>\n",
              "    </tr>\n",
              "  </thead>\n",
              "  <tbody>\n",
              "    <tr>\n",
              "      <th>0</th>\n",
              "      <td>1990-01-01</td>\n",
              "      <td>ENTJ</td>\n",
              "    </tr>\n",
              "    <tr>\n",
              "      <th>1</th>\n",
              "      <td>1995-05-15</td>\n",
              "      <td>INFP</td>\n",
              "    </tr>\n",
              "    <tr>\n",
              "      <th>2</th>\n",
              "      <td>2000-12-30</td>\n",
              "      <td>ESFP</td>\n",
              "    </tr>\n",
              "  </tbody>\n",
              "</table>\n",
              "</div>"
            ],
            "text/plain": [
              "   birth_date mbti_type\n",
              "0  1990-01-01      ENTJ\n",
              "1  1995-05-15      INFP\n",
              "2  2000-12-30      ESFP"
            ]
          },
          "execution_count": 4,
          "metadata": {},
          "output_type": "execute_result"
        }
      ],
      "source": [
        "import pandas as pd\n",
        "from sklearn.metrics import mean_squared_error\n",
        "from langchain import LLMChain\n",
        "\n",
        "# 사주명식과 MBTI 데이터 수집 및 전처리\n",
        "\n",
        "data = {\n",
        "    'birth_date': ['1990-01-01', '1995-05-15', '2000-12-30'],\n",
        "    'mbti_type': ['ENTJ', 'INFP', 'ESFP']\n",
        "}\n",
        "df = pd.DataFrame(data)\n",
        "df"
      ]
    },
    {
      "cell_type": "code",
      "execution_count": 5,
      "metadata": {
        "colab": {
          "base_uri": "https://localhost:8080/"
        },
        "id": "NH6umNzsP-Zo",
        "outputId": "084f3448-ecbd-4eec-8107-c800c55ebc5e"
      },
      "outputs": [
        {
          "data": {
            "text/plain": [
              "1990"
            ]
          },
          "execution_count": 5,
          "metadata": {},
          "output_type": "execute_result"
        }
      ],
      "source": [
        "# data['birth_date']\n",
        "# df['birth_date'].values\n",
        "# df['birth_date'].values[0]\n",
        "# df['birth_date'].values[0].split('-')[0]\n",
        "int(df['birth_date'].values[0].split('-')[0])"
      ]
    },
    {
      "cell_type": "code",
      "execution_count": 6,
      "metadata": {
        "colab": {
          "base_uri": "https://localhost:8080/",
          "height": 143
        },
        "id": "PDqGLhRCqlUu",
        "outputId": "c6875281-14f9-4f32-fbb7-7b3df1b61a2a"
      },
      "outputs": [
        {
          "data": {
            "text/html": [
              "<div>\n",
              "<style scoped>\n",
              "    .dataframe tbody tr th:only-of-type {\n",
              "        vertical-align: middle;\n",
              "    }\n",
              "\n",
              "    .dataframe tbody tr th {\n",
              "        vertical-align: top;\n",
              "    }\n",
              "\n",
              "    .dataframe thead th {\n",
              "        text-align: right;\n",
              "    }\n",
              "</style>\n",
              "<table border=\"1\" class=\"dataframe\">\n",
              "  <thead>\n",
              "    <tr style=\"text-align: right;\">\n",
              "      <th></th>\n",
              "      <th>birth_date</th>\n",
              "      <th>mbti_type</th>\n",
              "      <th>saju</th>\n",
              "    </tr>\n",
              "  </thead>\n",
              "  <tbody>\n",
              "    <tr>\n",
              "      <th>0</th>\n",
              "      <td>1990-01-01</td>\n",
              "      <td>ENTJ</td>\n",
              "      <td>양</td>\n",
              "    </tr>\n",
              "    <tr>\n",
              "      <th>1</th>\n",
              "      <td>1995-05-15</td>\n",
              "      <td>INFP</td>\n",
              "      <td>음</td>\n",
              "    </tr>\n",
              "    <tr>\n",
              "      <th>2</th>\n",
              "      <td>2000-12-30</td>\n",
              "      <td>ESFP</td>\n",
              "      <td>양</td>\n",
              "    </tr>\n",
              "  </tbody>\n",
              "</table>\n",
              "</div>"
            ],
            "text/plain": [
              "   birth_date mbti_type saju\n",
              "0  1990-01-01      ENTJ    양\n",
              "1  1995-05-15      INFP    음\n",
              "2  2000-12-30      ESFP    양"
            ]
          },
          "execution_count": 6,
          "metadata": {},
          "output_type": "execute_result"
        }
      ],
      "source": [
        "# 사주명식 계산 함수 (간단한 예제)\n",
        "def calculate_saju(birth_date):\n",
        "    # 실제 사주명식 계산 로직은 복잡할 수 있음\n",
        "    # 여기서는 단순히 생년월일의 연도만 사용\n",
        "    year = int(birth_date.split('-')[0])\n",
        "    if year % 2 == 0:\n",
        "        return '양'\n",
        "    else:\n",
        "        return '음'\n",
        "\n",
        "# 데이터프레임에 사주명식 열 추가\n",
        "df['saju'] = df['birth_date'].apply(calculate_saju)\n",
        "df"
      ]
    },
    {
      "cell_type": "code",
      "execution_count": 7,
      "metadata": {
        "id": "u9gnE-Seq0Xc"
      },
      "outputs": [],
      "source": [
        "# 사주명식과 MBTI 매핑\n",
        "saju_to_mbti = {\n",
        "    '양': '외향형',\n",
        "    '음': '내향형'\n",
        "}"
      ]
    },
    {
      "cell_type": "code",
      "execution_count": 8,
      "metadata": {},
      "outputs": [
        {
          "name": "stdout",
          "output_type": "stream",
          "text": [
            "Requirement already satisfied: openai in c:\\users\\yugye\\appdata\\local\\anaconda3\\envs\\kosa\\lib\\site-packages (1.68.2)\n",
            "Requirement already satisfied: anyio<5,>=3.5.0 in c:\\users\\yugye\\appdata\\local\\anaconda3\\envs\\kosa\\lib\\site-packages (from openai) (4.9.0)\n",
            "Requirement already satisfied: distro<2,>=1.7.0 in c:\\users\\yugye\\appdata\\local\\anaconda3\\envs\\kosa\\lib\\site-packages (from openai) (1.9.0)\n",
            "Requirement already satisfied: httpx<1,>=0.23.0 in c:\\users\\yugye\\appdata\\local\\anaconda3\\envs\\kosa\\lib\\site-packages (from openai) (0.28.1)\n",
            "Requirement already satisfied: jiter<1,>=0.4.0 in c:\\users\\yugye\\appdata\\local\\anaconda3\\envs\\kosa\\lib\\site-packages (from openai) (0.9.0)\n",
            "Requirement already satisfied: pydantic<3,>=1.9.0 in c:\\users\\yugye\\appdata\\local\\anaconda3\\envs\\kosa\\lib\\site-packages (from openai) (2.10.6)\n",
            "Requirement already satisfied: sniffio in c:\\users\\yugye\\appdata\\local\\anaconda3\\envs\\kosa\\lib\\site-packages (from openai) (1.3.1)\n",
            "Requirement already satisfied: tqdm>4 in c:\\users\\yugye\\appdata\\local\\anaconda3\\envs\\kosa\\lib\\site-packages (from openai) (4.67.1)\n",
            "Requirement already satisfied: typing-extensions<5,>=4.11 in c:\\users\\yugye\\appdata\\local\\anaconda3\\envs\\kosa\\lib\\site-packages (from openai) (4.12.2)\n",
            "Requirement already satisfied: exceptiongroup>=1.0.2 in c:\\users\\yugye\\appdata\\local\\anaconda3\\envs\\kosa\\lib\\site-packages (from anyio<5,>=3.5.0->openai) (1.2.2)\n",
            "Requirement already satisfied: idna>=2.8 in c:\\users\\yugye\\appdata\\local\\anaconda3\\envs\\kosa\\lib\\site-packages (from anyio<5,>=3.5.0->openai) (3.10)\n",
            "Requirement already satisfied: certifi in c:\\users\\yugye\\appdata\\local\\anaconda3\\envs\\kosa\\lib\\site-packages (from httpx<1,>=0.23.0->openai) (2025.1.31)\n",
            "Requirement already satisfied: httpcore==1.* in c:\\users\\yugye\\appdata\\local\\anaconda3\\envs\\kosa\\lib\\site-packages (from httpx<1,>=0.23.0->openai) (1.0.7)\n",
            "Requirement already satisfied: h11<0.15,>=0.13 in c:\\users\\yugye\\appdata\\local\\anaconda3\\envs\\kosa\\lib\\site-packages (from httpcore==1.*->httpx<1,>=0.23.0->openai) (0.14.0)\n",
            "Requirement already satisfied: annotated-types>=0.6.0 in c:\\users\\yugye\\appdata\\local\\anaconda3\\envs\\kosa\\lib\\site-packages (from pydantic<3,>=1.9.0->openai) (0.7.0)\n",
            "Requirement already satisfied: pydantic-core==2.27.2 in c:\\users\\yugye\\appdata\\local\\anaconda3\\envs\\kosa\\lib\\site-packages (from pydantic<3,>=1.9.0->openai) (2.27.2)\n",
            "Requirement already satisfied: colorama in c:\\users\\yugye\\appdata\\local\\anaconda3\\envs\\kosa\\lib\\site-packages (from tqdm>4->openai) (0.4.6)\n",
            "Note: you may need to restart the kernel to use updated packages.\n"
          ]
        }
      ],
      "source": [
        "%pip install openai "
      ]
    },
    {
      "cell_type": "code",
      "execution_count": 9,
      "metadata": {
        "id": "1o_5sLwkRXjT"
      },
      "outputs": [],
      "source": [
        "# api 키 불러오기\n",
        "import os\n",
        "import openai\n",
        "from dotenv import load_dotenv\n",
        "\n",
        "load_dotenv()\n",
        "OPENAI_API_KEY = os.getenv('OPENAI_API_KEY')\n",
        "\n",
        "#api 키 직접 연결하기\n",
        "openai.api_key = OPENAI_API_KEY"
      ]
    },
    {
      "cell_type": "code",
      "execution_count": 10,
      "metadata": {},
      "outputs": [
        {
          "name": "stdout",
          "output_type": "stream",
          "text": [
            "Requirement already satisfied: openai in c:\\users\\yugye\\appdata\\local\\anaconda3\\envs\\kosa\\lib\\site-packages (1.68.2)\n",
            "Requirement already satisfied: anyio<5,>=3.5.0 in c:\\users\\yugye\\appdata\\local\\anaconda3\\envs\\kosa\\lib\\site-packages (from openai) (4.9.0)\n",
            "Requirement already satisfied: distro<2,>=1.7.0 in c:\\users\\yugye\\appdata\\local\\anaconda3\\envs\\kosa\\lib\\site-packages (from openai) (1.9.0)\n",
            "Requirement already satisfied: httpx<1,>=0.23.0 in c:\\users\\yugye\\appdata\\local\\anaconda3\\envs\\kosa\\lib\\site-packages (from openai) (0.28.1)\n",
            "Requirement already satisfied: jiter<1,>=0.4.0 in c:\\users\\yugye\\appdata\\local\\anaconda3\\envs\\kosa\\lib\\site-packages (from openai) (0.9.0)\n",
            "Requirement already satisfied: pydantic<3,>=1.9.0 in c:\\users\\yugye\\appdata\\local\\anaconda3\\envs\\kosa\\lib\\site-packages (from openai) (2.10.6)\n",
            "Requirement already satisfied: sniffio in c:\\users\\yugye\\appdata\\local\\anaconda3\\envs\\kosa\\lib\\site-packages (from openai) (1.3.1)\n",
            "Requirement already satisfied: tqdm>4 in c:\\users\\yugye\\appdata\\local\\anaconda3\\envs\\kosa\\lib\\site-packages (from openai) (4.67.1)\n",
            "Requirement already satisfied: typing-extensions<5,>=4.11 in c:\\users\\yugye\\appdata\\local\\anaconda3\\envs\\kosa\\lib\\site-packages (from openai) (4.12.2)\n",
            "Requirement already satisfied: exceptiongroup>=1.0.2 in c:\\users\\yugye\\appdata\\local\\anaconda3\\envs\\kosa\\lib\\site-packages (from anyio<5,>=3.5.0->openai) (1.2.2)\n",
            "Requirement already satisfied: idna>=2.8 in c:\\users\\yugye\\appdata\\local\\anaconda3\\envs\\kosa\\lib\\site-packages (from anyio<5,>=3.5.0->openai) (3.10)\n",
            "Requirement already satisfied: certifi in c:\\users\\yugye\\appdata\\local\\anaconda3\\envs\\kosa\\lib\\site-packages (from httpx<1,>=0.23.0->openai) (2025.1.31)\n",
            "Requirement already satisfied: httpcore==1.* in c:\\users\\yugye\\appdata\\local\\anaconda3\\envs\\kosa\\lib\\site-packages (from httpx<1,>=0.23.0->openai) (1.0.7)\n",
            "Requirement already satisfied: h11<0.15,>=0.13 in c:\\users\\yugye\\appdata\\local\\anaconda3\\envs\\kosa\\lib\\site-packages (from httpcore==1.*->httpx<1,>=0.23.0->openai) (0.14.0)\n",
            "Requirement already satisfied: annotated-types>=0.6.0 in c:\\users\\yugye\\appdata\\local\\anaconda3\\envs\\kosa\\lib\\site-packages (from pydantic<3,>=1.9.0->openai) (0.7.0)\n",
            "Requirement already satisfied: pydantic-core==2.27.2 in c:\\users\\yugye\\appdata\\local\\anaconda3\\envs\\kosa\\lib\\site-packages (from pydantic<3,>=1.9.0->openai) (2.27.2)\n",
            "Requirement already satisfied: colorama in c:\\users\\yugye\\appdata\\local\\anaconda3\\envs\\kosa\\lib\\site-packages (from tqdm>4->openai) (0.4.6)\n",
            "Note: you may need to restart the kernel to use updated packages.\n"
          ]
        }
      ],
      "source": [
        "%pip install openai"
      ]
    },
    {
      "cell_type": "code",
      "execution_count": 11,
      "metadata": {},
      "outputs": [
        {
          "name": "stdout",
          "output_type": "stream",
          "text": [
            "Hello! As an AI, I don't have personal feelings, but thank you for asking! How can I assist you today?\n"
          ]
        }
      ],
      "source": [
        "import openai\n",
        "\n",
        "# 클라이언트 생성\n",
        "client = openai.OpenAI()  # 최신 방식에 맞는 클라이언트 생성\n",
        "\n",
        "# ChatCompletion 요청\n",
        "response = client.chat.completions.create(\n",
        "    model=\"gpt-4\",  # 모델 이름 (gpt-4 또는 gpt-3.5-turbo 가능)\n",
        "    messages=[\n",
        "        {\"role\": \"system\", \"content\": \"You are a helpful assistant.\"},\n",
        "        {\"role\": \"user\", \"content\": \"Hello, how are you?\"}\n",
        "    ],\n",
        "    max_tokens=50  # 최대 토큰 설정\n",
        ")\n",
        "\n",
        "# 응답 출력\n",
        "print(response.choices[0].message.content)\n"
      ]
    },
    {
      "cell_type": "code",
      "execution_count": 12,
      "metadata": {
        "colab": {
          "base_uri": "https://localhost:8080/"
        },
        "id": "JiPkAjqvlPIn",
        "outputId": "e259d679-e15d-4cf0-8b14-a364b570b01c"
      },
      "outputs": [
        {
          "name": "stdout",
          "output_type": "stream",
          "text": [
            "당신의 사주명식은 양이며, 이는 MBTI 성격 유형의 외향형와 관련이 있습니다.\n"
          ]
        },
        {
          "name": "stderr",
          "output_type": "stream",
          "text": [
            "C:\\Users\\yugye\\AppData\\Local\\Temp\\ipykernel_14048\\2062147591.py:13: LangChainDeprecationWarning: The class `OpenAI` was deprecated in LangChain 0.0.10 and will be removed in 1.0. An updated version of the class exists in the :class:`~langchain-openai package and should be used instead. To use it run `pip install -U :class:`~langchain-openai` and import as `from :class:`~langchain_openai import OpenAI``.\n",
            "  llm = OpenAI(model_name=\"text-davinci-003\")\n"
          ]
        }
      ],
      "source": [
        "# 랭체인 기반 챗봇 개발\n",
        "from langchain import OpenAI, LLMChain\n",
        "from langchain.prompts import PromptTemplate\n",
        "\n",
        "# Define the prompt template\n",
        "prompt_template = PromptTemplate(\n",
        "    input_variables=[\"birth_date\"],\n",
        "    template=\"생년월일 {birth_date}에 따른 사주명식과 MBTI 성격 유형을 설명해줘.\"\n",
        ")\n",
        "\n",
        "# Initialize the OpenAI model\n",
        "# llm = OpenAI(model_name=\"text-davinci-003\", api_key=\"your_openai_api_key\")\n",
        "llm = OpenAI(model_name=\"text-davinci-003\")\n",
        "\n",
        "# Define the chain with the prompt and model\n",
        "class SajuMBTIChain(LLMChain):\n",
        "    # 클래스 생성자(instance 초기)\n",
        "    def __init__(self, prompt, llm):\n",
        "        super().__init__(prompt=prompt, llm=llm)\n",
        "        # 부모 클래스(LLMChain) 의 생성자 호출>>상속된 속성 초기\n",
        "\n",
        "    def generate_response(self, birth_date):\n",
        "        # birth_date(생년월일)을 입력으로 받음\n",
        "        saju = calculate_saju(birth_date)\n",
        "        mbti = saju_to_mbti[saju]\n",
        "        return f\"당신의 사주명식은 {saju}이며, 이는 MBTI 성격 유형의 {mbti}와 관련이 있습니다.\"\n",
        "\n",
        "# Example usage\n",
        "chatbot = SajuMBTIChain(prompt=prompt_template, llm=llm)\n",
        "birth_date = '1978-10-26'\n",
        "response = chatbot.generate_response(birth_date)\n",
        "print(response)"
      ]
    },
    {
      "cell_type": "code",
      "execution_count": 13,
      "metadata": {},
      "outputs": [
        {
          "name": "stdout",
          "output_type": "stream",
          "text": [
            "Requirement already satisfied: transformers in c:\\users\\yugye\\appdata\\local\\anaconda3\\envs\\kosa\\lib\\site-packages (4.50.2)\n",
            "Requirement already satisfied: filelock in c:\\users\\yugye\\appdata\\local\\anaconda3\\envs\\kosa\\lib\\site-packages (from transformers) (3.18.0)\n",
            "Requirement already satisfied: huggingface-hub<1.0,>=0.26.0 in c:\\users\\yugye\\appdata\\local\\anaconda3\\envs\\kosa\\lib\\site-packages (from transformers) (0.29.3)\n",
            "Requirement already satisfied: numpy>=1.17 in c:\\users\\yugye\\appdata\\local\\anaconda3\\envs\\kosa\\lib\\site-packages (from transformers) (2.2.4)\n",
            "Requirement already satisfied: packaging>=20.0 in c:\\users\\yugye\\appdata\\local\\anaconda3\\envs\\kosa\\lib\\site-packages (from transformers) (24.2)\n",
            "Requirement already satisfied: pyyaml>=5.1 in c:\\users\\yugye\\appdata\\local\\anaconda3\\envs\\kosa\\lib\\site-packages (from transformers) (6.0.2)\n",
            "Requirement already satisfied: regex!=2019.12.17 in c:\\users\\yugye\\appdata\\local\\anaconda3\\envs\\kosa\\lib\\site-packages (from transformers) (2024.11.6)\n",
            "Requirement already satisfied: requests in c:\\users\\yugye\\appdata\\local\\anaconda3\\envs\\kosa\\lib\\site-packages (from transformers) (2.32.3)\n",
            "Requirement already satisfied: tokenizers<0.22,>=0.21 in c:\\users\\yugye\\appdata\\local\\anaconda3\\envs\\kosa\\lib\\site-packages (from transformers) (0.21.1)\n",
            "Requirement already satisfied: safetensors>=0.4.3 in c:\\users\\yugye\\appdata\\local\\anaconda3\\envs\\kosa\\lib\\site-packages (from transformers) (0.5.3)\n",
            "Requirement already satisfied: tqdm>=4.27 in c:\\users\\yugye\\appdata\\local\\anaconda3\\envs\\kosa\\lib\\site-packages (from transformers) (4.67.1)\n",
            "Requirement already satisfied: fsspec>=2023.5.0 in c:\\users\\yugye\\appdata\\local\\anaconda3\\envs\\kosa\\lib\\site-packages (from huggingface-hub<1.0,>=0.26.0->transformers) (2025.3.0)\n",
            "Requirement already satisfied: typing-extensions>=3.7.4.3 in c:\\users\\yugye\\appdata\\local\\anaconda3\\envs\\kosa\\lib\\site-packages (from huggingface-hub<1.0,>=0.26.0->transformers) (4.12.2)\n",
            "Requirement already satisfied: colorama in c:\\users\\yugye\\appdata\\local\\anaconda3\\envs\\kosa\\lib\\site-packages (from tqdm>=4.27->transformers) (0.4.6)\n",
            "Requirement already satisfied: charset-normalizer<4,>=2 in c:\\users\\yugye\\appdata\\local\\anaconda3\\envs\\kosa\\lib\\site-packages (from requests->transformers) (3.4.1)\n",
            "Requirement already satisfied: idna<4,>=2.5 in c:\\users\\yugye\\appdata\\local\\anaconda3\\envs\\kosa\\lib\\site-packages (from requests->transformers) (3.10)\n",
            "Requirement already satisfied: urllib3<3,>=1.21.1 in c:\\users\\yugye\\appdata\\local\\anaconda3\\envs\\kosa\\lib\\site-packages (from requests->transformers) (2.3.0)\n",
            "Requirement already satisfied: certifi>=2017.4.17 in c:\\users\\yugye\\appdata\\local\\anaconda3\\envs\\kosa\\lib\\site-packages (from requests->transformers) (2025.1.31)\n",
            "Note: you may need to restart the kernel to use updated packages.\n",
            "Requirement already satisfied: torch in c:\\users\\yugye\\appdata\\local\\anaconda3\\envs\\kosa\\lib\\site-packages (2.6.0)\n",
            "Requirement already satisfied: torchvision in c:\\users\\yugye\\appdata\\local\\anaconda3\\envs\\kosa\\lib\\site-packages (0.21.0)\n",
            "Requirement already satisfied: torchaudio in c:\\users\\yugye\\appdata\\local\\anaconda3\\envs\\kosa\\lib\\site-packages (2.6.0)\n",
            "Requirement already satisfied: filelock in c:\\users\\yugye\\appdata\\local\\anaconda3\\envs\\kosa\\lib\\site-packages (from torch) (3.18.0)\n",
            "Requirement already satisfied: typing-extensions>=4.10.0 in c:\\users\\yugye\\appdata\\local\\anaconda3\\envs\\kosa\\lib\\site-packages (from torch) (4.12.2)\n",
            "Requirement already satisfied: networkx in c:\\users\\yugye\\appdata\\local\\anaconda3\\envs\\kosa\\lib\\site-packages (from torch) (3.4.2)\n",
            "Requirement already satisfied: jinja2 in c:\\users\\yugye\\appdata\\local\\anaconda3\\envs\\kosa\\lib\\site-packages (from torch) (3.1.6)\n",
            "Requirement already satisfied: fsspec in c:\\users\\yugye\\appdata\\local\\anaconda3\\envs\\kosa\\lib\\site-packages (from torch) (2025.3.0)\n",
            "Requirement already satisfied: sympy==1.13.1 in c:\\users\\yugye\\appdata\\local\\anaconda3\\envs\\kosa\\lib\\site-packages (from torch) (1.13.1)\n",
            "Requirement already satisfied: mpmath<1.4,>=1.1.0 in c:\\users\\yugye\\appdata\\local\\anaconda3\\envs\\kosa\\lib\\site-packages (from sympy==1.13.1->torch) (1.3.0)\n",
            "Requirement already satisfied: numpy in c:\\users\\yugye\\appdata\\local\\anaconda3\\envs\\kosa\\lib\\site-packages (from torchvision) (2.2.4)\n",
            "Requirement already satisfied: pillow!=8.3.*,>=5.3.0 in c:\\users\\yugye\\appdata\\local\\anaconda3\\envs\\kosa\\lib\\site-packages (from torchvision) (11.1.0)\n",
            "Requirement already satisfied: MarkupSafe>=2.0 in c:\\users\\yugye\\appdata\\local\\anaconda3\\envs\\kosa\\lib\\site-packages (from jinja2->torch) (3.0.2)\n",
            "Note: you may need to restart the kernel to use updated packages.\n"
          ]
        }
      ],
      "source": [
        "%pip install transformers\n",
        "%pip install torch torchvision torchaudio"
      ]
    },
    {
      "cell_type": "code",
      "execution_count": 14,
      "metadata": {},
      "outputs": [
        {
          "name": "stdout",
          "output_type": "stream",
          "text": [
            "Requirement already satisfied: transformers in c:\\users\\yugye\\appdata\\local\\anaconda3\\envs\\kosa\\lib\\site-packages (4.50.2)\n",
            "Requirement already satisfied: filelock in c:\\users\\yugye\\appdata\\local\\anaconda3\\envs\\kosa\\lib\\site-packages (from transformers) (3.18.0)\n",
            "Requirement already satisfied: huggingface-hub<1.0,>=0.26.0 in c:\\users\\yugye\\appdata\\local\\anaconda3\\envs\\kosa\\lib\\site-packages (from transformers) (0.29.3)\n",
            "Requirement already satisfied: numpy>=1.17 in c:\\users\\yugye\\appdata\\local\\anaconda3\\envs\\kosa\\lib\\site-packages (from transformers) (2.2.4)\n",
            "Requirement already satisfied: packaging>=20.0 in c:\\users\\yugye\\appdata\\local\\anaconda3\\envs\\kosa\\lib\\site-packages (from transformers) (24.2)\n",
            "Requirement already satisfied: pyyaml>=5.1 in c:\\users\\yugye\\appdata\\local\\anaconda3\\envs\\kosa\\lib\\site-packages (from transformers) (6.0.2)\n",
            "Requirement already satisfied: regex!=2019.12.17 in c:\\users\\yugye\\appdata\\local\\anaconda3\\envs\\kosa\\lib\\site-packages (from transformers) (2024.11.6)\n",
            "Requirement already satisfied: requests in c:\\users\\yugye\\appdata\\local\\anaconda3\\envs\\kosa\\lib\\site-packages (from transformers) (2.32.3)\n",
            "Requirement already satisfied: tokenizers<0.22,>=0.21 in c:\\users\\yugye\\appdata\\local\\anaconda3\\envs\\kosa\\lib\\site-packages (from transformers) (0.21.1)\n",
            "Requirement already satisfied: safetensors>=0.4.3 in c:\\users\\yugye\\appdata\\local\\anaconda3\\envs\\kosa\\lib\\site-packages (from transformers) (0.5.3)\n",
            "Requirement already satisfied: tqdm>=4.27 in c:\\users\\yugye\\appdata\\local\\anaconda3\\envs\\kosa\\lib\\site-packages (from transformers) (4.67.1)\n",
            "Requirement already satisfied: fsspec>=2023.5.0 in c:\\users\\yugye\\appdata\\local\\anaconda3\\envs\\kosa\\lib\\site-packages (from huggingface-hub<1.0,>=0.26.0->transformers) (2025.3.0)\n",
            "Requirement already satisfied: typing-extensions>=3.7.4.3 in c:\\users\\yugye\\appdata\\local\\anaconda3\\envs\\kosa\\lib\\site-packages (from huggingface-hub<1.0,>=0.26.0->transformers) (4.12.2)\n",
            "Requirement already satisfied: colorama in c:\\users\\yugye\\appdata\\local\\anaconda3\\envs\\kosa\\lib\\site-packages (from tqdm>=4.27->transformers) (0.4.6)\n",
            "Requirement already satisfied: charset-normalizer<4,>=2 in c:\\users\\yugye\\appdata\\local\\anaconda3\\envs\\kosa\\lib\\site-packages (from requests->transformers) (3.4.1)\n",
            "Requirement already satisfied: idna<4,>=2.5 in c:\\users\\yugye\\appdata\\local\\anaconda3\\envs\\kosa\\lib\\site-packages (from requests->transformers) (3.10)\n",
            "Requirement already satisfied: urllib3<3,>=1.21.1 in c:\\users\\yugye\\appdata\\local\\anaconda3\\envs\\kosa\\lib\\site-packages (from requests->transformers) (2.3.0)\n",
            "Requirement already satisfied: certifi>=2017.4.17 in c:\\users\\yugye\\appdata\\local\\anaconda3\\envs\\kosa\\lib\\site-packages (from requests->transformers) (2025.1.31)\n"
          ]
        }
      ],
      "source": [
        "import sys\n",
        "!{sys.executable} -m pip install transformers"
      ]
    },
    {
      "cell_type": "code",
      "execution_count": 15,
      "metadata": {},
      "outputs": [
        {
          "name": "stderr",
          "output_type": "stream",
          "text": [
            "c:\\Users\\yugye\\AppData\\Local\\anaconda3\\envs\\KOSA\\lib\\site-packages\\tqdm\\auto.py:21: TqdmWarning: IProgress not found. Please update jupyter and ipywidgets. See https://ipywidgets.readthedocs.io/en/stable/user_install.html\n",
            "  from .autonotebook import tqdm as notebook_tqdm\n"
          ]
        },
        {
          "name": "stdout",
          "output_type": "stream",
          "text": [
            "필요한 모듈이 모두 설치되었습니다!\n"
          ]
        }
      ],
      "source": [
        "# Transformers 라이브러리\n",
        "from transformers import pipeline\n",
        "\n",
        "# LangChain 라이브러리\n",
        "from langchain import LLMChain\n",
        "from langchain_core.runnables.base import Runnable\n",
        "from langchain.prompts import PromptTemplate\n",
        "\n",
        "print(\"필요한 모듈이 모두 설치되었습니다!\")\n"
      ]
    },
    {
      "cell_type": "code",
      "execution_count": 16,
      "metadata": {
        "colab": {
          "base_uri": "https://localhost:8080/"
        },
        "id": "bU6wHZ2monMq",
        "outputId": "7e318a65-0925-4a0d-906c-3c9cbd0aef4a"
      },
      "outputs": [
        {
          "name": "stderr",
          "output_type": "stream",
          "text": [
            "c:\\Users\\yugye\\AppData\\Local\\anaconda3\\envs\\KOSA\\lib\\site-packages\\huggingface_hub\\file_download.py:142: UserWarning: `huggingface_hub` cache-system uses symlinks by default to efficiently store duplicated files but your machine does not support them in C:\\Users\\yugye\\.cache\\huggingface\\hub\\models--gpt2. Caching files will still work but in a degraded version that might require more space on your disk. This warning can be disabled by setting the `HF_HUB_DISABLE_SYMLINKS_WARNING` environment variable. For more details, see https://huggingface.co/docs/huggingface_hub/how-to-cache#limitations.\n",
            "To support symlinks on Windows, you either need to activate Developer Mode or to run Python as an administrator. In order to activate developer mode, see this article: https://docs.microsoft.com/en-us/windows/apps/get-started/enable-your-device-for-development\n",
            "  warnings.warn(message)\n",
            "Device set to use cpu\n"
          ]
        },
        {
          "name": "stdout",
          "output_type": "stream",
          "text": [
            "당신의 사주명식은 양이며, 이는 MBTI 성격 유형의 외향형와 관련이 있습니다.\n"
          ]
        }
      ],
      "source": [
        "from transformers import pipeline\n",
        "from langchain import LLMChain\n",
        "from langchain_core.runnables.base import Runnable\n",
        "# 커스텀 실행 가능 객체 정의\n",
        "from langchain.prompts import PromptTemplate\n",
        "\n",
        "# Define the prompt template\n",
        "prompt_template = PromptTemplate(\n",
        "    input_variables=[\"birth_date\"],\n",
        "    template=\"생년월일 {birth_date}에 따른 사주명식과 MBTI 성격 유형을 설명해줘.\"\n",
        ")\n",
        "\n",
        "# Define the custom Runnable wrapper for Hugging Face pipeline\n",
        "class HuggingFaceRunnable(Runnable):\n",
        "    def __init__(self, hf_pipeline):\n",
        "        self.hf_pipeline = hf_pipeline\n",
        "\n",
        "    def invoke(self, prompt):\n",
        "        result = self.hf_pipeline(prompt)[0]['generated_text']\n",
        "        return result\n",
        "        # 프롬프트를 받아 허깅페이스 모델 실행\n",
        "        # >> 텍스트 반환\n",
        "\n",
        "# Initialize the Hugging Face model\n",
        "hf_pipeline = pipeline(\"text-generation\", model=\"gpt2\")\n",
        "\n",
        "# Wrap the pipeline with HuggingFaceRunnable\n",
        "llm = HuggingFaceRunnable(hf_pipeline)\n",
        "\n",
        "# Define the chain with the prompt and model\n",
        "class SajuMBTIChain_hf(LLMChain):\n",
        "    def __init__(self, prompt, llm):\n",
        "        super().__init__(prompt=prompt, llm=llm)\n",
        "\n",
        "    def generate_response(self, birth_date):\n",
        "        saju = calculate_saju(birth_date)\n",
        "        mbti = saju_to_mbti[saju]\n",
        "        return f\"당신의 사주명식은 {saju}이며, 이는 MBTI 성격 유형의 {mbti}와 관련이 있습니다.\"\n",
        "\n",
        "# Example usage\n",
        "chatbot = SajuMBTIChain_hf(prompt=prompt_template, llm=llm)\n",
        "birth_date = '1990-01-01'\n",
        "response = chatbot.generate_response(birth_date)\n",
        "print(response)\n",
        "\n"
      ]
    },
    {
      "cell_type": "code",
      "execution_count": 17,
      "metadata": {
        "colab": {
          "base_uri": "https://localhost:8080/"
        },
        "id": "5jEoh4TXl0AO",
        "outputId": "160c0211-565f-4037-b977-b521ea74b6b9"
      },
      "outputs": [
        {
          "name": "stdout",
          "output_type": "stream",
          "text": [
            "Collecting gradio\n",
            "  Downloading gradio-5.23.1-py3-none-any.whl.metadata (16 kB)\n",
            "Collecting aiofiles<24.0,>=22.0 (from gradio)\n",
            "  Downloading aiofiles-23.2.1-py3-none-any.whl.metadata (9.7 kB)\n",
            "Requirement already satisfied: anyio<5.0,>=3.0 in c:\\users\\yugye\\appdata\\local\\anaconda3\\envs\\kosa\\lib\\site-packages (from gradio) (4.9.0)\n",
            "Collecting fastapi<1.0,>=0.115.2 (from gradio)\n",
            "  Downloading fastapi-0.115.12-py3-none-any.whl.metadata (27 kB)\n",
            "Collecting ffmpy (from gradio)\n",
            "  Downloading ffmpy-0.5.0-py3-none-any.whl.metadata (3.0 kB)\n",
            "Collecting gradio-client==1.8.0 (from gradio)\n",
            "  Downloading gradio_client-1.8.0-py3-none-any.whl.metadata (7.1 kB)\n",
            "Collecting groovy~=0.1 (from gradio)\n",
            "  Downloading groovy-0.1.2-py3-none-any.whl.metadata (6.1 kB)\n",
            "Requirement already satisfied: httpx>=0.24.1 in c:\\users\\yugye\\appdata\\local\\anaconda3\\envs\\kosa\\lib\\site-packages (from gradio) (0.28.1)\n",
            "Requirement already satisfied: huggingface-hub>=0.28.1 in c:\\users\\yugye\\appdata\\local\\anaconda3\\envs\\kosa\\lib\\site-packages (from gradio) (0.29.3)\n",
            "Requirement already satisfied: jinja2<4.0 in c:\\users\\yugye\\appdata\\local\\anaconda3\\envs\\kosa\\lib\\site-packages (from gradio) (3.1.6)\n",
            "Requirement already satisfied: markupsafe<4.0,>=2.0 in c:\\users\\yugye\\appdata\\local\\anaconda3\\envs\\kosa\\lib\\site-packages (from gradio) (3.0.2)\n",
            "Requirement already satisfied: numpy<3.0,>=1.0 in c:\\users\\yugye\\appdata\\local\\anaconda3\\envs\\kosa\\lib\\site-packages (from gradio) (2.2.4)\n",
            "Requirement already satisfied: orjson~=3.0 in c:\\users\\yugye\\appdata\\local\\anaconda3\\envs\\kosa\\lib\\site-packages (from gradio) (3.10.16)\n",
            "Requirement already satisfied: packaging in c:\\users\\yugye\\appdata\\local\\anaconda3\\envs\\kosa\\lib\\site-packages (from gradio) (24.2)\n",
            "Requirement already satisfied: pandas<3.0,>=1.0 in c:\\users\\yugye\\appdata\\local\\anaconda3\\envs\\kosa\\lib\\site-packages (from gradio) (2.2.3)\n",
            "Requirement already satisfied: pillow<12.0,>=8.0 in c:\\users\\yugye\\appdata\\local\\anaconda3\\envs\\kosa\\lib\\site-packages (from gradio) (11.1.0)\n",
            "Requirement already satisfied: pydantic>=2.0 in c:\\users\\yugye\\appdata\\local\\anaconda3\\envs\\kosa\\lib\\site-packages (from gradio) (2.10.6)\n",
            "Collecting pydub (from gradio)\n",
            "  Downloading pydub-0.25.1-py2.py3-none-any.whl.metadata (1.4 kB)\n",
            "Collecting python-multipart>=0.0.18 (from gradio)\n",
            "  Downloading python_multipart-0.0.20-py3-none-any.whl.metadata (1.8 kB)\n",
            "Requirement already satisfied: pyyaml<7.0,>=5.0 in c:\\users\\yugye\\appdata\\local\\anaconda3\\envs\\kosa\\lib\\site-packages (from gradio) (6.0.2)\n",
            "Collecting ruff>=0.9.3 (from gradio)\n",
            "  Downloading ruff-0.11.2-py3-none-win_amd64.whl.metadata (26 kB)\n",
            "Collecting safehttpx<0.2.0,>=0.1.6 (from gradio)\n",
            "  Downloading safehttpx-0.1.6-py3-none-any.whl.metadata (4.2 kB)\n",
            "Collecting semantic-version~=2.0 (from gradio)\n",
            "  Downloading semantic_version-2.10.0-py2.py3-none-any.whl.metadata (9.7 kB)\n",
            "Collecting starlette<1.0,>=0.40.0 (from gradio)\n",
            "  Downloading starlette-0.46.1-py3-none-any.whl.metadata (6.2 kB)\n",
            "Collecting tomlkit<0.14.0,>=0.12.0 (from gradio)\n",
            "  Downloading tomlkit-0.13.2-py3-none-any.whl.metadata (2.7 kB)\n",
            "Collecting typer<1.0,>=0.12 (from gradio)\n",
            "  Downloading typer-0.15.2-py3-none-any.whl.metadata (15 kB)\n",
            "Requirement already satisfied: typing-extensions~=4.0 in c:\\users\\yugye\\appdata\\local\\anaconda3\\envs\\kosa\\lib\\site-packages (from gradio) (4.12.2)\n",
            "Collecting uvicorn>=0.14.0 (from gradio)\n",
            "  Downloading uvicorn-0.34.0-py3-none-any.whl.metadata (6.5 kB)\n",
            "Requirement already satisfied: fsspec in c:\\users\\yugye\\appdata\\local\\anaconda3\\envs\\kosa\\lib\\site-packages (from gradio-client==1.8.0->gradio) (2025.3.0)\n",
            "Collecting websockets<16.0,>=10.0 (from gradio-client==1.8.0->gradio)\n",
            "  Downloading websockets-15.0.1-cp310-cp310-win_amd64.whl.metadata (7.0 kB)\n",
            "Requirement already satisfied: exceptiongroup>=1.0.2 in c:\\users\\yugye\\appdata\\local\\anaconda3\\envs\\kosa\\lib\\site-packages (from anyio<5.0,>=3.0->gradio) (1.2.2)\n",
            "Requirement already satisfied: idna>=2.8 in c:\\users\\yugye\\appdata\\local\\anaconda3\\envs\\kosa\\lib\\site-packages (from anyio<5.0,>=3.0->gradio) (3.10)\n",
            "Requirement already satisfied: sniffio>=1.1 in c:\\users\\yugye\\appdata\\local\\anaconda3\\envs\\kosa\\lib\\site-packages (from anyio<5.0,>=3.0->gradio) (1.3.1)\n",
            "Requirement already satisfied: certifi in c:\\users\\yugye\\appdata\\local\\anaconda3\\envs\\kosa\\lib\\site-packages (from httpx>=0.24.1->gradio) (2025.1.31)\n",
            "Requirement already satisfied: httpcore==1.* in c:\\users\\yugye\\appdata\\local\\anaconda3\\envs\\kosa\\lib\\site-packages (from httpx>=0.24.1->gradio) (1.0.7)\n",
            "Requirement already satisfied: h11<0.15,>=0.13 in c:\\users\\yugye\\appdata\\local\\anaconda3\\envs\\kosa\\lib\\site-packages (from httpcore==1.*->httpx>=0.24.1->gradio) (0.14.0)\n",
            "Requirement already satisfied: filelock in c:\\users\\yugye\\appdata\\local\\anaconda3\\envs\\kosa\\lib\\site-packages (from huggingface-hub>=0.28.1->gradio) (3.18.0)\n",
            "Requirement already satisfied: requests in c:\\users\\yugye\\appdata\\local\\anaconda3\\envs\\kosa\\lib\\site-packages (from huggingface-hub>=0.28.1->gradio) (2.32.3)\n",
            "Requirement already satisfied: tqdm>=4.42.1 in c:\\users\\yugye\\appdata\\local\\anaconda3\\envs\\kosa\\lib\\site-packages (from huggingface-hub>=0.28.1->gradio) (4.67.1)\n",
            "Requirement already satisfied: python-dateutil>=2.8.2 in c:\\users\\yugye\\appdata\\local\\anaconda3\\envs\\kosa\\lib\\site-packages (from pandas<3.0,>=1.0->gradio) (2.9.0.post0)\n",
            "Requirement already satisfied: pytz>=2020.1 in c:\\users\\yugye\\appdata\\local\\anaconda3\\envs\\kosa\\lib\\site-packages (from pandas<3.0,>=1.0->gradio) (2025.2)\n",
            "Requirement already satisfied: tzdata>=2022.7 in c:\\users\\yugye\\appdata\\local\\anaconda3\\envs\\kosa\\lib\\site-packages (from pandas<3.0,>=1.0->gradio) (2025.2)\n",
            "Requirement already satisfied: annotated-types>=0.6.0 in c:\\users\\yugye\\appdata\\local\\anaconda3\\envs\\kosa\\lib\\site-packages (from pydantic>=2.0->gradio) (0.7.0)\n",
            "Requirement already satisfied: pydantic-core==2.27.2 in c:\\users\\yugye\\appdata\\local\\anaconda3\\envs\\kosa\\lib\\site-packages (from pydantic>=2.0->gradio) (2.27.2)\n",
            "Collecting click>=8.0.0 (from typer<1.0,>=0.12->gradio)\n",
            "  Downloading click-8.1.8-py3-none-any.whl.metadata (2.3 kB)\n",
            "Collecting shellingham>=1.3.0 (from typer<1.0,>=0.12->gradio)\n",
            "  Downloading shellingham-1.5.4-py2.py3-none-any.whl.metadata (3.5 kB)\n",
            "Collecting rich>=10.11.0 (from typer<1.0,>=0.12->gradio)\n",
            "  Downloading rich-13.9.4-py3-none-any.whl.metadata (18 kB)\n",
            "Requirement already satisfied: colorama in c:\\users\\yugye\\appdata\\local\\anaconda3\\envs\\kosa\\lib\\site-packages (from click>=8.0.0->typer<1.0,>=0.12->gradio) (0.4.6)\n",
            "Requirement already satisfied: six>=1.5 in c:\\users\\yugye\\appdata\\local\\anaconda3\\envs\\kosa\\lib\\site-packages (from python-dateutil>=2.8.2->pandas<3.0,>=1.0->gradio) (1.17.0)\n",
            "Collecting markdown-it-py>=2.2.0 (from rich>=10.11.0->typer<1.0,>=0.12->gradio)\n",
            "  Downloading markdown_it_py-3.0.0-py3-none-any.whl.metadata (6.9 kB)\n",
            "Requirement already satisfied: pygments<3.0.0,>=2.13.0 in c:\\users\\yugye\\appdata\\local\\anaconda3\\envs\\kosa\\lib\\site-packages (from rich>=10.11.0->typer<1.0,>=0.12->gradio) (2.19.1)\n",
            "Requirement already satisfied: charset-normalizer<4,>=2 in c:\\users\\yugye\\appdata\\local\\anaconda3\\envs\\kosa\\lib\\site-packages (from requests->huggingface-hub>=0.28.1->gradio) (3.4.1)\n",
            "Requirement already satisfied: urllib3<3,>=1.21.1 in c:\\users\\yugye\\appdata\\local\\anaconda3\\envs\\kosa\\lib\\site-packages (from requests->huggingface-hub>=0.28.1->gradio) (2.3.0)\n",
            "Collecting mdurl~=0.1 (from markdown-it-py>=2.2.0->rich>=10.11.0->typer<1.0,>=0.12->gradio)\n",
            "  Downloading mdurl-0.1.2-py3-none-any.whl.metadata (1.6 kB)\n",
            "Downloading gradio-5.23.1-py3-none-any.whl (51.3 MB)\n",
            "   ---------------------------------------- 0.0/51.3 MB ? eta -:--:--\n",
            "   ------ --------------------------------- 8.4/51.3 MB 74.6 MB/s eta 0:00:01\n",
            "   ------ --------------------------------- 8.9/51.3 MB 24.1 MB/s eta 0:00:02\n",
            "   ----------------- ---------------------- 22.3/51.3 MB 35.2 MB/s eta 0:00:01\n",
            "   ----------------------------- ---------- 38.0/51.3 MB 44.8 MB/s eta 0:00:01\n",
            "   ---------------------------------------  51.1/51.3 MB 51.7 MB/s eta 0:00:01\n",
            "   ---------------------------------------- 51.3/51.3 MB 40.8 MB/s eta 0:00:00\n",
            "Downloading gradio_client-1.8.0-py3-none-any.whl (322 kB)\n",
            "Downloading aiofiles-23.2.1-py3-none-any.whl (15 kB)\n",
            "Downloading fastapi-0.115.12-py3-none-any.whl (95 kB)\n",
            "Downloading groovy-0.1.2-py3-none-any.whl (14 kB)\n",
            "Downloading python_multipart-0.0.20-py3-none-any.whl (24 kB)\n",
            "Downloading ruff-0.11.2-py3-none-win_amd64.whl (11.4 MB)\n",
            "   ---------------------------------------- 0.0/11.4 MB ? eta -:--:--\n",
            "   ---------------------------------------  11.3/11.4 MB 70.6 MB/s eta 0:00:01\n",
            "   ---------------------------------------- 11.4/11.4 MB 50.7 MB/s eta 0:00:00\n",
            "Downloading safehttpx-0.1.6-py3-none-any.whl (8.7 kB)\n",
            "Downloading semantic_version-2.10.0-py2.py3-none-any.whl (15 kB)\n",
            "Downloading starlette-0.46.1-py3-none-any.whl (71 kB)\n",
            "Downloading tomlkit-0.13.2-py3-none-any.whl (37 kB)\n",
            "Downloading typer-0.15.2-py3-none-any.whl (45 kB)\n",
            "Downloading uvicorn-0.34.0-py3-none-any.whl (62 kB)\n",
            "Downloading ffmpy-0.5.0-py3-none-any.whl (6.0 kB)\n",
            "Downloading pydub-0.25.1-py2.py3-none-any.whl (32 kB)\n",
            "Downloading click-8.1.8-py3-none-any.whl (98 kB)\n",
            "Downloading rich-13.9.4-py3-none-any.whl (242 kB)\n",
            "Downloading shellingham-1.5.4-py2.py3-none-any.whl (9.8 kB)\n",
            "Downloading websockets-15.0.1-cp310-cp310-win_amd64.whl (176 kB)\n",
            "Downloading markdown_it_py-3.0.0-py3-none-any.whl (87 kB)\n",
            "Downloading mdurl-0.1.2-py3-none-any.whl (10.0 kB)\n",
            "Installing collected packages: pydub, websockets, tomlkit, shellingham, semantic-version, ruff, python-multipart, mdurl, groovy, ffmpy, click, aiofiles, uvicorn, starlette, markdown-it-py, safehttpx, rich, gradio-client, fastapi, typer, gradio\n",
            "Successfully installed aiofiles-23.2.1 click-8.1.8 fastapi-0.115.12 ffmpy-0.5.0 gradio-5.23.1 gradio-client-1.8.0 groovy-0.1.2 markdown-it-py-3.0.0 mdurl-0.1.2 pydub-0.25.1 python-multipart-0.0.20 rich-13.9.4 ruff-0.11.2 safehttpx-0.1.6 semantic-version-2.10.0 shellingham-1.5.4 starlette-0.46.1 tomlkit-0.13.2 typer-0.15.2 uvicorn-0.34.0 websockets-15.0.1\n",
            "Note: you may need to restart the kernel to use updated packages.\n"
          ]
        }
      ],
      "source": [
        "%pip install gradio"
      ]
    },
    {
      "cell_type": "code",
      "execution_count": 18,
      "metadata": {
        "colab": {
          "base_uri": "https://localhost:8080/",
          "height": 612
        },
        "id": "tXxwDUJKlpo6",
        "outputId": "f77e2ccb-2195-4f5c-cb5b-208e182cb2d6"
      },
      "outputs": [
        {
          "name": "stdout",
          "output_type": "stream",
          "text": [
            "* Running on local URL:  http://127.0.0.1:7860\n",
            "* Running on public URL: https://bfb972c4a0b08d667d.gradio.live\n",
            "\n",
            "This share link expires in 72 hours. For free permanent hosting and GPU upgrades, run `gradio deploy` from the terminal in the working directory to deploy to Hugging Face Spaces (https://huggingface.co/spaces)\n"
          ]
        },
        {
          "data": {
            "text/html": [
              "<div><iframe src=\"https://bfb972c4a0b08d667d.gradio.live\" width=\"100%\" height=\"500\" allow=\"autoplay; camera; microphone; clipboard-read; clipboard-write;\" frameborder=\"0\" allowfullscreen></iframe></div>"
            ],
            "text/plain": [
              "<IPython.core.display.HTML object>"
            ]
          },
          "metadata": {},
          "output_type": "display_data"
        },
        {
          "data": {
            "text/plain": []
          },
          "execution_count": 18,
          "metadata": {},
          "output_type": "execute_result"
        }
      ],
      "source": [
        "import gradio as gr\n",
        "\n",
        "# Gradio 인터페이스 설정\n",
        "def chatbot_interface(birth_date):\n",
        "    return chatbot.generate_response(birth_date)\n",
        "\n",
        "iface = gr.Interface(\n",
        "    fn=chatbot_interface,\n",
        "    inputs=gr.Textbox(label='생년월일 (예: 1990-01-01)'),\n",
        "    outputs=\"text\",\n",
        "    examples=['1990-01-01', '1995-05-15', '2000-12-30']\n",
        ")\n",
        "\n",
        "iface.launch(share=True)\n"
      ]
    }
  ],
  "metadata": {
    "colab": {
      "provenance": []
    },
    "kernelspec": {
      "display_name": "KOSA",
      "language": "python",
      "name": "python3"
    },
    "language_info": {
      "codemirror_mode": {
        "name": "ipython",
        "version": 3
      },
      "file_extension": ".py",
      "mimetype": "text/x-python",
      "name": "python",
      "nbconvert_exporter": "python",
      "pygments_lexer": "ipython3",
      "version": "3.10.16"
    }
  },
  "nbformat": 4,
  "nbformat_minor": 0
}
