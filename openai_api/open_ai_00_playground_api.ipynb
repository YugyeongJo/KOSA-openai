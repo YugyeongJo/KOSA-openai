{
 "cells": [
  {
   "cell_type": "code",
   "execution_count": 1,
   "metadata": {
    "colab": {
     "base_uri": "https://localhost:8080/",
     "height": 574
    },
    "executionInfo": {
     "elapsed": 4101,
     "status": "ok",
     "timestamp": 1739328367993,
     "user": {
      "displayName": "주식회사한시경",
      "userId": "01036671795204052858"
     },
     "user_tz": -540
    },
    "id": "YfqQxYIMAvkg",
    "outputId": "8428b010-dfa4-43e5-e797-a04fcd355f24"
   },
   "outputs": [
    {
     "name": "stdout",
     "output_type": "stream",
     "text": [
      "Collecting openai==0.28\n",
      "  Downloading openai-0.28.0-py3-none-any.whl.metadata (13 kB)\n",
      "Collecting requests>=2.20 (from openai==0.28)\n",
      "  Downloading requests-2.32.3-py3-none-any.whl.metadata (4.6 kB)\n",
      "Collecting tqdm (from openai==0.28)\n",
      "  Downloading tqdm-4.67.1-py3-none-any.whl.metadata (57 kB)\n",
      "Collecting aiohttp (from openai==0.28)\n",
      "  Downloading aiohttp-3.11.14-cp310-cp310-win_amd64.whl.metadata (8.0 kB)\n",
      "Collecting charset-normalizer<4,>=2 (from requests>=2.20->openai==0.28)\n",
      "  Downloading charset_normalizer-3.4.1-cp310-cp310-win_amd64.whl.metadata (36 kB)\n",
      "Collecting idna<4,>=2.5 (from requests>=2.20->openai==0.28)\n",
      "  Downloading idna-3.10-py3-none-any.whl.metadata (10 kB)\n",
      "Collecting urllib3<3,>=1.21.1 (from requests>=2.20->openai==0.28)\n",
      "  Downloading urllib3-2.3.0-py3-none-any.whl.metadata (6.5 kB)\n",
      "Collecting certifi>=2017.4.17 (from requests>=2.20->openai==0.28)\n",
      "  Downloading certifi-2025.1.31-py3-none-any.whl.metadata (2.5 kB)\n",
      "Collecting aiohappyeyeballs>=2.3.0 (from aiohttp->openai==0.28)\n",
      "  Downloading aiohappyeyeballs-2.6.1-py3-none-any.whl.metadata (5.9 kB)\n",
      "Collecting aiosignal>=1.1.2 (from aiohttp->openai==0.28)\n",
      "  Downloading aiosignal-1.3.2-py2.py3-none-any.whl.metadata (3.8 kB)\n",
      "Collecting async-timeout<6.0,>=4.0 (from aiohttp->openai==0.28)\n",
      "  Downloading async_timeout-5.0.1-py3-none-any.whl.metadata (5.1 kB)\n",
      "Collecting attrs>=17.3.0 (from aiohttp->openai==0.28)\n",
      "  Downloading attrs-25.3.0-py3-none-any.whl.metadata (10 kB)\n",
      "Collecting frozenlist>=1.1.1 (from aiohttp->openai==0.28)\n",
      "  Downloading frozenlist-1.5.0-cp310-cp310-win_amd64.whl.metadata (14 kB)\n",
      "Collecting multidict<7.0,>=4.5 (from aiohttp->openai==0.28)\n",
      "  Downloading multidict-6.2.0-cp310-cp310-win_amd64.whl.metadata (5.1 kB)\n",
      "Collecting propcache>=0.2.0 (from aiohttp->openai==0.28)\n",
      "  Downloading propcache-0.3.1-cp310-cp310-win_amd64.whl.metadata (11 kB)\n",
      "Collecting yarl<2.0,>=1.17.0 (from aiohttp->openai==0.28)\n",
      "  Downloading yarl-1.18.3-cp310-cp310-win_amd64.whl.metadata (71 kB)\n",
      "Requirement already satisfied: colorama in c:\\users\\yugye\\appdata\\local\\anaconda3\\envs\\kosa\\lib\\site-packages (from tqdm->openai==0.28) (0.4.6)\n",
      "Requirement already satisfied: typing-extensions>=4.1.0 in c:\\users\\yugye\\appdata\\local\\anaconda3\\envs\\kosa\\lib\\site-packages (from multidict<7.0,>=4.5->aiohttp->openai==0.28) (4.12.2)\n",
      "Downloading openai-0.28.0-py3-none-any.whl (76 kB)\n",
      "Downloading requests-2.32.3-py3-none-any.whl (64 kB)\n",
      "Downloading aiohttp-3.11.14-cp310-cp310-win_amd64.whl (442 kB)\n",
      "Downloading tqdm-4.67.1-py3-none-any.whl (78 kB)\n",
      "Downloading aiohappyeyeballs-2.6.1-py3-none-any.whl (15 kB)\n",
      "Downloading aiosignal-1.3.2-py2.py3-none-any.whl (7.6 kB)\n",
      "Downloading async_timeout-5.0.1-py3-none-any.whl (6.2 kB)\n",
      "Downloading attrs-25.3.0-py3-none-any.whl (63 kB)\n",
      "Downloading certifi-2025.1.31-py3-none-any.whl (166 kB)\n",
      "Downloading charset_normalizer-3.4.1-cp310-cp310-win_amd64.whl (102 kB)\n",
      "Downloading frozenlist-1.5.0-cp310-cp310-win_amd64.whl (51 kB)\n",
      "Downloading idna-3.10-py3-none-any.whl (70 kB)\n",
      "Downloading multidict-6.2.0-cp310-cp310-win_amd64.whl (29 kB)\n",
      "Downloading propcache-0.3.1-cp310-cp310-win_amd64.whl (45 kB)\n",
      "Downloading urllib3-2.3.0-py3-none-any.whl (128 kB)\n",
      "Downloading yarl-1.18.3-cp310-cp310-win_amd64.whl (90 kB)\n",
      "Installing collected packages: urllib3, tqdm, propcache, multidict, idna, frozenlist, charset-normalizer, certifi, attrs, async-timeout, aiohappyeyeballs, yarl, requests, aiosignal, aiohttp, openai\n",
      "Successfully installed aiohappyeyeballs-2.6.1 aiohttp-3.11.14 aiosignal-1.3.2 async-timeout-5.0.1 attrs-25.3.0 certifi-2025.1.31 charset-normalizer-3.4.1 frozenlist-1.5.0 idna-3.10 multidict-6.2.0 openai-0.28.0 propcache-0.3.1 requests-2.32.3 tqdm-4.67.1 urllib3-2.3.0 yarl-1.18.3\n",
      "Note: you may need to restart the kernel to use updated packages.\n"
     ]
    }
   ],
   "source": [
    "%pip install openai==0.28"
   ]
  },
  {
   "cell_type": "code",
   "execution_count": null,
   "metadata": {
    "colab": {
     "base_uri": "https://localhost:8080/"
    },
    "executionInfo": {
     "elapsed": 23611,
     "status": "ok",
     "timestamp": 1739328436480,
     "user": {
      "displayName": "주식회사한시경",
      "userId": "01036671795204052858"
     },
     "user_tz": -540
    },
    "id": "riJgXzI0DD9L",
    "outputId": "404714a6-ff28-46f1-b88d-006a41a3e0e4"
   },
   "outputs": [
    {
     "name": "stdout",
     "output_type": "stream",
     "text": [
      "웹소설 제목: \"미야오: 이세계에서 고양이로 살아남기\"\n",
      "\n",
      "주인공 제우는 평범한 고등학생. 그러나 어느 날 갑작스럽게 모든 것이 완전히 다른 이세계로 전생한다. 더욱 놀랍게도 제우의 신분은 이세계에서 가장 사랑받는 종으로 잘 알려져있는 먼치킨 고양이 미야오!\n",
      "\n",
      "제우는 사랑스러운 외모와 깜찍한 행동들로 갑자기 모두의 주목을 받게 된다. 그리고 고양이로서의 삶이 그에게 새로운 시각과 통찰력을 제공함으로써, 제우는 이세계 사람들이 겪고 있는 문제와 갈등에 대해 이해하기 시작한다.\n",
      "\n",
      "제우는 고양이로서의 접근 가능성을 이용하여 이세계 사람들을 돕는 일에 몰두한다. 그런데 제우가 누군가를 도울 때마다, 그의 고양이 힘이 갖게 될 미스터리한 특별한 능력 이라는 것을 발견하게 된다.\n",
      "\n",
      "각종 사건과 문제를 해결해가면서, 제우는 그의 고양이 힘을 이용하여 이세계를 더 나은 곳으로 만들기로 결정한다. 그러나 이세계의 악당들은 제우를 보기 시작하며, 그의 고양이 힘을 갈망한다.\n",
      "\n",
      "제우는 이제, 자신의 생명을 위협하는 악당들을 물리치고 평화를 되찾기 위해, 고양이 미야오로서의 삶을 전투로 돌려야만 한다. 이 작동에서 독자들은 법석적으로 추진된 판타지 세계에서 색다른 모험과 흥미진진한 이야기를 만날 수 있다.\n"
     ]
    }
   ],
   "source": [
    "import openai\n",
    "import os\n",
    "from dotenv import load_dotenv\n",
    "# from google.colab import userdata\n",
    "\n",
    "# # Google Colab의 userdata 모듈을 사용하여 API 키를 가져옵니다.\n",
    "# api_key = userdata.get('openai_key')\n",
    "\n",
    "# .env에서 API 키를 가져옵니다. \n",
    "load_dotenv()\n",
    "api_key = os.getenv('OPENAI_API_KEY')\n",
    "\n",
    "# OpenAI API 키를 설정합니다.\n",
    "openai.api_key = api_key\n",
    "\n",
    "# ChatCompletion.create 메서드를 사용하여 채팅 완료 요청을 생성합니다.\n",
    "response = openai.ChatCompletion.create(\n",
    "    model=\"gpt-4\",\n",
    "    messages=[\n",
    "        {\n",
    "            \"role\": \"user\",\n",
    "            \"content\": \"평범한 고등학생이 이세계에서 귀여운 먼치킨 고양이로 활동하는 내용의 웹소설 시놉시스를 만들어줘.\"\n",
    "        }\n",
    "    ],\n",
    "    temperature=1,\n",
    "    max_tokens=3000,\n",
    "    top_p=1,\n",
    "    frequency_penalty=0,\n",
    "    presence_penalty=0\n",
    ")\n",
    "\n",
    "# 응답을 출력합니다.\n",
    "print(response.choices[0].message[\"content\"])"
   ]
  },
  {
   "cell_type": "markdown",
   "metadata": {
    "id": "fnywtAGrDqy_"
   },
   "source": [
    "Playground 에서 생성해준 코드 삽입"
   ]
  },
  {
   "cell_type": "code",
   "execution_count": 3,
   "metadata": {
    "executionInfo": {
     "elapsed": 41426,
     "status": "ok",
     "timestamp": 1739328484638,
     "user": {
      "displayName": "주식회사한시경",
      "userId": "01036671795204052858"
     },
     "user_tz": -540
    },
    "id": "3IAHW68LA8Ls"
   },
   "outputs": [],
   "source": [
    "import openai\n",
    "\n",
    "response = openai.ChatCompletion.create(\n",
    "  model=\"gpt-4o\",\n",
    "  messages=[\n",
    "    {\n",
    "      \"role\": \"system\",\n",
    "      \"content\": [\n",
    "        {\n",
    "          \"type\": \"text\",\n",
    "          \"text\": \"너는 인공지능 대학원 교수야. \\n\"\n",
    "        }\n",
    "      ]\n",
    "    },\n",
    "    {\n",
    "      \"role\": \"user\",\n",
    "      \"content\": [\n",
    "        {\n",
    "          \"type\": \"text\",\n",
    "          \"text\": \"생성형 AI에 대해 설명해줘\"\n",
    "        }\n",
    "      ]\n",
    "    },\n",
    "    {\n",
    "      \"role\": \"assistant\",\n",
    "      \"content\": [\n",
    "        {\n",
    "          \"type\": \"text\",\n",
    "          \"text\": \"생성형 AI는 주어진 입력 데이터로부터 새로운 콘텐츠를 생성하는 인공지능 기술을 의미합니다. 이 기술은 주로 딥러닝 기반의 모델을 활용하여 텍스트, 이미지, 음성, 음악 등 다양한 형태의 데이터를 생성할 수 있습니다. 생성형 AI의 대표적인 예로는 OpenAI의 GPT 시리즈, Google의 BERT 및 T5, 그리고 이미지 생성 분야에서의 DALL-E, Stable Diffusion 등이 있습니다.\\n\\n생성형 AI는 자연어 처리, 컴퓨터 비전, 음악 생성, 대화 시스템 등 다양한 분야에서 활용되고 있습니다. 예를 들어, 텍스트 기반의 생성형 AI는 특정 주제에 대한 글을 자동으로 생성하거나, 사용자의 입력에 따라 대화체의 응답을 생성하는 데 사용될 수 있습니다. 이미지 생성 AI는 주어진 텍스트 설명을 기반으로 고유한 이미지를 생성할 수 있습니다.\\n\\n이러한 기술은 콘텐츠 제작의 효율성을 높이고, 창의적인 작업을 지원하는 데 큰 도움이 될 수 있습니다. 그러나 동시에 윤리적 문제, 예를 들어 저작권 문제, 허위 정보 생성, 데이터 편향 등의 이슈를 함께 고려해야 합니다. 생성형 AI가 더욱 발전하면서, 이러한 문제에 대한 해결책과 기술의 발전 방향에 관해 계속해서 연구와 노력이 필요합니다.\"\n",
    "        }\n",
    "      ]\n",
    "    }\n",
    "  ],\n",
    "  response_format={\n",
    "    \"type\": \"text\"\n",
    "  },\n",
    "  temperature=1,\n",
    "  max_completion_tokens=2048,\n",
    "  top_p=1,\n",
    "  frequency_penalty=0,\n",
    "  presence_penalty=0\n",
    ")"
   ]
  },
  {
   "cell_type": "code",
   "execution_count": 4,
   "metadata": {
    "colab": {
     "base_uri": "https://localhost:8080/"
    },
    "executionInfo": {
     "elapsed": 525,
     "status": "ok",
     "timestamp": 1739328553101,
     "user": {
      "displayName": "주식회사한시경",
      "userId": "01036671795204052858"
     },
     "user_tz": -540
    },
    "id": "pdFErm9lBp28",
    "outputId": "77179f13-f0c3-4d43-ee70-e12067d9b32a"
   },
   "outputs": [
    {
     "name": "stdout",
     "output_type": "stream",
     "text": [
      "생성형 AI는 주어진 입력 데이터에서 새로운 콘텐츠를 만들어 내는 인공지능 기술을 의미합니다. 주로 신경망, 특히 딥러닝 모델을 사용하여 텍스트, 이미지, 음악 등의 다양한 형태의 데이터를 생성합니다. 최신 모델 중에는 OpenAI의 GPT 시리즈, Google의 BERT, DALL-E, 그리고 Stable Diffusion 등이 있습니다.\n",
      "\n",
      "이 기술은 여러 응용 분야에서 활용됩니다. 예를 들어, 텍스트 생성 AI는 특정 주제의 글을 작성하거나 사용자와 대화를 나누는 데 사용되며, 이미지 생성 AI는 텍스트 설명을 바탕으로 새로운 이미지를 만들어 냅니다. 이러한 모델들은 예술 창작, 자동 번역, 코드 생성 등 다양한 측면에서 큰 잠재력을 가지고 있습니다.\n",
      "\n",
      "하지만 생성형 AI의 발전에는 윤리적 문제도 따릅니다. 데이터 편향, 저작권 문제, 가짜 정보의 생성 등이 대표적인 이슈로, 이를 해결하기 위한 기술적 연구와 윤리적 고려가 필요합니다. 발전과 함께 이러한 문제를 해결하며 책임감 있게 기술을 사용하는 것이 중요한 과제로 남아 있습니다.\n"
     ]
    }
   ],
   "source": [
    "# 응답을 출력합니다.\n",
    "print(response.choices[0].message[\"content\"])"
   ]
  }
 ],
 "metadata": {
  "colab": {
   "authorship_tag": "ABX9TyPWtT3guRC4/FIBVGDapNbd",
   "provenance": []
  },
  "kernelspec": {
   "display_name": "KOSA",
   "language": "python",
   "name": "python3"
  },
  "language_info": {
   "codemirror_mode": {
    "name": "ipython",
    "version": 3
   },
   "file_extension": ".py",
   "mimetype": "text/x-python",
   "name": "python",
   "nbconvert_exporter": "python",
   "pygments_lexer": "ipython3",
   "version": "3.10.16"
  }
 },
 "nbformat": 4,
 "nbformat_minor": 0
}
