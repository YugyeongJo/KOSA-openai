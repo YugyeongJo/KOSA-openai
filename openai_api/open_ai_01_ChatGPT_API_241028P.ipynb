{
 "cells": [
  {
   "cell_type": "markdown",
   "metadata": {
    "id": "pt_DuhZwsmCI"
   },
   "source": [
    "OPEN AI API 라이브러리 설치"
   ]
  },
  {
   "cell_type": "code",
   "execution_count": null,
   "metadata": {
    "colab": {
     "base_uri": "https://localhost:8080/"
    },
    "collapsed": true,
    "executionInfo": {
     "elapsed": 2857,
     "status": "ok",
     "timestamp": 1730078544932,
     "user": {
      "displayName": "주식회사한시경",
      "userId": "01036671795204052858"
     },
     "user_tz": -540
    },
    "id": "1MyoBJSwsYI3",
    "outputId": "32e11b32-cb00-44e5-8a32-c7332fb0b803"
   },
   "outputs": [
    {
     "name": "stdout",
     "output_type": "stream",
     "text": [
      "Requirement already satisfied: openai in /usr/local/lib/python3.10/dist-packages (1.52.2)\n",
      "Requirement already satisfied: anyio<5,>=3.5.0 in /usr/local/lib/python3.10/dist-packages (from openai) (3.7.1)\n",
      "Requirement already satisfied: distro<2,>=1.7.0 in /usr/lib/python3/dist-packages (from openai) (1.7.0)\n",
      "Requirement already satisfied: httpx<1,>=0.23.0 in /usr/local/lib/python3.10/dist-packages (from openai) (0.27.2)\n",
      "Requirement already satisfied: jiter<1,>=0.4.0 in /usr/local/lib/python3.10/dist-packages (from openai) (0.6.1)\n",
      "Requirement already satisfied: pydantic<3,>=1.9.0 in /usr/local/lib/python3.10/dist-packages (from openai) (2.9.2)\n",
      "Requirement already satisfied: sniffio in /usr/local/lib/python3.10/dist-packages (from openai) (1.3.1)\n",
      "Requirement already satisfied: tqdm>4 in /usr/local/lib/python3.10/dist-packages (from openai) (4.66.5)\n",
      "Requirement already satisfied: typing-extensions<5,>=4.11 in /usr/local/lib/python3.10/dist-packages (from openai) (4.12.2)\n",
      "Requirement already satisfied: idna>=2.8 in /usr/local/lib/python3.10/dist-packages (from anyio<5,>=3.5.0->openai) (3.10)\n",
      "Requirement already satisfied: exceptiongroup in /usr/local/lib/python3.10/dist-packages (from anyio<5,>=3.5.0->openai) (1.2.2)\n",
      "Requirement already satisfied: certifi in /usr/local/lib/python3.10/dist-packages (from httpx<1,>=0.23.0->openai) (2024.8.30)\n",
      "Requirement already satisfied: httpcore==1.* in /usr/local/lib/python3.10/dist-packages (from httpx<1,>=0.23.0->openai) (1.0.6)\n",
      "Requirement already satisfied: h11<0.15,>=0.13 in /usr/local/lib/python3.10/dist-packages (from httpcore==1.*->httpx<1,>=0.23.0->openai) (0.14.0)\n",
      "Requirement already satisfied: annotated-types>=0.6.0 in /usr/local/lib/python3.10/dist-packages (from pydantic<3,>=1.9.0->openai) (0.7.0)\n",
      "Requirement already satisfied: pydantic-core==2.23.4 in /usr/local/lib/python3.10/dist-packages (from pydantic<3,>=1.9.0->openai) (2.23.4)\n"
     ]
    }
   ],
   "source": [
    "%pip install openai"
   ]
  },
  {
   "cell_type": "markdown",
   "metadata": {
    "id": "yOgduWIEs7E0"
   },
   "source": [
    "패키지 불러오기"
   ]
  },
  {
   "cell_type": "code",
   "execution_count": 1,
   "metadata": {
    "id": "nKnqcZddswcJ"
   },
   "outputs": [],
   "source": [
    "import openai"
   ]
  },
  {
   "cell_type": "code",
   "execution_count": 2,
   "metadata": {
    "colab": {
     "base_uri": "https://localhost:8080/",
     "height": 36
    },
    "executionInfo": {
     "elapsed": 899,
     "status": "ok",
     "timestamp": 1730078756364,
     "user": {
      "displayName": "주식회사한시경",
      "userId": "01036671795204052858"
     },
     "user_tz": -540
    },
    "id": "B3It83LHunca",
    "outputId": "6532428e-208b-4c45-f4aa-0ccbc66ea8ec"
   },
   "outputs": [
    {
     "data": {
      "text/plain": [
       "'1.68.2'"
      ]
     },
     "execution_count": 2,
     "metadata": {},
     "output_type": "execute_result"
    }
   ],
   "source": [
    "openai.__version__"
   ]
  },
  {
   "cell_type": "markdown",
   "metadata": {
    "id": "mJRBdA_AtFoF"
   },
   "source": [
    "Client 생성 및 API KEY 지정하기"
   ]
  },
  {
   "cell_type": "code",
   "execution_count": 3,
   "metadata": {},
   "outputs": [],
   "source": [
    "# api 키 불러오기\n",
    "import os\n",
    "from dotenv import load_dotenv\n",
    "\n",
    "load_dotenv()\n",
    "OPENAI_API_KEY = os.getenv('OPENAI_API_KEY')"
   ]
  },
  {
   "cell_type": "code",
   "execution_count": 4,
   "metadata": {
    "id": "9nCWdR9Ht5lB"
   },
   "outputs": [],
   "source": [
    "#api 키 직접 연결하기\n",
    "client = openai.OpenAI(api_key = OPENAI_API_KEY)"
   ]
  },
  {
   "cell_type": "markdown",
   "metadata": {
    "id": "k0sw2U18uAnA"
   },
   "source": [
    "기본 질문하기"
   ]
  },
  {
   "cell_type": "code",
   "execution_count": 5,
   "metadata": {
    "id": "-K6OL9XavtHq"
   },
   "outputs": [],
   "source": [
    "from openai import OpenAI\n",
    "client = OpenAI()\n",
    "completion = client.chat.completions.create(\n",
    "    model=\"gpt-4o\",\n",
    "    messages=[\n",
    "        {\"role\": \"user\", \"content\": \"Tell me how to make a pizza\"}\n",
    "    ]\n",
    ")"
   ]
  },
  {
   "cell_type": "code",
   "execution_count": 6,
   "metadata": {
    "colab": {
     "base_uri": "https://localhost:8080/"
    },
    "executionInfo": {
     "elapsed": 790,
     "status": "ok",
     "timestamp": 1730079081202,
     "user": {
      "displayName": "주식회사한시경",
      "userId": "01036671795204052858"
     },
     "user_tz": -540
    },
    "id": "wM7Ez6YPswkk",
    "outputId": "c989eee0-d1b9-43ce-800c-f1c19e50b6bf"
   },
   "outputs": [
    {
     "name": "stdout",
     "output_type": "stream",
     "text": [
      "ChatCompletion(id='chatcmpl-BFKMdISPo5cHFnOnW38Eeit3BKcu7', choices=[Choice(finish_reason='stop', index=0, logprobs=None, message=ChatCompletionMessage(content=\"Making pizza at home can be a fun and rewarding experience. Here's a basic recipe to help you create a delicious homemade pizza:\\n\\n### Ingredients\\n\\n#### For the Dough:\\n- **2 ¼ teaspoons (1 packet) active dry yeast**\\n- **1 ½ cups warm water (110°F or 45°C)**\\n- **3 ½ to 4 cups all-purpose flour, plus extra for dusting**\\n- **2 tablespoons olive oil**\\n- **1 ½ teaspoons salt**\\n- **1 teaspoon sugar**\\n\\n#### For the Sauce:\\n- **1 can (14-16 ounces) crushed tomatoes**\\n- **1-2 cloves garlic, minced**\\n- **1 tablespoon olive oil**\\n- **1 teaspoon sugar (optional)**\\n- **Salt and pepper, to taste**\\n- **Dried oregano and basil, to taste**\\n\\n#### Toppings (Optional, Customize to Taste):\\n- **2 cups shredded mozzarella cheese**\\n- **1/2 cup grated Parmesan cheese**\\n- **Sliced pepperoni**\\n- **Sliced bell peppers**\\n- **Sliced mushrooms**\\n- **Sliced onions**\\n- **Olives**\\n- **Fresh basil leaves**\\n\\n### Instructions\\n\\n#### 1. Prepare the Dough:\\n1. **Activate Yeast**: In a small bowl, dissolve the yeast and sugar in warm water. Let it sit for about 5-10 minutes, or until it becomes frothy.\\n2. **Mix Ingredients**: In a large mixing bowl, combine 3 ½ cups of flour and salt. Add the yeast mixture and olive oil. Mix until the dough starts to come together.\\n3. **Knead the Dough**: On a floured surface, knead the dough for about 8-10 minutes, adding more flour if necessary, until the dough is smooth and elastic.\\n4. **Let it Rise**: Place the dough in a lightly oiled bowl, cover with a damp cloth, and let it rise in a warm area for about 1-2 hours, or until it doubles in size.\\n\\n#### 2. Prepare the Sauce:\\n1. In a saucepan over medium heat, add olive oil and sauté the minced garlic until fragrant.\\n2. Add crushed tomatoes, sugar (if using), salt, pepper, oregano, and basil. Stir well to combine.\\n3. Let the sauce simmer for about 15-20 minutes. Adjust seasoning to taste.\\n\\n#### 3. Assemble the Pizza:\\n1. **Preheat Oven**: Preheat your oven to 475°F (245°C). If using a pizza stone, place it in the oven to heat up as well.\\n2. **Shape the Dough**: Punch down the risen dough and divide it in half (this recipe makes two 12-inch pizzas). On a floured surface, roll out each half into a circle, about 12 inches in diameter.\\n3. **Add Sauce and Toppings**: Transfer the dough to a pizza peel or baking sheet. Spread a generous amount of sauce over the surface. Sprinkle with mozzarella and Parmesan cheese, and add your favorite toppings.\\n4. **Bake the Pizza**: Slide the pizza onto the preheated pizza stone or place the baking sheet in the oven. Bake for 10-15 minutes, or until the crust is golden and the cheese is bubbly and slightly browned.\\n\\n5. **Serve**: Remove from the oven, let it cool for a few minutes, then slice and enjoy!\\n\\nFeel free to experiment with different toppings and sauces to create your perfect pizza. Enjoy your homemade creation!\", refusal=None, role='assistant', annotations=[], audio=None, function_call=None, tool_calls=None))], created=1742992899, model='gpt-4o-2024-08-06', object='chat.completion', service_tier='default', system_fingerprint='fp_6bb567654c', usage=CompletionUsage(completion_tokens=718, prompt_tokens=14, total_tokens=732, completion_tokens_details=CompletionTokensDetails(accepted_prediction_tokens=0, audio_tokens=0, reasoning_tokens=0, rejected_prediction_tokens=0), prompt_tokens_details=PromptTokensDetails(audio_tokens=0, cached_tokens=0)))\n"
     ]
    }
   ],
   "source": [
    "print(completion)"
   ]
  },
  {
   "cell_type": "markdown",
   "metadata": {
    "id": "0j2HYbSNvuxI"
   },
   "source": [
    "응답에서 답변만 추출하기"
   ]
  },
  {
   "cell_type": "code",
   "execution_count": 7,
   "metadata": {
    "colab": {
     "base_uri": "https://localhost:8080/"
    },
    "executionInfo": {
     "elapsed": 2,
     "status": "ok",
     "timestamp": 1730079103500,
     "user": {
      "displayName": "주식회사한시경",
      "userId": "01036671795204052858"
     },
     "user_tz": -540
    },
    "id": "aLIaiSEGswmi",
    "outputId": "7e9666d9-7df6-4164-c31e-4c9bfa7eb2bf"
   },
   "outputs": [
    {
     "data": {
      "text/plain": [
       "Choice(finish_reason='stop', index=0, logprobs=None, message=ChatCompletionMessage(content=\"Making pizza at home can be a fun and rewarding experience. Here's a basic recipe to help you create a delicious homemade pizza:\\n\\n### Ingredients\\n\\n#### For the Dough:\\n- **2 ¼ teaspoons (1 packet) active dry yeast**\\n- **1 ½ cups warm water (110°F or 45°C)**\\n- **3 ½ to 4 cups all-purpose flour, plus extra for dusting**\\n- **2 tablespoons olive oil**\\n- **1 ½ teaspoons salt**\\n- **1 teaspoon sugar**\\n\\n#### For the Sauce:\\n- **1 can (14-16 ounces) crushed tomatoes**\\n- **1-2 cloves garlic, minced**\\n- **1 tablespoon olive oil**\\n- **1 teaspoon sugar (optional)**\\n- **Salt and pepper, to taste**\\n- **Dried oregano and basil, to taste**\\n\\n#### Toppings (Optional, Customize to Taste):\\n- **2 cups shredded mozzarella cheese**\\n- **1/2 cup grated Parmesan cheese**\\n- **Sliced pepperoni**\\n- **Sliced bell peppers**\\n- **Sliced mushrooms**\\n- **Sliced onions**\\n- **Olives**\\n- **Fresh basil leaves**\\n\\n### Instructions\\n\\n#### 1. Prepare the Dough:\\n1. **Activate Yeast**: In a small bowl, dissolve the yeast and sugar in warm water. Let it sit for about 5-10 minutes, or until it becomes frothy.\\n2. **Mix Ingredients**: In a large mixing bowl, combine 3 ½ cups of flour and salt. Add the yeast mixture and olive oil. Mix until the dough starts to come together.\\n3. **Knead the Dough**: On a floured surface, knead the dough for about 8-10 minutes, adding more flour if necessary, until the dough is smooth and elastic.\\n4. **Let it Rise**: Place the dough in a lightly oiled bowl, cover with a damp cloth, and let it rise in a warm area for about 1-2 hours, or until it doubles in size.\\n\\n#### 2. Prepare the Sauce:\\n1. In a saucepan over medium heat, add olive oil and sauté the minced garlic until fragrant.\\n2. Add crushed tomatoes, sugar (if using), salt, pepper, oregano, and basil. Stir well to combine.\\n3. Let the sauce simmer for about 15-20 minutes. Adjust seasoning to taste.\\n\\n#### 3. Assemble the Pizza:\\n1. **Preheat Oven**: Preheat your oven to 475°F (245°C). If using a pizza stone, place it in the oven to heat up as well.\\n2. **Shape the Dough**: Punch down the risen dough and divide it in half (this recipe makes two 12-inch pizzas). On a floured surface, roll out each half into a circle, about 12 inches in diameter.\\n3. **Add Sauce and Toppings**: Transfer the dough to a pizza peel or baking sheet. Spread a generous amount of sauce over the surface. Sprinkle with mozzarella and Parmesan cheese, and add your favorite toppings.\\n4. **Bake the Pizza**: Slide the pizza onto the preheated pizza stone or place the baking sheet in the oven. Bake for 10-15 minutes, or until the crust is golden and the cheese is bubbly and slightly browned.\\n\\n5. **Serve**: Remove from the oven, let it cool for a few minutes, then slice and enjoy!\\n\\nFeel free to experiment with different toppings and sauces to create your perfect pizza. Enjoy your homemade creation!\", refusal=None, role='assistant', annotations=[], audio=None, function_call=None, tool_calls=None))"
      ]
     },
     "execution_count": 7,
     "metadata": {},
     "output_type": "execute_result"
    }
   ],
   "source": [
    "completion.choices[0]"
   ]
  },
  {
   "cell_type": "code",
   "execution_count": 8,
   "metadata": {
    "colab": {
     "base_uri": "https://localhost:8080/"
    },
    "executionInfo": {
     "elapsed": 3,
     "status": "ok",
     "timestamp": 1730079104028,
     "user": {
      "displayName": "주식회사한시경",
      "userId": "01036671795204052858"
     },
     "user_tz": -540
    },
    "id": "dJ_ejwczwH-r",
    "outputId": "ba2c63f6-e8d4-4bb5-ca48-b47c0a4a74a7"
   },
   "outputs": [
    {
     "data": {
      "text/plain": [
       "ChatCompletionMessage(content=\"Making pizza at home can be a fun and rewarding experience. Here's a basic recipe to help you create a delicious homemade pizza:\\n\\n### Ingredients\\n\\n#### For the Dough:\\n- **2 ¼ teaspoons (1 packet) active dry yeast**\\n- **1 ½ cups warm water (110°F or 45°C)**\\n- **3 ½ to 4 cups all-purpose flour, plus extra for dusting**\\n- **2 tablespoons olive oil**\\n- **1 ½ teaspoons salt**\\n- **1 teaspoon sugar**\\n\\n#### For the Sauce:\\n- **1 can (14-16 ounces) crushed tomatoes**\\n- **1-2 cloves garlic, minced**\\n- **1 tablespoon olive oil**\\n- **1 teaspoon sugar (optional)**\\n- **Salt and pepper, to taste**\\n- **Dried oregano and basil, to taste**\\n\\n#### Toppings (Optional, Customize to Taste):\\n- **2 cups shredded mozzarella cheese**\\n- **1/2 cup grated Parmesan cheese**\\n- **Sliced pepperoni**\\n- **Sliced bell peppers**\\n- **Sliced mushrooms**\\n- **Sliced onions**\\n- **Olives**\\n- **Fresh basil leaves**\\n\\n### Instructions\\n\\n#### 1. Prepare the Dough:\\n1. **Activate Yeast**: In a small bowl, dissolve the yeast and sugar in warm water. Let it sit for about 5-10 minutes, or until it becomes frothy.\\n2. **Mix Ingredients**: In a large mixing bowl, combine 3 ½ cups of flour and salt. Add the yeast mixture and olive oil. Mix until the dough starts to come together.\\n3. **Knead the Dough**: On a floured surface, knead the dough for about 8-10 minutes, adding more flour if necessary, until the dough is smooth and elastic.\\n4. **Let it Rise**: Place the dough in a lightly oiled bowl, cover with a damp cloth, and let it rise in a warm area for about 1-2 hours, or until it doubles in size.\\n\\n#### 2. Prepare the Sauce:\\n1. In a saucepan over medium heat, add olive oil and sauté the minced garlic until fragrant.\\n2. Add crushed tomatoes, sugar (if using), salt, pepper, oregano, and basil. Stir well to combine.\\n3. Let the sauce simmer for about 15-20 minutes. Adjust seasoning to taste.\\n\\n#### 3. Assemble the Pizza:\\n1. **Preheat Oven**: Preheat your oven to 475°F (245°C). If using a pizza stone, place it in the oven to heat up as well.\\n2. **Shape the Dough**: Punch down the risen dough and divide it in half (this recipe makes two 12-inch pizzas). On a floured surface, roll out each half into a circle, about 12 inches in diameter.\\n3. **Add Sauce and Toppings**: Transfer the dough to a pizza peel or baking sheet. Spread a generous amount of sauce over the surface. Sprinkle with mozzarella and Parmesan cheese, and add your favorite toppings.\\n4. **Bake the Pizza**: Slide the pizza onto the preheated pizza stone or place the baking sheet in the oven. Bake for 10-15 minutes, or until the crust is golden and the cheese is bubbly and slightly browned.\\n\\n5. **Serve**: Remove from the oven, let it cool for a few minutes, then slice and enjoy!\\n\\nFeel free to experiment with different toppings and sauces to create your perfect pizza. Enjoy your homemade creation!\", refusal=None, role='assistant', annotations=[], audio=None, function_call=None, tool_calls=None)"
      ]
     },
     "execution_count": 8,
     "metadata": {},
     "output_type": "execute_result"
    }
   ],
   "source": [
    "completion.choices[0].message"
   ]
  },
  {
   "cell_type": "code",
   "execution_count": 9,
   "metadata": {
    "colab": {
     "base_uri": "https://localhost:8080/",
     "height": 143
    },
    "executionInfo": {
     "elapsed": 511,
     "status": "ok",
     "timestamp": 1730079107997,
     "user": {
      "displayName": "주식회사한시경",
      "userId": "01036671795204052858"
     },
     "user_tz": -540
    },
    "id": "5R3U1GrGwRRa",
    "outputId": "0b4d93ac-cafa-44e6-fffa-634dee719b8e"
   },
   "outputs": [
    {
     "data": {
      "text/plain": [
       "\"Making pizza at home can be a fun and rewarding experience. Here's a basic recipe to help you create a delicious homemade pizza:\\n\\n### Ingredients\\n\\n#### For the Dough:\\n- **2 ¼ teaspoons (1 packet) active dry yeast**\\n- **1 ½ cups warm water (110°F or 45°C)**\\n- **3 ½ to 4 cups all-purpose flour, plus extra for dusting**\\n- **2 tablespoons olive oil**\\n- **1 ½ teaspoons salt**\\n- **1 teaspoon sugar**\\n\\n#### For the Sauce:\\n- **1 can (14-16 ounces) crushed tomatoes**\\n- **1-2 cloves garlic, minced**\\n- **1 tablespoon olive oil**\\n- **1 teaspoon sugar (optional)**\\n- **Salt and pepper, to taste**\\n- **Dried oregano and basil, to taste**\\n\\n#### Toppings (Optional, Customize to Taste):\\n- **2 cups shredded mozzarella cheese**\\n- **1/2 cup grated Parmesan cheese**\\n- **Sliced pepperoni**\\n- **Sliced bell peppers**\\n- **Sliced mushrooms**\\n- **Sliced onions**\\n- **Olives**\\n- **Fresh basil leaves**\\n\\n### Instructions\\n\\n#### 1. Prepare the Dough:\\n1. **Activate Yeast**: In a small bowl, dissolve the yeast and sugar in warm water. Let it sit for about 5-10 minutes, or until it becomes frothy.\\n2. **Mix Ingredients**: In a large mixing bowl, combine 3 ½ cups of flour and salt. Add the yeast mixture and olive oil. Mix until the dough starts to come together.\\n3. **Knead the Dough**: On a floured surface, knead the dough for about 8-10 minutes, adding more flour if necessary, until the dough is smooth and elastic.\\n4. **Let it Rise**: Place the dough in a lightly oiled bowl, cover with a damp cloth, and let it rise in a warm area for about 1-2 hours, or until it doubles in size.\\n\\n#### 2. Prepare the Sauce:\\n1. In a saucepan over medium heat, add olive oil and sauté the minced garlic until fragrant.\\n2. Add crushed tomatoes, sugar (if using), salt, pepper, oregano, and basil. Stir well to combine.\\n3. Let the sauce simmer for about 15-20 minutes. Adjust seasoning to taste.\\n\\n#### 3. Assemble the Pizza:\\n1. **Preheat Oven**: Preheat your oven to 475°F (245°C). If using a pizza stone, place it in the oven to heat up as well.\\n2. **Shape the Dough**: Punch down the risen dough and divide it in half (this recipe makes two 12-inch pizzas). On a floured surface, roll out each half into a circle, about 12 inches in diameter.\\n3. **Add Sauce and Toppings**: Transfer the dough to a pizza peel or baking sheet. Spread a generous amount of sauce over the surface. Sprinkle with mozzarella and Parmesan cheese, and add your favorite toppings.\\n4. **Bake the Pizza**: Slide the pizza onto the preheated pizza stone or place the baking sheet in the oven. Bake for 10-15 minutes, or until the crust is golden and the cheese is bubbly and slightly browned.\\n\\n5. **Serve**: Remove from the oven, let it cool for a few minutes, then slice and enjoy!\\n\\nFeel free to experiment with different toppings and sauces to create your perfect pizza. Enjoy your homemade creation!\""
      ]
     },
     "execution_count": 9,
     "metadata": {},
     "output_type": "execute_result"
    }
   ],
   "source": [
    "completion.choices[0].message.content"
   ]
  },
  {
   "cell_type": "code",
   "execution_count": 10,
   "metadata": {
    "colab": {
     "base_uri": "https://localhost:8080/"
    },
    "executionInfo": {
     "elapsed": 4,
     "status": "ok",
     "timestamp": 1730079109222,
     "user": {
      "displayName": "주식회사한시경",
      "userId": "01036671795204052858"
     },
     "user_tz": -540
    },
    "id": "dHPuhpKmwVJS",
    "outputId": "098755ad-b560-4484-80b8-6d683b79afe4"
   },
   "outputs": [
    {
     "name": "stdout",
     "output_type": "stream",
     "text": [
      "Making pizza at home can be a fun and rewarding experience. Here's a basic recipe to help you create a delicious homemade pizza:\n",
      "\n",
      "### Ingredients\n",
      "\n",
      "#### For the Dough:\n",
      "- **2 ¼ teaspoons (1 packet) active dry yeast**\n",
      "- **1 ½ cups warm water (110°F or 45°C)**\n",
      "- **3 ½ to 4 cups all-purpose flour, plus extra for dusting**\n",
      "- **2 tablespoons olive oil**\n",
      "- **1 ½ teaspoons salt**\n",
      "- **1 teaspoon sugar**\n",
      "\n",
      "#### For the Sauce:\n",
      "- **1 can (14-16 ounces) crushed tomatoes**\n",
      "- **1-2 cloves garlic, minced**\n",
      "- **1 tablespoon olive oil**\n",
      "- **1 teaspoon sugar (optional)**\n",
      "- **Salt and pepper, to taste**\n",
      "- **Dried oregano and basil, to taste**\n",
      "\n",
      "#### Toppings (Optional, Customize to Taste):\n",
      "- **2 cups shredded mozzarella cheese**\n",
      "- **1/2 cup grated Parmesan cheese**\n",
      "- **Sliced pepperoni**\n",
      "- **Sliced bell peppers**\n",
      "- **Sliced mushrooms**\n",
      "- **Sliced onions**\n",
      "- **Olives**\n",
      "- **Fresh basil leaves**\n",
      "\n",
      "### Instructions\n",
      "\n",
      "#### 1. Prepare the Dough:\n",
      "1. **Activate Yeast**: In a small bowl, dissolve the yeast and sugar in warm water. Let it sit for about 5-10 minutes, or until it becomes frothy.\n",
      "2. **Mix Ingredients**: In a large mixing bowl, combine 3 ½ cups of flour and salt. Add the yeast mixture and olive oil. Mix until the dough starts to come together.\n",
      "3. **Knead the Dough**: On a floured surface, knead the dough for about 8-10 minutes, adding more flour if necessary, until the dough is smooth and elastic.\n",
      "4. **Let it Rise**: Place the dough in a lightly oiled bowl, cover with a damp cloth, and let it rise in a warm area for about 1-2 hours, or until it doubles in size.\n",
      "\n",
      "#### 2. Prepare the Sauce:\n",
      "1. In a saucepan over medium heat, add olive oil and sauté the minced garlic until fragrant.\n",
      "2. Add crushed tomatoes, sugar (if using), salt, pepper, oregano, and basil. Stir well to combine.\n",
      "3. Let the sauce simmer for about 15-20 minutes. Adjust seasoning to taste.\n",
      "\n",
      "#### 3. Assemble the Pizza:\n",
      "1. **Preheat Oven**: Preheat your oven to 475°F (245°C). If using a pizza stone, place it in the oven to heat up as well.\n",
      "2. **Shape the Dough**: Punch down the risen dough and divide it in half (this recipe makes two 12-inch pizzas). On a floured surface, roll out each half into a circle, about 12 inches in diameter.\n",
      "3. **Add Sauce and Toppings**: Transfer the dough to a pizza peel or baking sheet. Spread a generous amount of sauce over the surface. Sprinkle with mozzarella and Parmesan cheese, and add your favorite toppings.\n",
      "4. **Bake the Pizza**: Slide the pizza onto the preheated pizza stone or place the baking sheet in the oven. Bake for 10-15 minutes, or until the crust is golden and the cheese is bubbly and slightly browned.\n",
      "\n",
      "5. **Serve**: Remove from the oven, let it cool for a few minutes, then slice and enjoy!\n",
      "\n",
      "Feel free to experiment with different toppings and sauces to create your perfect pizza. Enjoy your homemade creation!\n"
     ]
    }
   ],
   "source": [
    "print(completion.choices[0].message.content)"
   ]
  },
  {
   "cell_type": "markdown",
   "metadata": {
    "id": "3QTpCXnMwmwc"
   },
   "source": [
    "소모 토근, 비용 확인하기"
   ]
  },
  {
   "cell_type": "code",
   "execution_count": 11,
   "metadata": {
    "colab": {
     "base_uri": "https://localhost:8080/"
    },
    "executionInfo": {
     "elapsed": 755,
     "status": "ok",
     "timestamp": 1730080890173,
     "user": {
      "displayName": "주식회사한시경",
      "userId": "01036671795204052858"
     },
     "user_tz": -540
    },
    "id": "_j-rWN1MwYcv",
    "outputId": "a31f61bd-fabd-478f-8948-e01526fb3bef"
   },
   "outputs": [
    {
     "name": "stdout",
     "output_type": "stream",
     "text": [
      "CompletionUsage(completion_tokens=718, prompt_tokens=14, total_tokens=732, completion_tokens_details=CompletionTokensDetails(accepted_prediction_tokens=0, audio_tokens=0, reasoning_tokens=0, rejected_prediction_tokens=0), prompt_tokens_details=PromptTokensDetails(audio_tokens=0, cached_tokens=0))\n"
     ]
    }
   ],
   "source": [
    "print(completion.usage)"
   ]
  },
  {
   "cell_type": "code",
   "execution_count": 12,
   "metadata": {
    "id": "GrVsB8wzxCnJ"
   },
   "outputs": [],
   "source": [
    "total_bill = completion.usage.prompt_tokens * 0.0015/1000 + completion.usage.completion_tokens * 0.002/1000"
   ]
  },
  {
   "cell_type": "code",
   "execution_count": 13,
   "metadata": {
    "colab": {
     "base_uri": "https://localhost:8080/"
    },
    "executionInfo": {
     "elapsed": 2,
     "status": "ok",
     "timestamp": 1730080891923,
     "user": {
      "displayName": "주식회사한시경",
      "userId": "01036671795204052858"
     },
     "user_tz": -540
    },
    "id": "NYOqdfJ6wt5H",
    "outputId": "619525c7-f3e7-48ff-9fd0-eb6027ad154a"
   },
   "outputs": [
    {
     "name": "stdout",
     "output_type": "stream",
     "text": [
      "총 발생비용 0.00192823751원\n"
     ]
    }
   ],
   "source": [
    "print(\"총 발생비용 {}원\".format(total_bill*1.32343))"
   ]
  },
  {
   "cell_type": "markdown",
   "metadata": {
    "id": "6DIrqcQmFGa7"
   },
   "source": [
    "역할 부여하기"
   ]
  },
  {
   "cell_type": "code",
   "execution_count": 14,
   "metadata": {
    "colab": {
     "base_uri": "https://localhost:8080/"
    },
    "executionInfo": {
     "elapsed": 1712,
     "status": "ok",
     "timestamp": 1730081137135,
     "user": {
      "displayName": "주식회사한시경",
      "userId": "01036671795204052858"
     },
     "user_tz": -540
    },
    "id": "5_eLsPUkxBgj",
    "outputId": "5a24cc3c-d3e4-41a9-a6ad-57de18af6019"
   },
   "outputs": [
    {
     "name": "stdout",
     "output_type": "stream",
     "text": [
      "2020년 월드시리즈에서는 로스앤젤레스 다저스가 탬파베이 레이스를 이기고 우승하였어요.\n"
     ]
    }
   ],
   "source": [
    "client = OpenAI()\n",
    "completion = client.chat.completions.create(\n",
    "    model='gpt-3.5-turbo',\n",
    "    messages=[\n",
    "        {'role':'system', 'content':'너는 친절하게 답변해 주는 비서야.'},    # 역할부여\n",
    "        {'role':'user', 'content':'2020년 월드시리즈에서는 누가 우승했어?'} # 질문\n",
    "    ]\n",
    ")\n",
    "\n",
    "print(completion.choices[0].message.content)"
   ]
  },
  {
   "cell_type": "code",
   "execution_count": 15,
   "metadata": {
    "colab": {
     "base_uri": "https://localhost:8080/"
    },
    "executionInfo": {
     "elapsed": 17628,
     "status": "ok",
     "timestamp": 1730081171911,
     "user": {
      "displayName": "주식회사한시경",
      "userId": "01036671795204052858"
     },
     "user_tz": -540
    },
    "id": "E2JPv4pIF9Lx",
    "outputId": "b870dd61-8877-428a-d688-807db679d6c9"
   },
   "outputs": [
    {
     "name": "stdout",
     "output_type": "stream",
     "text": [
      "The Los Angeles Dodgers won the 2020 World Series.\n"
     ]
    }
   ],
   "source": [
    "client = OpenAI()\n",
    "response = client.chat.completions.create(\n",
    "    model = 'gpt-3.5-turbo',\n",
    "    messages = [\n",
    "            {\"role\": \"system\", \"content\": \"You must only answer users' questions in English. This must be honored. You must only answer in English.\"},\n",
    "            {\"role\": \"user\", \"content\": \"2020년 월드시리즈에서는 누가 우승했어?\"}\n",
    "    ]\n",
    ")\n",
    "print(response.choices[0].message.content)"
   ]
  },
  {
   "cell_type": "code",
   "execution_count": 16,
   "metadata": {
    "colab": {
     "base_uri": "https://localhost:8080/"
    },
    "executionInfo": {
     "elapsed": 1034,
     "status": "ok",
     "timestamp": 1730081194373,
     "user": {
      "displayName": "주식회사한시경",
      "userId": "01036671795204052858"
     },
     "user_tz": -540
    },
    "id": "IYYK-8DcFzLW",
    "outputId": "5f8a9efd-965e-40bf-d3c5-a4b9951d945e"
   },
   "outputs": [
    {
     "name": "stdout",
     "output_type": "stream",
     "text": [
      "Sorry, I can't provide that information.\n"
     ]
    }
   ],
   "source": [
    "response = client.chat.completions.create(\n",
    "    model = 'gpt-3.5-turbo',\n",
    "    messages = [\n",
    "        {\"role\": \"system\", \"content\": \"You're a chatbot that refuses to answer and says sorry when users ask questions.\"},\n",
    "        {\"role\": \"user\", \"content\": \"2020년 월드시리즈에서는 누가 우승했어?\"}\n",
    "    ]\n",
    ")\n",
    "print(response.choices[0].message.content)"
   ]
  },
  {
   "cell_type": "code",
   "execution_count": 17,
   "metadata": {
    "colab": {
     "base_uri": "https://localhost:8080/"
    },
    "executionInfo": {
     "elapsed": 997,
     "status": "ok",
     "timestamp": 1730081198493,
     "user": {
      "displayName": "주식회사한시경",
      "userId": "01036671795204052858"
     },
     "user_tz": -540
    },
    "id": "nvT18OBfG5h9",
    "outputId": "b71eeef6-6518-428f-9afb-c62fca7a2e09"
   },
   "outputs": [
    {
     "name": "stdout",
     "output_type": "stream",
     "text": [
      "Who won the World Series in 2020?\n"
     ]
    }
   ],
   "source": [
    "response = client.chat.completions.create(\n",
    " model=\"gpt-3.5-turbo\",\n",
    " messages=[\n",
    "  {\"role\": \"system\", \"content\": \"You are a translator that translates users' inputs. If the input is in Korean, it must be translated into English. This must be strictly adhered to.\"},\n",
    "  {\"role\": \"user\", \"content\": \"2020년 월드시리즈에서는 누가 우승했어?\"}\n",
    "  ]\n",
    " )\n",
    "print(response.choices[0].message.content)"
   ]
  },
  {
   "cell_type": "markdown",
   "metadata": {
    "id": "LNsCrvstHFiq"
   },
   "source": [
    "이전 대화를 포함하여 답변하기"
   ]
  },
  {
   "cell_type": "code",
   "execution_count": 18,
   "metadata": {
    "colab": {
     "base_uri": "https://localhost:8080/"
    },
    "executionInfo": {
     "elapsed": 3150,
     "status": "ok",
     "timestamp": 1730081251803,
     "user": {
      "displayName": "주식회사한시경",
      "userId": "01036671795204052858"
     },
     "user_tz": -540
    },
    "id": "DIi_lhKrHEQK",
    "outputId": "6a6bcb6e-21ac-46d2-ebf0-53a75b1a6846"
   },
   "outputs": [
    {
     "name": "stdout",
     "output_type": "stream",
     "text": [
      "2002년 월드컵은 한국과 일본에서 공동 개최되었던데, 한국은 월드컵에서의 역사상 처음으로 4강에 진출하여 엄청난 화제가 되었습니다. 한국은 16강전에서 이탈리아, 8강전에서 스페인을 꺾으며 놀라운 업셋을 이루었고, 이에 대한 홈팬들의 열광적인 응원과 선수들의 끈질긴 노력이 팬들과 국가적 열기를 이끌었습니다. 또한, 한국은 그러한 성과에 대한 비판도 받았지만, 그런 비판들을 뛰어넘는 열정과 투지로 세계적인 인상을 남기기도 했습니다. 한국 대표팀은 이번 대회에서 가장 큰 놀라움을 선사하며 월드컵 역사상에 길이 남게 되었습니다.\n"
     ]
    }
   ],
   "source": [
    "response = client.chat.completions.create(\n",
    "    model=\"gpt-3.5-turbo\",\n",
    "    messages = [\n",
    "    {\"role\": \"user\", \"content\": \"2002년 월드컵에서 가장 화제가 되었던 나라는 어디야?\"},\n",
    "    {\"role\": \"assistant\", \"content\": \"바로 예상을 뚫고 4강 진출 신화를 일으킨 한국입니다.\"},\n",
    "    {\"role\": \"user\", \"content\": \"그 나라가 화제가 되었던 이유를 자세하게 설명해줘\"} ]\n",
    "  )\n",
    "\n",
    "\n",
    "print(response.choices[0].message.content)\n"
   ]
  },
  {
   "cell_type": "code",
   "execution_count": 19,
   "metadata": {
    "colab": {
     "base_uri": "https://localhost:8080/"
    },
    "executionInfo": {
     "elapsed": 2183,
     "status": "ok",
     "timestamp": 1730081256253,
     "user": {
      "displayName": "주식회사한시경",
      "userId": "01036671795204052858"
     },
     "user_tz": -540
    },
    "id": "9qrBj9kIHa3Y",
    "outputId": "7cccd4fa-4c8e-47e9-dbb2-ced457214d2b"
   },
   "outputs": [
    {
     "name": "stdout",
     "output_type": "stream",
     "text": [
      "2002년 월드컵에서 대한민국 축구 국가대표팀의 감독은 거스 히딩크(Guus Hiddink)였습니다. 네덜란드 출신의 히딩크 감독은 한국 팀을 사상 처음으로 월드컵 4강에 진출시키며 큰 성과를 이뤘고, 그의 지도력은 많은 사람들로부터 찬사를 받았습니다. 히딩크 감독은 당시 한국 축구의 상징적인 인물로 자리매김하며, 한국 축구 역사에서 중요한 인물이 되었습니다.\n"
     ]
    }
   ],
   "source": [
    "response = client.chat.completions.create(\n",
    "    model=\"gpt-4o\",\n",
    "    messages = [\n",
    "    {\"role\": \"user\", \"content\": \"2002년 월드컵에서 가장 화제가 되었던 나라는 어디야?\"},\n",
    "    {\"role\": \"assistant\", \"content\": response.choices[0].message.content },\n",
    "    {\"role\": \"user\", \"content\": \"그 때 감독 이름을 알려줘\"} ]\n",
    "  )\n",
    "print(response.choices[0].message.content)"
   ]
  }
 ],
 "metadata": {
  "accelerator": "GPU",
  "colab": {
   "gpuType": "T4",
   "provenance": []
  },
  "kernelspec": {
   "display_name": "Python 3",
   "name": "python3"
  },
  "language_info": {
   "name": "python"
  }
 },
 "nbformat": 4,
 "nbformat_minor": 0
}
