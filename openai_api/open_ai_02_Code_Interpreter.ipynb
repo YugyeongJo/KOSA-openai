{
 "cells": [
  {
   "cell_type": "code",
   "execution_count": 1,
   "id": "26bb5f48",
   "metadata": {
    "colab": {
     "base_uri": "https://localhost:8080/"
    },
    "collapsed": true,
    "executionInfo": {
     "elapsed": 19923,
     "status": "ok",
     "timestamp": 1737305835823,
     "user": {
      "displayName": "주식회사한시경",
      "userId": "01036671795204052858"
     },
     "user_tz": -540
    },
    "id": "26bb5f48",
    "jupyter": {
     "outputs_hidden": true
    },
    "outputId": "e7ff50cb-4b95-4935-e391-a3087e57b72f"
   },
   "outputs": [
    {
     "name": "stdout",
     "output_type": "stream",
     "text": [
      "Requirement already satisfied: openai in c:\\users\\yugye\\appdata\\local\\anaconda3\\envs\\kosa\\lib\\site-packages (0.28.0)\n",
      "Collecting openai\n",
      "  Using cached openai-1.68.2-py3-none-any.whl.metadata (25 kB)\n",
      "Requirement already satisfied: anyio<5,>=3.5.0 in c:\\users\\yugye\\appdata\\local\\anaconda3\\envs\\kosa\\lib\\site-packages (from openai) (4.9.0)\n",
      "Requirement already satisfied: distro<2,>=1.7.0 in c:\\users\\yugye\\appdata\\local\\anaconda3\\envs\\kosa\\lib\\site-packages (from openai) (1.9.0)\n",
      "Requirement already satisfied: httpx<1,>=0.23.0 in c:\\users\\yugye\\appdata\\local\\anaconda3\\envs\\kosa\\lib\\site-packages (from openai) (0.28.1)\n",
      "Requirement already satisfied: jiter<1,>=0.4.0 in c:\\users\\yugye\\appdata\\local\\anaconda3\\envs\\kosa\\lib\\site-packages (from openai) (0.9.0)\n",
      "Requirement already satisfied: pydantic<3,>=1.9.0 in c:\\users\\yugye\\appdata\\local\\anaconda3\\envs\\kosa\\lib\\site-packages (from openai) (2.10.6)\n",
      "Requirement already satisfied: sniffio in c:\\users\\yugye\\appdata\\local\\anaconda3\\envs\\kosa\\lib\\site-packages (from openai) (1.3.1)\n",
      "Requirement already satisfied: tqdm>4 in c:\\users\\yugye\\appdata\\local\\anaconda3\\envs\\kosa\\lib\\site-packages (from openai) (4.67.1)\n",
      "Requirement already satisfied: typing-extensions<5,>=4.11 in c:\\users\\yugye\\appdata\\local\\anaconda3\\envs\\kosa\\lib\\site-packages (from openai) (4.12.2)\n",
      "Requirement already satisfied: exceptiongroup>=1.0.2 in c:\\users\\yugye\\appdata\\local\\anaconda3\\envs\\kosa\\lib\\site-packages (from anyio<5,>=3.5.0->openai) (1.2.2)\n",
      "Requirement already satisfied: idna>=2.8 in c:\\users\\yugye\\appdata\\local\\anaconda3\\envs\\kosa\\lib\\site-packages (from anyio<5,>=3.5.0->openai) (3.10)\n",
      "Requirement already satisfied: certifi in c:\\users\\yugye\\appdata\\local\\anaconda3\\envs\\kosa\\lib\\site-packages (from httpx<1,>=0.23.0->openai) (2025.1.31)\n",
      "Requirement already satisfied: httpcore==1.* in c:\\users\\yugye\\appdata\\local\\anaconda3\\envs\\kosa\\lib\\site-packages (from httpx<1,>=0.23.0->openai) (1.0.7)\n",
      "Requirement already satisfied: h11<0.15,>=0.13 in c:\\users\\yugye\\appdata\\local\\anaconda3\\envs\\kosa\\lib\\site-packages (from httpcore==1.*->httpx<1,>=0.23.0->openai) (0.14.0)\n",
      "Requirement already satisfied: annotated-types>=0.6.0 in c:\\users\\yugye\\appdata\\local\\anaconda3\\envs\\kosa\\lib\\site-packages (from pydantic<3,>=1.9.0->openai) (0.7.0)\n",
      "Requirement already satisfied: pydantic-core==2.27.2 in c:\\users\\yugye\\appdata\\local\\anaconda3\\envs\\kosa\\lib\\site-packages (from pydantic<3,>=1.9.0->openai) (2.27.2)\n",
      "Requirement already satisfied: colorama in c:\\users\\yugye\\appdata\\local\\anaconda3\\envs\\kosa\\lib\\site-packages (from tqdm>4->openai) (0.4.6)\n",
      "Using cached openai-1.68.2-py3-none-any.whl (606 kB)\n",
      "Installing collected packages: openai\n",
      "  Attempting uninstall: openai\n",
      "    Found existing installation: openai 0.28.0\n",
      "    Uninstalling openai-0.28.0:\n",
      "      Successfully uninstalled openai-0.28.0\n",
      "Successfully installed openai-1.68.2\n",
      "Note: you may need to restart the kernel to use updated packages.\n"
     ]
    }
   ],
   "source": [
    "%pip install openai --upgrade"
   ]
  },
  {
   "cell_type": "code",
   "execution_count": 1,
   "id": "90ad6238",
   "metadata": {
    "executionInfo": {
     "elapsed": 10416,
     "status": "ok",
     "timestamp": 1737305846236,
     "user": {
      "displayName": "주식회사한시경",
      "userId": "01036671795204052858"
     },
     "user_tz": -540
    },
    "id": "90ad6238"
   },
   "outputs": [],
   "source": [
    "import os\n",
    "import time\n",
    "from openai import OpenAI"
   ]
  },
  {
   "cell_type": "code",
   "execution_count": 2,
   "id": "zE__y6ZsfqE2",
   "metadata": {
    "executionInfo": {
     "elapsed": 326,
     "status": "ok",
     "timestamp": 1737305846559,
     "user": {
      "displayName": "주식회사한시경",
      "userId": "01036671795204052858"
     },
     "user_tz": -540
    },
    "id": "zE__y6ZsfqE2"
   },
   "outputs": [],
   "source": [
    "# api 키 불러오기\n",
    "import os\n",
    "import openai\n",
    "from dotenv import load_dotenv\n",
    "\n",
    "load_dotenv()\n",
    "OPENAI_API_KEY = os.getenv('OPENAI_API_KEY')\n",
    "\n",
    "client = OpenAI(api_key=OPENAI_API_KEY)"
   ]
  },
  {
   "cell_type": "code",
   "execution_count": 3,
   "id": "c1043eb4",
   "metadata": {
    "executionInfo": {
     "elapsed": 280,
     "status": "ok",
     "timestamp": 1737305914446,
     "user": {
      "displayName": "주식회사한시경",
      "userId": "01036671795204052858"
     },
     "user_tz": -540
    },
    "id": "c1043eb4"
   },
   "outputs": [],
   "source": [
    "assistant_name = \"Power Point Generator\"\n",
    "output_file_name = \"Presentation001.pptx\"\n",
    "assistant_instruction = r\"파일을 만들어줘 {} 언제나. 너는 해당 주제의 전문가이자 PowerPoint 작성 전문가야. 배경, 색상, 글꼴 및 스타일은 현대적이고 읽기 쉽게 1-5개 슬라이드로 만들어줘. 콘텐츠를 매력적으로 만들어줘. 또한 파일을 다운로드할 수 있어야해\".format(output_file_name)\n",
    "prompt_user = \"개인 기록을 목표로 등산을 연습하는 사람들을 위한 프레젠테이션을 만들어줘. 유용한 통찰력, 다양한 수준에 대한 교육 계획 및 교육 기간 전, 도중 및 후에 몇 가지 팁이 포함된 프레젠테이션을 만들어줘. 물론 통찰력도 제공해야해\""
   ]
  },
  {
   "cell_type": "code",
   "execution_count": 4,
   "id": "859bc1b6",
   "metadata": {
    "executionInfo": {
     "elapsed": 691,
     "status": "ok",
     "timestamp": 1737306024834,
     "user": {
      "displayName": "주식회사한시경",
      "userId": "01036671795204052858"
     },
     "user_tz": -540
    },
    "id": "859bc1b6"
   },
   "outputs": [],
   "source": [
    "# OpenAI API에서 비서를 생성하는 함수\n",
    "assistant = client.beta.assistants.create(\n",
    "    name=assistant_name,\n",
    "    instructions=assistant_instruction,\n",
    "    tools=[{\"type\": \"file_search\"},{\"type\": \"code_interpreter\"}],\n",
    "    # 파일 검색과 코드 해석 도구를 사용할 수 있도록 설정\n",
    "    model=\"gpt-4-1106-preview\"\n",
    ")"
   ]
  },
  {
   "cell_type": "code",
   "execution_count": 5,
   "id": "d6bf79d6",
   "metadata": {
    "executionInfo": {
     "elapsed": 993,
     "status": "ok",
     "timestamp": 1737306028991,
     "user": {
      "displayName": "주식회사한시경",
      "userId": "01036671795204052858"
     },
     "user_tz": -540
    },
    "id": "d6bf79d6"
   },
   "outputs": [],
   "source": [
    "#스레드는 어시스턴트와 사용자 간의 대화 세션\n",
    "#채팅 창에서 대화를 시작하면 스레드가 생성\n",
    "#해당 대화 중에 교환되는 모든 메시지는 동일한 스레드에서 진행\n",
    "thread = client.beta.threads.create()\n",
    "\n",
    "#메시지는 스레드 내의 통신 단위\n",
    "#사용자 쿼리, 명령 또는 사용자와 어시스턴트 간에 교환되는 모든 콘텐츠일 수 있습니다.\n",
    "\n",
    "# 생성된 스레드에 메시지를 추가\n",
    "message = client.beta.threads.messages.create(\n",
    "    thread_id=thread.id, #이전에 생성된 스레드의 ID를 참조\n",
    "    role=\"user\",\n",
    "    content=prompt_user)"
   ]
  },
  {
   "cell_type": "code",
   "execution_count": 6,
   "id": "7d3f8ae1",
   "metadata": {
    "executionInfo": {
     "elapsed": 887,
     "status": "ok",
     "timestamp": 1737306030322,
     "user": {
      "displayName": "주식회사한시경",
      "userId": "01036671795204052858"
     },
     "user_tz": -540
    },
    "id": "7d3f8ae1"
   },
   "outputs": [],
   "source": [
    "#실행은 어시스턴트와의 단일 상호작용을 의미합니다.\n",
    "#실행은 사용자가 대화를 시작(스레드 생성)할 때 시작되고 대화가 끝나면 종료됩니다.\n",
    "run = client.beta.threads.runs.create(\n",
    "  thread_id=thread.id,\n",
    "  assistant_id=assistant.id)"
   ]
  },
  {
   "cell_type": "code",
   "execution_count": 7,
   "id": "17007931",
   "metadata": {
    "colab": {
     "base_uri": "https://localhost:8080/"
    },
    "executionInfo": {
     "elapsed": 22280,
     "status": "ok",
     "timestamp": 1737306052601,
     "user": {
      "displayName": "주식회사한시경",
      "userId": "01036671795204052858"
     },
     "user_tz": -540
    },
    "id": "17007931",
    "outputId": "fb6a98a0-ec81-4c23-a15d-6adca3ccfbcf"
   },
   "outputs": [
    {
     "name": "stdout",
     "output_type": "stream",
     "text": [
      "in_progress\n",
      "in_progress\n",
      "in_progress\n",
      "in_progress\n"
     ]
    }
   ],
   "source": [
    "timeout = 180       # 최대 대기 시간으로, 180초(3분)로 설정\n",
    "interval_time = 5   # 실행 상태를 확인하는 주기(5초마다 점검)\n",
    "time_taken = 0      # 소요시간\n",
    "while time_taken < timeout:\n",
    "    run = client.beta.threads.runs.retrieve(\n",
    "    thread_id=thread.id,\n",
    "    run_id=run.id)\n",
    "    # 특정 스레드(thread.id)와 실행(run.id)의 현재 상태를 가져옴\n",
    "\n",
    "    if run.status == 'completed':\n",
    "        break\n",
    "    else:\n",
    "        print(run.status)\n",
    "        time.sleep(interval_time)\n",
    "        time_taken += interval_time"
   ]
  },
  {
   "cell_type": "code",
   "execution_count": 8,
   "id": "65720d32",
   "metadata": {
    "executionInfo": {
     "elapsed": 5083,
     "status": "ok",
     "timestamp": 1737306057679,
     "user": {
      "displayName": "주식회사한시경",
      "userId": "01036671795204052858"
     },
     "user_tz": -540
    },
    "id": "65720d32"
   },
   "outputs": [],
   "source": [
    "messages = client.beta.threads.messages.list(\n",
    "  thread_id=thread.id)\n",
    "# thread_id에 해당하는 스레드의 모든 메시지를 가져옴\n",
    "\n",
    "file_path = messages.data[0].content[0].text.annotations[0].file_path.file_id\n",
    "# 가져온 메시지 중 첫 번째 메시지(messages.data[0])의 첫 번째 콘텐츠(content[0])에서 텍스트(text)에 포함된 주석(annotations)을 확인\n",
    "# 첫 번째 주석(annotations[0])의 file_path 속성에서 file_id를 추출\n",
    "\n",
    "file_name = client.files.with_raw_response.retrieve_content(file_path)\n",
    "# 추출한 file_id를 사용하여 해당 파일의 내용을 서버로부터 가져옴\n",
    "# retrieve_content는 지정된 파일의 내용을 반환하며, 이때 with_raw_response를 사용하여 원시 응답을 처리"
   ]
  },
  {
   "cell_type": "code",
   "execution_count": 9,
   "id": "a9d2c288",
   "metadata": {
    "executionInfo": {
     "elapsed": 4,
     "status": "ok",
     "timestamp": 1737306057679,
     "user": {
      "displayName": "주식회사한시경",
      "userId": "01036671795204052858"
     },
     "user_tz": -540
    },
    "id": "a9d2c288"
   },
   "outputs": [],
   "source": [
    "with open(output_file_name, \"wb\") as file:\n",
    "    file.write(file_name.content)"
   ]
  },
  {
   "cell_type": "code",
   "execution_count": 10,
   "id": "cbbedc40",
   "metadata": {
    "colab": {
     "base_uri": "https://localhost:8080/"
    },
    "executionInfo": {
     "elapsed": 5218,
     "status": "ok",
     "timestamp": 1737306062894,
     "user": {
      "displayName": "주식회사한시경",
      "userId": "01036671795204052858"
     },
     "user_tz": -540
    },
    "id": "cbbedc40",
    "outputId": "a6a120c9-7361-4f0d-c2c2-0a1e63f5ad18"
   },
   "outputs": [
    {
     "data": {
      "text/plain": [
       "AssistantDeleted(id='asst_YFlpUChKoQtU8U6vY7Awskjd', deleted=True, object='assistant.deleted')"
      ]
     },
     "execution_count": 10,
     "metadata": {},
     "output_type": "execute_result"
    }
   ],
   "source": [
    "# 특정 파일과 어시스턴트를 삭제하는 작업\n",
    "client.files.delete(file_path)               # file_path로 지정된 파일을 삭제\n",
    "client.beta.assistants.delete(assistant.id)  # assistant.id로 지정된 어시스턴트를 삭제"
   ]
  }
 ],
 "metadata": {
  "colab": {
   "provenance": []
  },
  "kernelspec": {
   "display_name": "KOSA",
   "language": "python",
   "name": "python3"
  },
  "language_info": {
   "codemirror_mode": {
    "name": "ipython",
    "version": 3
   },
   "file_extension": ".py",
   "mimetype": "text/x-python",
   "name": "python",
   "nbconvert_exporter": "python",
   "pygments_lexer": "ipython3",
   "version": "3.10.16"
  }
 },
 "nbformat": 4,
 "nbformat_minor": 5
}
