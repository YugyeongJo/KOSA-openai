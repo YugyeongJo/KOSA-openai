{
 "cells": [
  {
   "cell_type": "markdown",
   "metadata": {
    "id": "ySXRUpjEKAYn"
   },
   "source": [
    "OpenAI에서\n",
    "2023년 3월 1일부로 ChatGPT에 탑재된 gpt-3.5-turbo 모델의 API 서\n",
    "비스를 시작했습니다. API(Application Programming Interface)란 별도\n",
    "의 코드를 활용해 ChatGPT 플랫폼을 사용하는 것을 의미합니다. ChatGPT\n",
    "API를 활용하면 홈페이지에 접속하지 않고도 본인만의 자동화 코드에서\n",
    "ChatGPT 서버에 프롬프트를 입력하고 결과를 받을 수 있습니다. 즉, API 사\n",
    "용법을 익히면 간단하게 수백, 수천 가지의 프롬프트 입력 및 결과 생성이 가\n",
    "능하며, 나아가 본인만의 애플리케이션 안에 ChatGPT를 탑재할 수 있습니다. 이처럼 API의 활용법은 무궁무진하며, 이번 절에서는 기본적인 실습만 진\n",
    "행하도록 하겠습니다."
   ]
  },
  {
   "cell_type": "markdown",
   "metadata": {
    "id": "qmYNZqugKE1n"
   },
   "source": [
    "https://openai.com/pricing"
   ]
  },
  {
   "cell_type": "markdown",
   "metadata": {
    "id": "ZPAuPXavJ8Ns"
   },
   "source": [
    "현재 ChatGPT API는 추가 학습(fine-tuning) 기능은 제공하지 않으며,\n",
    "ChatGPT의 요금 정책은 사용량에 따른 정책만 있습니다. ChatGPT는 유료\n",
    "전환 시 1,000개의 토큰 사용 시 USD $0.002를 부과합니다."
   ]
  },
  {
   "cell_type": "markdown",
   "metadata": {
    "id": "fwkBFIpUtlpr"
   },
   "source": [
    "# 1. 셋팅하기"
   ]
  },
  {
   "cell_type": "markdown",
   "metadata": {
    "id": "yHi2_iXRJA1G"
   },
   "source": [
    "코랩에서 OpenAI ChatGPT API를 실습하려면 openai 라이브러리를 설\n",
    "치해야 합니다. 다음 명령어를 입력합니다"
   ]
  },
  {
   "cell_type": "code",
   "execution_count": null,
   "metadata": {
    "colab": {
     "base_uri": "https://localhost:8080/"
    },
    "executionInfo": {
     "elapsed": 6030,
     "status": "ok",
     "timestamp": 1736653869403,
     "user": {
      "displayName": "주식회사한시경",
      "userId": "01036671795204052858"
     },
     "user_tz": -540
    },
    "id": "1d_S1-cYl8oI",
    "outputId": "94321d5b-164b-4a6e-a5c5-1a67b50034d4"
   },
   "outputs": [
    {
     "name": "stdout",
     "output_type": "stream",
     "text": [
      "Requirement already satisfied: openai in /usr/local/lib/python3.10/dist-packages (1.59.4)\n",
      "Requirement already satisfied: anyio<5,>=3.5.0 in /usr/local/lib/python3.10/dist-packages (from openai) (3.7.1)\n",
      "Requirement already satisfied: distro<2,>=1.7.0 in /usr/local/lib/python3.10/dist-packages (from openai) (1.9.0)\n",
      "Requirement already satisfied: httpx<1,>=0.23.0 in /usr/local/lib/python3.10/dist-packages (from openai) (0.28.1)\n",
      "Requirement already satisfied: jiter<1,>=0.4.0 in /usr/local/lib/python3.10/dist-packages (from openai) (0.8.2)\n",
      "Requirement already satisfied: pydantic<3,>=1.9.0 in /usr/local/lib/python3.10/dist-packages (from openai) (2.10.4)\n",
      "Requirement already satisfied: sniffio in /usr/local/lib/python3.10/dist-packages (from openai) (1.3.1)\n",
      "Requirement already satisfied: tqdm>4 in /usr/local/lib/python3.10/dist-packages (from openai) (4.67.1)\n",
      "Requirement already satisfied: typing-extensions<5,>=4.11 in /usr/local/lib/python3.10/dist-packages (from openai) (4.12.2)\n",
      "Requirement already satisfied: idna>=2.8 in /usr/local/lib/python3.10/dist-packages (from anyio<5,>=3.5.0->openai) (3.10)\n",
      "Requirement already satisfied: exceptiongroup in /usr/local/lib/python3.10/dist-packages (from anyio<5,>=3.5.0->openai) (1.2.2)\n",
      "Requirement already satisfied: certifi in /usr/local/lib/python3.10/dist-packages (from httpx<1,>=0.23.0->openai) (2024.12.14)\n",
      "Requirement already satisfied: httpcore==1.* in /usr/local/lib/python3.10/dist-packages (from httpx<1,>=0.23.0->openai) (1.0.7)\n",
      "Requirement already satisfied: h11<0.15,>=0.13 in /usr/local/lib/python3.10/dist-packages (from httpcore==1.*->httpx<1,>=0.23.0->openai) (0.14.0)\n",
      "Requirement already satisfied: annotated-types>=0.6.0 in /usr/local/lib/python3.10/dist-packages (from pydantic<3,>=1.9.0->openai) (0.7.0)\n",
      "Requirement already satisfied: pydantic-core==2.27.2 in /usr/local/lib/python3.10/dist-packages (from pydantic<3,>=1.9.0->openai) (2.27.2)\n"
     ]
    }
   ],
   "source": [
    "%pip install openai"
   ]
  },
  {
   "cell_type": "markdown",
   "metadata": {
    "id": "ah8l2RHXJDjt"
   },
   "source": [
    "마지막 부분과 같이 ‘Successfully installed openai’라는\n",
    "문구를 확인했다면 import openai를 통해 라이브러리를 불러옵니다. 그\n",
    "후 openai.api_key의 값으로 OpenAI API 키 발급하는 사이트(https://platform.openai.com/account/api-keys) 에서 얻은 키\n",
    "값을 입력합니다."
   ]
  },
  {
   "cell_type": "code",
   "execution_count": 1,
   "metadata": {
    "executionInfo": {
     "elapsed": 4,
     "status": "ok",
     "timestamp": 1736653869404,
     "user": {
      "displayName": "주식회사한시경",
      "userId": "01036671795204052858"
     },
     "user_tz": -540
    },
    "id": "kRmQ-79CoFqw"
   },
   "outputs": [],
   "source": [
    "# api 키 불러오기\n",
    "import os\n",
    "import openai\n",
    "from dotenv import load_dotenv\n",
    "\n",
    "load_dotenv()\n",
    "OPENAI_API_KEY = os.getenv('OPENAI_API_KEY')\n",
    "\n",
    "#api 키 직접 연결하기\n",
    "client = openai.OpenAI(api_key = OPENAI_API_KEY)"
   ]
  },
  {
   "cell_type": "markdown",
   "metadata": {
    "id": "O94YowemtkEu"
   },
   "source": [
    "# 2. 답변 얻기"
   ]
  },
  {
   "cell_type": "markdown",
   "metadata": {
    "id": "51m5L7DMJb6r"
   },
   "source": [
    "본격적으로 ChatGPT API를 사용해봅시다. 사용하는 코드의 형식은 다음\n",
    "과 같습니다. model의 값으로 작성한 gpt-3.5-turbo은 OpenAI의 API를\n",
    "사용할 때 실행되는 ChatGPT의 다른 이름입니다. ChatGPT를 사용하기 위\n",
    "해서는 모델의 값으로 gpt-3.5-turbo 값을 사용해야 합니다. ChatGPT에게\n",
    "작성할 프롬프트는 content의 값으로 입력하며, 이때 큰따옴표(\")로 앞뒤를\n",
    "감싸야 합니다."
   ]
  },
  {
   "cell_type": "markdown",
   "metadata": {
    "id": "WBuNx8DrJh3i"
   },
   "source": [
    "API를 활용해 ChatGPT에게 “2020년 월드시리즈에서 누가 우승했어?”라\n",
    "고 물어보겠습니다."
   ]
  },
  {
   "cell_type": "code",
   "execution_count": 2,
   "metadata": {
    "executionInfo": {
     "elapsed": 1844,
     "status": "ok",
     "timestamp": 1736653942122,
     "user": {
      "displayName": "주식회사한시경",
      "userId": "01036671795204052858"
     },
     "user_tz": -540
    },
    "id": "Xz4bABZVo_OU"
   },
   "outputs": [],
   "source": [
    "from openai import OpenAI\n",
    "client = OpenAI()\n",
    "completion = client.chat.completions.create(\n",
    "    model=\"gpt-4o\",\n",
    "    messages=[\n",
    "        {\"role\": \"user\", \"content\": \"2020년 월드시리즈에서는 누가 우승했어?\"}\n",
    "    ]\n",
    ")"
   ]
  },
  {
   "cell_type": "markdown",
   "metadata": {
    "id": "kNFUxKRBJjxP"
   },
   "source": [
    "OpenAI의 공식 문서에 따르면 ChatGPT의 답변은 response['choices']\n",
    "[0]['message']['content']라는 코드를 통해 얻을 수 있습니다. 파이썬에\n",
    "서 값을 출력하는 함수인 print()에 이 코드를 넣어 ChatGPT의 답변을 출\n",
    "력할 수 있습니다."
   ]
  },
  {
   "cell_type": "code",
   "execution_count": 3,
   "metadata": {
    "colab": {
     "base_uri": "https://localhost:8080/"
    },
    "executionInfo": {
     "elapsed": 296,
     "status": "ok",
     "timestamp": 1736653956313,
     "user": {
      "displayName": "주식회사한시경",
      "userId": "01036671795204052858"
     },
     "user_tz": -540
    },
    "id": "63hZjSXHrLkp",
    "outputId": "3b7829a1-3976-49cb-d7d7-500bd6ff06e6"
   },
   "outputs": [
    {
     "name": "stdout",
     "output_type": "stream",
     "text": [
      "2020년 월드시리즈에서는 로스앤젤레스 다저스가 우승했습니다. 다저스는 탬파베이 레이스를 상대로 시리즈를 4승 2패로 마무리하며 우승을 차지했습니다.\n"
     ]
    }
   ],
   "source": [
    "print(completion.choices[0].message.content)"
   ]
  },
  {
   "cell_type": "markdown",
   "metadata": {
    "id": "KYZsFvAEJlkA"
   },
   "source": [
    "답변을 해줍니다."
   ]
  },
  {
   "cell_type": "markdown",
   "metadata": {
    "id": "kw7JiHbTtooI"
   },
   "source": [
    "# 3. 역할 부여해주기"
   ]
  },
  {
   "cell_type": "markdown",
   "metadata": {
    "id": "F8_lHpd7Jn2o"
   },
   "source": [
    "ChatGPT API를 통해 ChatGPT를 사용할 때는 ChatGPT에게 역할\n",
    "을 지시할 수 있습니다. 여기서 역할 지시란 ChatGPT가 앞으로 답변할 때\n",
    "ChatGPT가 해당 역할로서 답변을 하라는 의미입니다. 앞으로 안내하는 역\n",
    "할 지시 방법은 항상 지시한 역할대로 동작한다는 보장은 없지만 역할 지시문\n",
    "에 따라 답변 자체의 방향성을 바꿔버리기도 합니다.\n",
    "역할을 지시하려면 기존 코드에서 messages=[] 안에 {\"role\": \"system\",\n",
    "\"content\": \"<ChatGPT가 수행할 역할>\"}를 추가로 작성합니다. 예를 들\n",
    "어, ChatGPT에게 친절하게 답변해주는 비서라는 역할을 부여해봅시다. 코드\n",
    "는 다음과 같습니다."
   ]
  },
  {
   "cell_type": "code",
   "execution_count": 4,
   "metadata": {
    "executionInfo": {
     "elapsed": 1393,
     "status": "ok",
     "timestamp": 1736653996769,
     "user": {
      "displayName": "주식회사한시경",
      "userId": "01036671795204052858"
     },
     "user_tz": -540
    },
    "id": "CZ8TM-ewqoD5"
   },
   "outputs": [],
   "source": [
    "from openai import OpenAI\n",
    "client = OpenAI()\n",
    "completion = client.chat.completions.create(\n",
    "  model=\"gpt-3.5-turbo\",\n",
    "  messages=[\n",
    "      {\"role\": \"system\", \"content\": \"너는 친절하게 답변해주는 비서야\"},\n",
    "        {\"role\": \"user\", \"content\": \"2020년 월드시리즈에서는 누가 우승했어?\"}\n",
    "    ]\n",
    ")"
   ]
  },
  {
   "cell_type": "code",
   "execution_count": 5,
   "metadata": {
    "colab": {
     "base_uri": "https://localhost:8080/"
    },
    "executionInfo": {
     "elapsed": 307,
     "status": "ok",
     "timestamp": 1736653998078,
     "user": {
      "displayName": "주식회사한시경",
      "userId": "01036671795204052858"
     },
     "user_tz": -540
    },
    "id": "DSJ4vmj4qxTV",
    "outputId": "c74e23e0-572e-4651-99c7-4552a4aae50c"
   },
   "outputs": [
    {
     "name": "stdout",
     "output_type": "stream",
     "text": [
      "2020년 월드시리즈에서는 탬파베이 레이스와 로스앤젤레스 다저스가 대결했고, 다저스가 4승 2패로 우승을 차지했어.\n"
     ]
    }
   ],
   "source": [
    "print(completion.choices[0].message.content)"
   ]
  },
  {
   "cell_type": "markdown",
   "metadata": {
    "id": "rDkNDwtjJqeN"
   },
   "source": [
    "동일하게 로스앤젤레스 다저스가 우승했다는 답변을 합니다. \n",
    "이전과는 조금 더 상세한 답변이 작성되었지만 ChatGPT는 원래도 동일한 질문에 다른 답변을 하는 챗봇이므로 이것만으로는 역할 지시문이 동작했는지는 알 수 없습니다.\n",
    "이번에는 역할 지시문에 한국어로 질문해도 영어로 답변하는 챗봇이라는 지시문을 넣어봅시다. \n",
    "참고로 역할 지시문의 경우 한국어가 아니라 영어로 지시문을 작성해야 더 잘 동작하는 경향이 있습니다. \n",
    "그래서 이번에는 영어로 지시문을 작성합니다."
   ]
  },
  {
   "cell_type": "code",
   "execution_count": 6,
   "metadata": {
    "executionInfo": {
     "elapsed": 553,
     "status": "ok",
     "timestamp": 1736654015105,
     "user": {
      "displayName": "주식회사한시경",
      "userId": "01036671795204052858"
     },
     "user_tz": -540
    },
    "id": "EAoknRM5rQyZ"
   },
   "outputs": [],
   "source": [
    "from openai import OpenAI\n",
    "client = OpenAI()\n",
    "completion = client.chat.completions.create(\n",
    "  model=\"gpt-3.5-turbo\",\n",
    "  messages=[\n",
    "      {\"role\": \"system\", \"content\": \"You are a chatbot that answers questions in English even in Korean.\"},\n",
    "        {\"role\": \"user\", \"content\": \"2020년 월드시리즈에서는 누가 우승했어?\"}\n",
    "    ]\n",
    ")"
   ]
  },
  {
   "cell_type": "code",
   "execution_count": 7,
   "metadata": {
    "colab": {
     "base_uri": "https://localhost:8080/"
    },
    "executionInfo": {
     "elapsed": 263,
     "status": "ok",
     "timestamp": 1736654018493,
     "user": {
      "displayName": "주식회사한시경",
      "userId": "01036671795204052858"
     },
     "user_tz": -540
    },
    "id": "0UTvVlbcrW0O",
    "outputId": "6070ee04-b74f-4602-8984-4f07281eda98"
   },
   "outputs": [
    {
     "name": "stdout",
     "output_type": "stream",
     "text": [
      "The Los Angeles Dodgers won the 2020 World Series.\n"
     ]
    }
   ],
   "source": [
    "print(completion.choices[0].message.content)"
   ]
  },
  {
   "cell_type": "markdown",
   "metadata": {
    "id": "JNjR8E43BIfs"
   },
   "source": [
    "이번에는 입력을 번역하라고 해봅시다."
   ]
  },
  {
   "cell_type": "code",
   "execution_count": 8,
   "metadata": {
    "executionInfo": {
     "elapsed": 722,
     "status": "ok",
     "timestamp": 1736654034384,
     "user": {
      "displayName": "주식회사한시경",
      "userId": "01036671795204052858"
     },
     "user_tz": -540
    },
    "id": "5uLv3chEsr_N"
   },
   "outputs": [],
   "source": [
    "from openai import OpenAI\n",
    "client = OpenAI()\n",
    "completion = client.chat.completions.create(\n",
    "  model=\"gpt-3.5-turbo\",\n",
    "  messages=[\n",
    "      {\"role\": \"system\", \"content\": \"You are a translator who translates user input.\"},\n",
    "        {\"role\": \"user\", \"content\": \"2020년 월드시리즈에서는 누가 우승했어?\"}\n",
    "    ]\n",
    ")"
   ]
  },
  {
   "cell_type": "code",
   "execution_count": 9,
   "metadata": {
    "colab": {
     "base_uri": "https://localhost:8080/"
    },
    "executionInfo": {
     "elapsed": 271,
     "status": "ok",
     "timestamp": 1736654045069,
     "user": {
      "displayName": "주식회사한시경",
      "userId": "01036671795204052858"
     },
     "user_tz": -540
    },
    "id": "ajin-SnHs3-y",
    "outputId": "2b7681b5-c25c-412c-fac2-e94e5d76b630"
   },
   "outputs": [
    {
     "name": "stdout",
     "output_type": "stream",
     "text": [
      "Who won the 2020 World Series?\n"
     ]
    }
   ],
   "source": [
    "print(completion.choices[0].message.content)"
   ]
  },
  {
   "cell_type": "markdown",
   "metadata": {
    "id": "pDqxtWglJyJu"
   },
   "source": [
    "ChatGPT가 사용자의 질문에 대답하는 것이 아니라 질문을 영어로 번역하\n",
    "여 답변합니다."
   ]
  },
  {
   "cell_type": "markdown",
   "metadata": {
    "id": "ghojb8dRtfef"
   },
   "source": [
    "# 4. 이전 대화를 포함하여 답변하기"
   ]
  },
  {
   "cell_type": "markdown",
   "metadata": {
    "id": "O5MismfPJ2No"
   },
   "source": [
    "ChatGPT는 답변할 때 이전 질문과 답변\n",
    "을 모두 고려하여 답변하는 특징이 있습니다. ChatGPT API를 이용하면\n",
    "ChatGPT에게 답변을 요청할 때 ChatGPT에게 ‘앞서 네가 이런 답변을 한 상\n",
    "태였다’라는 정보를 주는 것이 가능합니다. 이것은 사용자가 가정하는 것이지\n",
    "만 ChatGPT는 마치 과거에 ChatGPT 자신이 답변한 것으로 가정하고, 추가\n",
    "답변을 합니다.\n",
    "이렇게 질문을 작성하려면 messages=[ ] 안에 {\"role\": \"user\",\n",
    "\"content\": \"<사용자의 이전 프롬프트>\"}를 작성한 후 {\"role\":\n",
    "\"assistant\", \"content\": \"<ChatGPT의 이전 답변>\"}을 추가로 작성하고,\n",
    "다시 {\"role\": \"user\", \"content\": \"<ChatGPT 이전 답변 이후의 사용자\n",
    "의 프롬프트>\"}를 번갈아 작성하면 됩니다. 실제 코드를 통해 확인해봅시다.\n",
    "다음 코드에서는 사용자가 ChatGPT에게 “2002년 월드컵에서 가장 화제\n",
    "가 되었던 나라는 어디야?”라고 질문한 후, ChatGPT가 “바로 예상을 뚫고 4\n",
    "강 진출 신화를 일으킨 한국입니다.”라고 답변했다고 가정하고, 사용자가 다\n",
    "시 “그 나라가 화제가 되었던 이유를 자세하게 설명해줘”라고 질문한 상태를\n",
    "가정하고 ChatGPT의 답변을 얻습니다."
   ]
  },
  {
   "cell_type": "code",
   "execution_count": 10,
   "metadata": {
    "executionInfo": {
     "elapsed": 3943,
     "status": "ok",
     "timestamp": 1736654067248,
     "user": {
      "displayName": "주식회사한시경",
      "userId": "01036671795204052858"
     },
     "user_tz": -540
    },
    "id": "0Vf-Ys3qnD-O"
   },
   "outputs": [],
   "source": [
    "from openai import OpenAI\n",
    "client = OpenAI()\n",
    "completion = client.chat.completions.create(\n",
    "  model=\"gpt-3.5-turbo\",\n",
    "  messages=[\n",
    "        {\"role\": \"user\", \"content\": \"2002년 월드컵에서 가장 화제가 되었던 나라는 어디야?\"},\n",
    "        {\"role\": \"assistant\", \"content\": \"바로 예상을 뚫고 4강 진출 신화를 일으킨 한국입니다.\"},\n",
    "        {\"role\": \"user\", \"content\": \"그 나라가 화제가 되었던 이유를 자세하게 설명해줘\"}\n",
    "    ]\n",
    ")"
   ]
  },
  {
   "cell_type": "code",
   "execution_count": 11,
   "metadata": {
    "colab": {
     "base_uri": "https://localhost:8080/"
    },
    "executionInfo": {
     "elapsed": 303,
     "status": "ok",
     "timestamp": 1736654075237,
     "user": {
      "displayName": "주식회사한시경",
      "userId": "01036671795204052858"
     },
     "user_tz": -540
    },
    "id": "j4JHXMERsNHm",
    "outputId": "0f64bfe4-7646-47e7-966c-2822f27e927e"
   },
   "outputs": [
    {
     "name": "stdout",
     "output_type": "stream",
     "text": [
      "한국이 2002년 월드컵에서 화제가 되었던 이유는 몇 가지가 있습니다. \n",
      "\n",
      "첫째로, 한국은 호스트국인 일본과 함께 월드컵을 개최하고 있었습니다. 이로 인해 한국은 전 세계적으로 주목받는 기회를 가지게 되었고, 많은 사람들의 관심을 받았습니다.\n",
      "\n",
      "둘째로, 한국 대표팀이 예상치 못한 성적을 거두었습니다. 그 해 대회에서 한국은 4강까지 진출하여 역대 최고 성적을 기록했는데, 이는 한국 축구사의 역사상 이례적인 일이었습니다. 한국 대표팀은 일본, 이탈리아, 스페인 등 강호를 상대로 놀라운 경기력을 보여주었고, 이로써 세계적인 주목을 받았습니다.\n",
      "\n",
      "또한, 한국의 열정적인 팬들과 경기장 분위기도 월드컵 기간 동안 화제가 되었습니다. 한국의 축구 열정과 열광적인 응원은 세계적인 관중들에게 인상깊은 경험을 주었고, 한국 축구 팬들은 대회 끝나고도 긍정적인 평가를 받았습니다.\n",
      "\n",
      "이러한 이유들로 2002년 월드컵에서 한국은 가장 화제가 되었던 나라 중 하나로 꼽히게 되었습니다.\n"
     ]
    }
   ],
   "source": [
    "print(completion.choices[0].message.content)"
   ]
  },
  {
   "cell_type": "markdown",
   "metadata": {
    "id": "0hBAptZXBLX4"
   },
   "source": [
    "## 5. 데이터 레이블링하기"
   ]
  },
  {
   "cell_type": "markdown",
   "metadata": {
    "id": "UKm7wKuMF8lu"
   },
   "source": [
    "few-shot"
   ]
  },
  {
   "cell_type": "code",
   "execution_count": 12,
   "metadata": {
    "executionInfo": {
     "elapsed": 269,
     "status": "ok",
     "timestamp": 1736654169639,
     "user": {
      "displayName": "주식회사한시경",
      "userId": "01036671795204052858"
     },
     "user_tz": -540
    },
    "id": "c94FVSaKCXK2"
   },
   "outputs": [],
   "source": [
    "def return_label(text):\n",
    "  prompt = '''When input comes in, you should return the main keywords that represent the topic of the content in the form of a Python list.\n",
    "        Keywords should be in the form of a Python list of no more than four compound nouns that best reflect the subject.\n",
    "\n",
    "        제주에서 출발하는 김포행 아시아나항공 여객기에 문제가 발생해 탑승까지 마친 승객 190여명의 발이 묶였다. 기내 탑승까지 마쳤던 승객들은 다시 비행기에서 내려 현재 제주공항에서 대기 중이다.\n",
    "        13일 한국공항공사 제주공항과 아시아나항공 등에 따르면 이날 오전 6시 30분 제주발 김포행 아시아나 OZ8900편 항공기에서 비상 착수 장비인 슬라이드 고정 프레임에 문제가 발생했다. 아시아나항공 관계자는 “항공기 자체 결함은 아니다”라면서 “손님이 탑승 중 비상구 레버와 접촉해 비상구 사용 불가 상태가 되면서 손님을 분산해 출발할 예정”이라고 전했다.\n",
    "\n",
    "        For example, from the text above you should return output like\n",
    "        Kewwords : ['김포행 아시아나항공 여객기', '승객 190여명', '비상 착수 장비', '슬라이드 고정 프레임에 문제']\n",
    "\n",
    "        서울 노원구에서 중고폰 할인매장을 운영하는 40대 정모씨는 중고거래 플랫폼 ‘당근마켓’ 알림을 켜놓고 중고폰을 매입하고 있다. 상태 좋은 중고폰이 많이 나오는 당근마켓 등으로 매입처를 확대한 것이다. 중고폰 중에서도 아이폰X 이후 모델은 매입 ‘1순위’다. 정씨는 “중고폰을 찾는 소비자들이 늘고 있지만 아이폰X 이후 모델은 없어서 못 팔 정도다”라며 “청소년과 대학생이 매장을 많이 찾는데 이들 중 90% 이상이 중고 아이폰을 구입해 간다”라고 했다.\n",
    "\n",
    "        For example, from the text above you should return output like\n",
    "        Kewwords : ['당근마켓', '중고폰을 매입', '아이폰X', '청소년과 대학생']\n",
    "        '''\n",
    "\n",
    "  client = OpenAI()\n",
    "  response = client.chat.completions.create(\n",
    "    model=\"gpt-3.5-turbo\",\n",
    "    messages=[\n",
    "        {\"role\": \"system\", \"content\": prompt},\n",
    "          {\"role\": \"user\", \"content\": text}\n",
    "      ]\n",
    "  )\n",
    "  return response.choices[0].message.content"
   ]
  },
  {
   "cell_type": "code",
   "execution_count": 13,
   "metadata": {
    "colab": {
     "base_uri": "https://localhost:8080/",
     "height": 35
    },
    "executionInfo": {
     "elapsed": 1138,
     "status": "ok",
     "timestamp": 1736654173322,
     "user": {
      "displayName": "주식회사한시경",
      "userId": "01036671795204052858"
     },
     "user_tz": -540
    },
    "id": "R_1cjGmpCSZm",
    "outputId": "ffafafaa-3c4a-41e6-8371-af1d3419b7ff"
   },
   "outputs": [
    {
     "data": {
      "text/plain": [
       "\"Keywords : ['금융투자업계', '중소형 증권사', '스몰캡 애널리스트들', '리서치 강자']\""
      ]
     },
     "execution_count": 13,
     "metadata": {},
     "output_type": "execute_result"
    }
   ],
   "source": [
    "input_text = '''13일 금융투자업계에 따르면 최근 중소형 증권사에서 경력이 길지 않은 스몰캡 애널리스트들이 연이어 퇴사한 것으로 알려졌다. 최근 A투자증권에 재직하던 스몰캡 담당 연구원은 독립리서치로 자리를 옮겼다. B증권에서는 종목 보고서 발간 기업이 거래정지돼 도마 위에 올랐던 한 연구원이 올해 초 회사를 떠났다. 리서치 강자로 꼽히는 C증권에서는 리서치 보조(RA)만 하다가 연구원으로 정식 데뷔를 못하고 떠난 사례가 여럿이다.'''\n",
    "return_label(input_text)"
   ]
  },
  {
   "cell_type": "markdown",
   "metadata": {
    "id": "PVdZg6TGF9-G"
   },
   "source": [
    "zero-shot"
   ]
  },
  {
   "cell_type": "code",
   "execution_count": 14,
   "metadata": {
    "executionInfo": {
     "elapsed": 272,
     "status": "ok",
     "timestamp": 1736654213726,
     "user": {
      "displayName": "주식회사한시경",
      "userId": "01036671795204052858"
     },
     "user_tz": -540
    },
    "id": "8MkLO6_yC_3Q"
   },
   "outputs": [],
   "source": [
    "def return_label(text):\n",
    "  prompt = '''주어진 텍스트로부터 적절한 제목을 만들어줘. 제목은 간결하고 너무 길어서는 안 돼.'''\n",
    "\n",
    "  client = OpenAI()\n",
    "  response = client.chat.completions.create(\n",
    "    model=\"gpt-3.5-turbo\",\n",
    "    messages=[\n",
    "        {\"role\": \"system\", \"content\": prompt},\n",
    "          {\"role\": \"user\", \"content\": text}\n",
    "      ]\n",
    "  )\n",
    "  return response.choices[0].message.content"
   ]
  },
  {
   "cell_type": "code",
   "execution_count": 15,
   "metadata": {
    "colab": {
     "base_uri": "https://localhost:8080/",
     "height": 35
    },
    "executionInfo": {
     "elapsed": 897,
     "status": "ok",
     "timestamp": 1736654217973,
     "user": {
      "displayName": "주식회사한시경",
      "userId": "01036671795204052858"
     },
     "user_tz": -540
    },
    "id": "XiVouQJTE81X",
    "outputId": "6fa81ae3-34bd-4a83-c9e5-0d1c182f5082"
   },
   "outputs": [
    {
     "data": {
      "text/plain": [
       "'\"이복현 금융감독원장, 해외 출장 조명\"'"
      ]
     },
     "execution_count": 15,
     "metadata": {},
     "output_type": "execute_result"
    }
   ],
   "source": [
    "input_text = '''지난 11일 국회 정무위원회 전체 회의에선 이복현 금융감독원장의 해외 출장길이 도마 에 올랐다. 이 원장이 지난 8일부터 닷새간 동남아 싱가포르·인도네시아·태국 등 주요 3개국 출장을 떠나 이날 회의에 참석하지 못했기 때문이다. 금감원에선 이준수·함용일 부원장이 전체 회의에 대참했다.\n",
    "\n",
    "이 원장의 이번 출장은 국내 금융사의 투자 유치와 해외진출 확대를 지원하기 위해서다. 이 출장에는 윤종규 KB금융그룹 회장, 함영주 하나금융그룹 회장을 비롯해 최현만 미래에셋증권 회장, 정일문 한국투자증권 사장, 홍원학 삼성화재 사장, 원종규 코리안리 사장 등 6개 금융사 최고경영자(CEO)도 동행했다.\n",
    "\n",
    "야당의 지적처럼 금융권 일각에선 이번 출장을 두고 다소 의아하다는 시각이 있었다. 금감원이 해외에서 IR 행사를 하긴 하지만, 금융위원장이 아니라 금감원장이 직접 나간 적은 드물어서다. 금감원도 이를 의식한 듯 관련 보도자료에 ‘이번 금감원장의 해외 IR 참여는 몇몇 금융사 회장들이 지난해부터 요청해서 이뤄진 것’이라는 해명을 덧붙이기도 했다.'''\n",
    "\n",
    "return_label(input_text)"
   ]
  }
 ],
 "metadata": {
  "colab": {
   "provenance": [
    {
     "file_id": "1G00ZYve6JiUrMNaR5WIoCDbgqP5a6FE9",
     "timestamp": 1736653619045
    },
    {
     "file_id": "1r8W7nG6N1ti627gBf-3hOFDvbu-E5Xw7",
     "timestamp": 1683997668032
    },
    {
     "file_id": "1Jp7fOvD7LWhtJ-aFUIyNNv8leBYOiRQv",
     "timestamp": 1683996365621
    },
    {
     "file_id": "1rlOWPJi1r0G7ZONT0IMzFz8Evw8UJnGU",
     "timestamp": 1682136344900
    },
    {
     "file_id": "116R94igKqOQfqrqBHLzYDrbfKs3B1gZc",
     "timestamp": 1678358312225
    }
   ]
  },
  "kernelspec": {
   "display_name": "KOSA",
   "language": "python",
   "name": "python3"
  },
  "language_info": {
   "codemirror_mode": {
    "name": "ipython",
    "version": 3
   },
   "file_extension": ".py",
   "mimetype": "text/x-python",
   "name": "python",
   "nbconvert_exporter": "python",
   "pygments_lexer": "ipython3",
   "version": "3.10.16"
  }
 },
 "nbformat": 4,
 "nbformat_minor": 0
}
